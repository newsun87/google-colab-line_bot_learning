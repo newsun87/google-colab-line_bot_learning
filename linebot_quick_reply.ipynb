{
  "cells": [
    {
      "cell_type": "markdown",
      "metadata": {
        "id": "view-in-github",
        "colab_type": "text"
      },
      "source": [
        "<a href=\"https://colab.research.google.com/github/newsun87/google-colab-line_bot_learning/blob/main/linebot_quick_reply.ipynb\" target=\"_parent\"><img src=\"https://colab.research.google.com/assets/colab-badge.svg\" alt=\"Open In Colab\"/></a>"
      ]
    },
    {
      "cell_type": "markdown",
      "metadata": {
        "id": "j7WUPgWH4OF2"
      },
      "source": [
        "### Quick Reply Message 設計"
      ]
    },
    {
      "cell_type": "code",
      "execution_count": 1,
      "metadata": {
        "colab": {
          "base_uri": "https://localhost:8080/"
        },
        "id": "VqnhjGV4YYKg",
        "outputId": "ab0fec36-f42b-4ce0-f610-89beabe12547"
      },
      "outputs": [
        {
          "output_type": "stream",
          "name": "stdout",
          "text": [
            "Collecting flask_ngrok\n",
            "  Downloading flask_ngrok-0.0.25-py3-none-any.whl (3.1 kB)\n",
            "Collecting pyngrok\n",
            "  Downloading pyngrok-6.0.0.tar.gz (681 kB)\n",
            "\u001b[2K     \u001b[90m━━━━━━━━━━━━━━━━━━━━━━━━━━━━━━━━━━━━━━━\u001b[0m \u001b[32m681.2/681.2 kB\u001b[0m \u001b[31m4.3 MB/s\u001b[0m eta \u001b[36m0:00:00\u001b[0m\n",
            "\u001b[?25h  Preparing metadata (setup.py) ... \u001b[?25l\u001b[?25hdone\n",
            "Requirement already satisfied: Flask>=0.8 in /usr/local/lib/python3.10/dist-packages (from flask_ngrok) (2.2.5)\n",
            "Requirement already satisfied: requests in /usr/local/lib/python3.10/dist-packages (from flask_ngrok) (2.31.0)\n",
            "Requirement already satisfied: PyYAML in /usr/local/lib/python3.10/dist-packages (from pyngrok) (6.0.1)\n",
            "Requirement already satisfied: Werkzeug>=2.2.2 in /usr/local/lib/python3.10/dist-packages (from Flask>=0.8->flask_ngrok) (2.3.7)\n",
            "Requirement already satisfied: Jinja2>=3.0 in /usr/local/lib/python3.10/dist-packages (from Flask>=0.8->flask_ngrok) (3.1.2)\n",
            "Requirement already satisfied: itsdangerous>=2.0 in /usr/local/lib/python3.10/dist-packages (from Flask>=0.8->flask_ngrok) (2.1.2)\n",
            "Requirement already satisfied: click>=8.0 in /usr/local/lib/python3.10/dist-packages (from Flask>=0.8->flask_ngrok) (8.1.7)\n",
            "Requirement already satisfied: charset-normalizer<4,>=2 in /usr/local/lib/python3.10/dist-packages (from requests->flask_ngrok) (3.2.0)\n",
            "Requirement already satisfied: idna<4,>=2.5 in /usr/local/lib/python3.10/dist-packages (from requests->flask_ngrok) (3.4)\n",
            "Requirement already satisfied: urllib3<3,>=1.21.1 in /usr/local/lib/python3.10/dist-packages (from requests->flask_ngrok) (2.0.4)\n",
            "Requirement already satisfied: certifi>=2017.4.17 in /usr/local/lib/python3.10/dist-packages (from requests->flask_ngrok) (2023.7.22)\n",
            "Requirement already satisfied: MarkupSafe>=2.0 in /usr/local/lib/python3.10/dist-packages (from Jinja2>=3.0->Flask>=0.8->flask_ngrok) (2.1.3)\n",
            "Building wheels for collected packages: pyngrok\n",
            "  Building wheel for pyngrok (setup.py) ... \u001b[?25l\u001b[?25hdone\n",
            "  Created wheel for pyngrok: filename=pyngrok-6.0.0-py3-none-any.whl size=19867 sha256=860cb4c042bca93e98c3781f3774f487e836ca00ec6cfe3c153b57a0674174e4\n",
            "  Stored in directory: /root/.cache/pip/wheels/5c/42/78/0c3d438d7f5730451a25f7ac6cbf4391759d22a67576ed7c2c\n",
            "Successfully built pyngrok\n",
            "Installing collected packages: pyngrok, flask_ngrok\n",
            "Successfully installed flask_ngrok-0.0.25 pyngrok-6.0.0\n",
            "Collecting Flask==2.0.3\n",
            "  Downloading Flask-2.0.3-py3-none-any.whl (95 kB)\n",
            "\u001b[2K     \u001b[90m━━━━━━━━━━━━━━━━━━━━━━━━━━━━━━━━━━━━━━━━\u001b[0m \u001b[32m95.6/95.6 kB\u001b[0m \u001b[31m2.2 MB/s\u001b[0m eta \u001b[36m0:00:00\u001b[0m\n",
            "\u001b[?25hRequirement already satisfied: Werkzeug>=2.0 in /usr/local/lib/python3.10/dist-packages (from Flask==2.0.3) (2.3.7)\n",
            "Requirement already satisfied: Jinja2>=3.0 in /usr/local/lib/python3.10/dist-packages (from Flask==2.0.3) (3.1.2)\n",
            "Requirement already satisfied: itsdangerous>=2.0 in /usr/local/lib/python3.10/dist-packages (from Flask==2.0.3) (2.1.2)\n",
            "Requirement already satisfied: click>=7.1.2 in /usr/local/lib/python3.10/dist-packages (from Flask==2.0.3) (8.1.7)\n",
            "Requirement already satisfied: MarkupSafe>=2.0 in /usr/local/lib/python3.10/dist-packages (from Jinja2>=3.0->Flask==2.0.3) (2.1.3)\n",
            "Installing collected packages: Flask\n",
            "  Attempting uninstall: Flask\n",
            "    Found existing installation: Flask 2.2.5\n",
            "    Uninstalling Flask-2.2.5:\n",
            "      Successfully uninstalled Flask-2.2.5\n",
            "Successfully installed Flask-2.0.3\n",
            "Collecting line-bot-sdk\n",
            "  Downloading line_bot_sdk-3.3.0-py2.py3-none-any.whl (730 kB)\n",
            "\u001b[2K     \u001b[90m━━━━━━━━━━━━━━━━━━━━━━━━━━━━━━━━━━━━━━━\u001b[0m \u001b[32m730.6/730.6 kB\u001b[0m \u001b[31m6.1 MB/s\u001b[0m eta \u001b[36m0:00:00\u001b[0m\n",
            "\u001b[?25hRequirement already satisfied: requests==2.31.0 in /usr/local/lib/python3.10/dist-packages (from line-bot-sdk) (2.31.0)\n",
            "Requirement already satisfied: aiohttp==3.8.5 in /usr/local/lib/python3.10/dist-packages (from line-bot-sdk) (3.8.5)\n",
            "Requirement already satisfied: future in /usr/local/lib/python3.10/dist-packages (from line-bot-sdk) (0.18.3)\n",
            "Requirement already satisfied: pydantic<3,>=2.0.3 in /usr/local/lib/python3.10/dist-packages (from line-bot-sdk) (2.2.1)\n",
            "Collecting aenum>=3.1.11 (from line-bot-sdk)\n",
            "  Downloading aenum-3.1.15-py3-none-any.whl (137 kB)\n",
            "\u001b[2K     \u001b[90m━━━━━━━━━━━━━━━━━━━━━━━━━━━━━━━━━━━━━━━\u001b[0m \u001b[32m137.6/137.6 kB\u001b[0m \u001b[31m8.0 MB/s\u001b[0m eta \u001b[36m0:00:00\u001b[0m\n",
            "\u001b[?25hRequirement already satisfied: python-dateutil>=2.5.3 in /usr/local/lib/python3.10/dist-packages (from line-bot-sdk) (2.8.2)\n",
            "Collecting Deprecated (from line-bot-sdk)\n",
            "  Downloading Deprecated-1.2.14-py2.py3-none-any.whl (9.6 kB)\n",
            "Requirement already satisfied: attrs>=17.3.0 in /usr/local/lib/python3.10/dist-packages (from aiohttp==3.8.5->line-bot-sdk) (23.1.0)\n",
            "Requirement already satisfied: charset-normalizer<4.0,>=2.0 in /usr/local/lib/python3.10/dist-packages (from aiohttp==3.8.5->line-bot-sdk) (3.2.0)\n",
            "Requirement already satisfied: multidict<7.0,>=4.5 in /usr/local/lib/python3.10/dist-packages (from aiohttp==3.8.5->line-bot-sdk) (6.0.4)\n",
            "Requirement already satisfied: async-timeout<5.0,>=4.0.0a3 in /usr/local/lib/python3.10/dist-packages (from aiohttp==3.8.5->line-bot-sdk) (4.0.3)\n",
            "Requirement already satisfied: yarl<2.0,>=1.0 in /usr/local/lib/python3.10/dist-packages (from aiohttp==3.8.5->line-bot-sdk) (1.9.2)\n",
            "Requirement already satisfied: frozenlist>=1.1.1 in /usr/local/lib/python3.10/dist-packages (from aiohttp==3.8.5->line-bot-sdk) (1.4.0)\n",
            "Requirement already satisfied: aiosignal>=1.1.2 in /usr/local/lib/python3.10/dist-packages (from aiohttp==3.8.5->line-bot-sdk) (1.3.1)\n",
            "Requirement already satisfied: idna<4,>=2.5 in /usr/local/lib/python3.10/dist-packages (from requests==2.31.0->line-bot-sdk) (3.4)\n",
            "Requirement already satisfied: urllib3<3,>=1.21.1 in /usr/local/lib/python3.10/dist-packages (from requests==2.31.0->line-bot-sdk) (2.0.4)\n",
            "Requirement already satisfied: certifi>=2017.4.17 in /usr/local/lib/python3.10/dist-packages (from requests==2.31.0->line-bot-sdk) (2023.7.22)\n",
            "Requirement already satisfied: annotated-types>=0.4.0 in /usr/local/lib/python3.10/dist-packages (from pydantic<3,>=2.0.3->line-bot-sdk) (0.5.0)\n",
            "Requirement already satisfied: pydantic-core==2.6.1 in /usr/local/lib/python3.10/dist-packages (from pydantic<3,>=2.0.3->line-bot-sdk) (2.6.1)\n",
            "Requirement already satisfied: typing-extensions>=4.6.1 in /usr/local/lib/python3.10/dist-packages (from pydantic<3,>=2.0.3->line-bot-sdk) (4.7.1)\n",
            "Requirement already satisfied: six>=1.5 in /usr/local/lib/python3.10/dist-packages (from python-dateutil>=2.5.3->line-bot-sdk) (1.16.0)\n",
            "Requirement already satisfied: wrapt<2,>=1.10 in /usr/local/lib/python3.10/dist-packages (from Deprecated->line-bot-sdk) (1.14.1)\n",
            "Installing collected packages: aenum, Deprecated, line-bot-sdk\n",
            "Successfully installed Deprecated-1.2.14 aenum-3.1.15 line-bot-sdk-3.3.0\n",
            "Authtoken saved to configuration file: /root/.ngrok2/ngrok.yml\n"
          ]
        }
      ],
      "source": [
        "!pip install flask_ngrok pyngrok\n",
        "!pip install Flask==2.0.3\n",
        "!pip install line-bot-sdk\n",
        "!ngrok authtoken 2Sh3hFOuE9JYeMNTsS6EzBxHPIL_6xdGTubFt7b9kSeUDFVYH"
      ]
    },
    {
      "cell_type": "markdown",
      "metadata": {
        "id": "H6bognEHDKFj"
      },
      "source": [
        "#### Quick reply 最多可以支援 13 個 Action，並且支援 postback、message、datetimepicker、camera、camera rolla"
      ]
    },
    {
      "cell_type": "markdown",
      "metadata": {
        "id": "K4ArR7OV2cpK"
      },
      "source": [
        "Quick_Reply 搭配  MessageAction() 及 PostbackAction()"
      ]
    },
    {
      "cell_type": "code",
      "execution_count": 15,
      "metadata": {
        "colab": {
          "base_uri": "https://localhost:8080/"
        },
        "id": "bzkAck_Tsv4p",
        "outputId": "83192532-bad5-401c-b6f5-cbe12aa5ed3c"
      },
      "outputs": [
        {
          "output_type": "stream",
          "name": "stdout",
          "text": [
            "https://1c88-35-197-81-136.ngrok-free.app\n"
          ]
        },
        {
          "output_type": "stream",
          "name": "stderr",
          "text": [
            "<ipython-input-15-70f853e9c78e>:23: LineBotSdkDeprecatedIn30: Call to deprecated class LineBotApi. (Use v3 class; linebot.v3.<feature>. See https://github.com/line/line-bot-sdk-python/blob/master/README.rst for more details.) -- Deprecated since version 3.0.0.\n",
            "  line_bot_api = LineBotApi(access_token)\n",
            "<ipython-input-15-70f853e9c78e>:25: LineBotSdkDeprecatedIn30: Call to deprecated class WebhookHandler. (Use 'from linebot.v3.webhook import WebhookHandler' instead. See https://github.com/line/line-bot-sdk-python/blob/master/README.rst for more details.) -- Deprecated since version 3.0.0.\n",
            "  line_handler = WebhookHandler(channel_secret)\n",
            "<ipython-input-15-70f853e9c78e>:27: LineBotSdkDeprecatedIn30: Call to deprecated method set_webhook_endpoint. (Use 'from linebot.v3.messaging import MessagingApi' and 'MessagingApi(...).set_webhook_endpoint(...)' instead. See https://github.com/line/line-bot-sdk-python/blob/master/README.rst for more details.) -- Deprecated since version 3.0.0.\n",
            "  line_bot_api.set_webhook_endpoint(ngrok_url+'/callback')\n"
          ]
        },
        {
          "output_type": "stream",
          "name": "stdout",
          "text": [
            " * Serving Flask app '__main__' (lazy loading)\n",
            " * Environment: production\n",
            "\u001b[31m   WARNING: This is a development server. Do not use it in a production deployment.\u001b[0m\n",
            "\u001b[2m   Use a production WSGI server instead.\u001b[0m\n",
            " * Debug mode: off\n"
          ]
        },
        {
          "output_type": "stream",
          "name": "stderr",
          "text": [
            "INFO:werkzeug:\u001b[31m\u001b[1mWARNING: This is a development server. Do not use it in a production deployment. Use a production WSGI server instead.\u001b[0m\n",
            " * Running on http://127.0.0.1:5000\n",
            "INFO:werkzeug:\u001b[33mPress CTRL+C to quit\u001b[0m\n"
          ]
        },
        {
          "output_type": "stream",
          "name": "stdout",
          "text": [
            "訊息內容 {'destination': 'Uef68021487469a005636e72e466f9acc', 'events': [{'type': 'message', 'message': {'type': 'text', 'id': '470853457206050885', 'text': '我想吃東西'}, 'webhookEventId': '01H95P46D5BGEAV8CWGHA5HJ9K', 'deliveryContext': {'isRedelivery': False}, 'timestamp': 1693481834674, 'source': {'type': 'user', 'userId': 'Ubf2b9f4188d45848fb4697d41c962591'}, 'replyToken': 'bae50e138280463eb400bdbe4ae7de09', 'mode': 'active'}]}\n"
          ]
        },
        {
          "output_type": "stream",
          "name": "stderr",
          "text": [
            "<ipython-input-15-70f853e9c78e>:73: LineBotSdkDeprecatedIn30: Call to deprecated method reply_message. (Use 'from linebot.v3.messaging import MessagingApi' and 'MessagingApi(...).reply_message(...)' instead. See https://github.com/line/line-bot-sdk-python/blob/master/README.rst for more details.) -- Deprecated since version 3.0.0.\n",
            "  line_bot_api.reply_message(event.reply_token,  quick_reply_message)\n",
            "INFO:werkzeug:127.0.0.1 - - [31/Aug/2023 11:37:15] \"POST /callback HTTP/1.1\" 200 -\n"
          ]
        },
        {
          "output_type": "stream",
          "name": "stdout",
          "text": [
            "訊息內容 {'destination': 'Uef68021487469a005636e72e466f9acc', 'events': [{'type': 'message', 'message': {'type': 'text', 'id': '470853471969739077', 'text': '我想吃披薩'}, 'webhookEventId': '01H95P4EXY8SPK2V1A79BC310P', 'deliveryContext': {'isRedelivery': False}, 'timestamp': 1693481843512, 'source': {'type': 'user', 'userId': 'Ubf2b9f4188d45848fb4697d41c962591'}, 'replyToken': '47e508c92903429a94ba6f41fc41d595', 'mode': 'active'}]}\n"
          ]
        },
        {
          "output_type": "stream",
          "name": "stderr",
          "text": [
            "<ipython-input-15-70f853e9c78e>:80: LineBotSdkDeprecatedIn30: Call to deprecated method reply_message. (Use 'from linebot.v3.messaging import MessagingApi' and 'MessagingApi(...).reply_message(...)' instead. See https://github.com/line/line-bot-sdk-python/blob/master/README.rst for more details.) -- Deprecated since version 3.0.0.\n",
            "  line_bot_api.reply_message(event.reply_token,  reply_message)\n",
            "INFO:werkzeug:127.0.0.1 - - [31/Aug/2023 11:37:24] \"POST /callback HTTP/1.1\" 200 -\n"
          ]
        },
        {
          "output_type": "stream",
          "name": "stdout",
          "text": [
            "訊息內容 {'destination': 'Uef68021487469a005636e72e466f9acc', 'events': [{'type': 'message', 'message': {'type': 'text', 'id': '470853486180565586', 'text': '我想吃東西'}, 'webhookEventId': '01H95P4Q9RH9N4DG8GMFZ0VFPY', 'deliveryContext': {'isRedelivery': False}, 'timestamp': 1693481851875, 'source': {'type': 'user', 'userId': 'Ubf2b9f4188d45848fb4697d41c962591'}, 'replyToken': 'e2619be5166843be98f4e46765be6f9b', 'mode': 'active'}]}\n"
          ]
        },
        {
          "output_type": "stream",
          "name": "stderr",
          "text": [
            "INFO:werkzeug:127.0.0.1 - - [31/Aug/2023 11:37:32] \"POST /callback HTTP/1.1\" 200 -\n"
          ]
        },
        {
          "output_type": "stream",
          "name": "stdout",
          "text": [
            "訊息內容 {'destination': 'Uef68021487469a005636e72e466f9acc', 'events': [{'type': 'message', 'message': {'type': 'text', 'id': '470853490927731024', 'text': '我想吃漢堡'}, 'webhookEventId': '01H95P4TBFD5ZE3Q3YSSFC0WS9', 'deliveryContext': {'isRedelivery': False}, 'timestamp': 1693481854834, 'source': {'type': 'user', 'userId': 'Ubf2b9f4188d45848fb4697d41c962591'}, 'replyToken': 'f1895b6dd6f44f7aaa9e86dad14f6fcb', 'mode': 'active'}]}\n"
          ]
        },
        {
          "output_type": "stream",
          "name": "stderr",
          "text": [
            "<ipython-input-15-70f853e9c78e>:86: LineBotSdkDeprecatedIn30: Call to deprecated method reply_message. (Use 'from linebot.v3.messaging import MessagingApi' and 'MessagingApi(...).reply_message(...)' instead. See https://github.com/line/line-bot-sdk-python/blob/master/README.rst for more details.) -- Deprecated since version 3.0.0.\n",
            "  line_bot_api.reply_message(event.reply_token,  reply_message)\n",
            "INFO:werkzeug:127.0.0.1 - - [31/Aug/2023 11:37:36] \"POST /callback HTTP/1.1\" 200 -\n"
          ]
        },
        {
          "output_type": "stream",
          "name": "stdout",
          "text": [
            "訊息內容 {'destination': 'Uef68021487469a005636e72e466f9acc', 'events': [{'type': 'message', 'message': {'type': 'text', 'id': '470853497823690995', 'text': '我想吃東西'}, 'webhookEventId': '01H95P4Y7VVX4ANB3QD35J7EE1', 'deliveryContext': {'isRedelivery': False}, 'timestamp': 1693481858834, 'source': {'type': 'user', 'userId': 'Ubf2b9f4188d45848fb4697d41c962591'}, 'replyToken': '9ba4e53cde144f58a4c797efeafb8a8b', 'mode': 'active'}]}\n"
          ]
        },
        {
          "output_type": "stream",
          "name": "stderr",
          "text": [
            "INFO:werkzeug:127.0.0.1 - - [31/Aug/2023 11:37:40] \"POST /callback HTTP/1.1\" 200 -\n"
          ]
        },
        {
          "output_type": "stream",
          "name": "stdout",
          "text": [
            "訊息內容 {'destination': 'Uef68021487469a005636e72e466f9acc', 'events': [{'type': 'postback', 'postback': {'data': '顯示炸雞的圖片'}, 'webhookEventId': '01H95P50ADXW055472TV334JE0', 'deliveryContext': {'isRedelivery': False}, 'timestamp': 1693481861402, 'source': {'type': 'user', 'userId': 'Ubf2b9f4188d45848fb4697d41c962591'}, 'replyToken': '165163634854412fa51e1c8057c2d894', 'mode': 'active'}]}\n"
          ]
        },
        {
          "output_type": "stream",
          "name": "stderr",
          "text": [
            "<ipython-input-15-70f853e9c78e>:99: LineBotSdkDeprecatedIn30: Call to deprecated method reply_message. (Use 'from linebot.v3.messaging import MessagingApi' and 'MessagingApi(...).reply_message(...)' instead. See https://github.com/line/line-bot-sdk-python/blob/master/README.rst for more details.) -- Deprecated since version 3.0.0.\n",
            "  line_bot_api.reply_message(event.reply_token, reply_message)\n",
            "INFO:werkzeug:127.0.0.1 - - [31/Aug/2023 11:37:42] \"POST /callback HTTP/1.1\" 200 -\n",
            "INFO:werkzeug:127.0.0.1 - - [31/Aug/2023 11:37:42] \"POST /callback HTTP/1.1\" 200 -\n"
          ]
        },
        {
          "output_type": "stream",
          "name": "stdout",
          "text": [
            "訊息內容 {'destination': 'Uef68021487469a005636e72e466f9acc', 'events': [{'type': 'message', 'message': {'type': 'text', 'id': '470853501984702804', 'text': '我想吃炸雞'}, 'webhookEventId': '01H95P50AF1TDM4J5WSZ71RQ28', 'deliveryContext': {'isRedelivery': False}, 'timestamp': 1693481861402, 'source': {'type': 'user', 'userId': 'Ubf2b9f4188d45848fb4697d41c962591'}, 'replyToken': '512456f666354f0795509679ecc2d9a2', 'mode': 'active'}]}\n",
            "訊息內容 {'destination': 'Uef68021487469a005636e72e466f9acc', 'events': [{'type': 'message', 'message': {'type': 'text', 'id': '470854075815034882', 'text': '我想吃東西'}, 'webhookEventId': '01H95PFEFNAH29SNG294RX5NVZ', 'deliveryContext': {'isRedelivery': False}, 'timestamp': 1693482203492, 'source': {'type': 'user', 'userId': 'Ubf2b9f4188d45848fb4697d41c962591'}, 'replyToken': '4ae5af9063d94be399f6fe55f8e12d97', 'mode': 'active'}]}\n"
          ]
        },
        {
          "output_type": "stream",
          "name": "stderr",
          "text": [
            "INFO:werkzeug:127.0.0.1 - - [31/Aug/2023 11:43:24] \"POST /callback HTTP/1.1\" 200 -\n"
          ]
        },
        {
          "output_type": "stream",
          "name": "stdout",
          "text": [
            "訊息內容 {'destination': 'Uef68021487469a005636e72e466f9acc', 'events': [{'type': 'message', 'message': {'type': 'text', 'id': '470854958246264993', 'text': '我想吃東西'}, 'webhookEventId': '01H95PZG8B9CNXG86KZG16DMC4', 'deliveryContext': {'isRedelivery': False}, 'timestamp': 1693482729281, 'source': {'type': 'user', 'userId': 'Ubf2b9f4188d45848fb4697d41c962591'}, 'replyToken': 'a45384cb03ef4e9bb8ec3fca3527f28d', 'mode': 'active'}]}\n"
          ]
        },
        {
          "output_type": "stream",
          "name": "stderr",
          "text": [
            "INFO:werkzeug:127.0.0.1 - - [31/Aug/2023 11:52:10] \"POST /callback HTTP/1.1\" 200 -\n"
          ]
        }
      ],
      "source": [
        "from flask_ngrok import run_with_ngrok\n",
        "from flask import Flask, request, abort\n",
        "from linebot import LineBotApi, WebhookHandler\n",
        "from linebot.exceptions import InvalidSignatureError\n",
        "from linebot.models import *\n",
        "import json\n",
        "import os, time, requests\n",
        "\n",
        "def get_ngrokurl():\n",
        "    os.system(\"ps aux | grep ngrok.exe | awk '{print $2}' | xargs kill -9\")\n",
        "    os.system(\"nohup ngrok http 5000&\")\n",
        "    time.sleep(3)\n",
        "    public_url = json.loads(requests.get('http://localhost:4040/api/tunnels').text)['tunnels'][0]['public_url']\n",
        "    return public_url\n",
        "\n",
        "ngrok_url = get_ngrokurl()\n",
        "print(ngrok_url)\n",
        "# 你的 LINE Channel access token'\n",
        "access_token = 'hea6hI/LTc4FCcgIlR51IbcAjPWqy9QtsG5XX9Ce+4GwdfJH1EKl5/YOT3Hw4+aZOGWZSKcKPmEnUqzE4tOoBjPdvyVJJjIHwm9RN9/cWbwT7Je2GW7uNtaTSKysDrcW8F/BSEFJpywQo5Z9DXry6gdB04t89/1O/w1cDnyilFU='\n",
        "# 你的 LINE Channel access token\n",
        "channel_secret = '77ff5430fad4531107ca11f1c495e7dd'\n",
        "# Channel Access Token\n",
        "line_bot_api = LineBotApi(access_token)\n",
        "# Channel Secret\n",
        "line_handler = WebhookHandler(channel_secret)\n",
        "# 設定 webhook url\n",
        "line_bot_api.set_webhook_endpoint(ngrok_url+'/callback')\n",
        "\n",
        "# 建立 Quick Reply 按鈕選項清單\n",
        "item1 = QuickReplyButton(\n",
        "        action=MessageAction(label=\"披薩\", text=\"我想吃披薩\"),\n",
        "        image_url = 'https://i.imgur.com/02PGoH7.jpg'\n",
        "    )\n",
        "item2 =  QuickReplyButton(\n",
        "        action=MessageAction(label=\"漢堡\", text=\"我想吃漢堡\"),\n",
        "        image_url = 'https://i.imgur.com/02PGoH7.jpg'\n",
        "    )\n",
        "item3 =  QuickReplyButton(\n",
        "        action=PostbackAction(label=\"炸雞\", text=\"我想吃炸雞\", data = '顯示炸雞的圖片'),\n",
        "        image_url = 'https://i.imgur.com/02PGoH7.jpg'\n",
        "    )\n",
        "quick_reply_items = [item1, item2, item3] # 建立選項清單\n",
        "# 建立 Quick Reply 介面\n",
        "quick_reply = QuickReply(items=quick_reply_items)\n",
        "\n",
        "# 監聽所有來自 LINE Bot Channel 的 Post Request\n",
        "app = Flask(__name__)\n",
        "# 監聽所有來自 LINE Bot Channel 的 Post Request\n",
        "@app.route(\"/callback\", methods=['POST'])\n",
        "def linebot():\n",
        "    # get X-Line-Signature header value\n",
        "    signature = request.headers['X-Line-Signature']\n",
        "    # 取得傳來的訊息文字\n",
        "    body = request.get_data(as_text=True)\n",
        "    # 轉換訊息內容成 JSON 物件\n",
        "    json_data = json.loads(body)\n",
        "    print(f\"訊息內容 {json_data}\")\n",
        "    # 驗證訊息正確性\n",
        "    try:\n",
        "        line_handler.handle(body, signature)\n",
        "    except InvalidSignatureError:\n",
        "        abort(400)\n",
        "    return 'OK'\n",
        "\n",
        "# 處理文字訊息事件處理程序\n",
        "@line_handler.add(MessageEvent, message=TextMessage)\n",
        "def handle_message(event):\n",
        "    if event.message.text == '我想吃東西':\n",
        "      # 建立快速選單回覆訊息\n",
        "      quick_reply_message = TextSendMessage(text=\"請選擇你想吃的食物類型：\", quick_reply=quick_reply)\n",
        "      line_bot_api.reply_message(event.reply_token,  quick_reply_message)\n",
        "    text_message = TextSendMessage(text=\"請好好享用\")\n",
        "    if event.message.text == '我想吃披薩':\n",
        "       image_message = ImageSendMessage(\n",
        "                        original_content_url = 'https://i.imgur.com/gISX3Rp.jpg',\n",
        "                        preview_image_url = 'https://i.imgur.com/gISX3Rp.jpg')\n",
        "       reply_message = [text_message, image_message]\n",
        "       line_bot_api.reply_message(event.reply_token,  reply_message)\n",
        "    if event.message.text == '我想吃漢堡':\n",
        "       image_message = ImageSendMessage(\n",
        "                        original_content_url = 'https://i.imgur.com/neejn90.jpg',\n",
        "                        preview_image_url = 'https://i.imgur.com/neejn90.jpg')\n",
        "       reply_message = [text_message, image_message]\n",
        "       line_bot_api.reply_message(event.reply_token,  reply_message)\n",
        "\n",
        "# 處理 Postback 事件\n",
        "@line_handler.add(PostbackEvent)\n",
        "def handle_postback_message(event):\n",
        "    postback = event.postback.data # 取得 Postback 事件的資料\n",
        "# -------------------------------------\n",
        "    if postback == '顯示炸雞的圖片':\n",
        "       image_message = ImageSendMessage(\n",
        "                          original_content_url = 'https://i.imgur.com/tqMj24J.jpg',\n",
        "                          preview_image_url = 'https://i.imgur.com/tqMj24J.jpg')\n",
        "       text_message = TextSendMessage(text=\"請好好享用\")\n",
        "       reply_message = [text_message, image_message, ]\n",
        "       line_bot_api.reply_message(event.reply_token, reply_message)\n",
        "\n",
        "if __name__ == \"__main__\":\n",
        "  app.run()"
      ]
    }
  ],
  "metadata": {
    "colab": {
      "collapsed_sections": [
        "7IZ5TvKS3pmt"
      ],
      "provenance": [],
      "authorship_tag": "ABX9TyN7nkhDT4JajfmLBpJnC4TX",
      "include_colab_link": true
    },
    "kernelspec": {
      "display_name": "Python 3",
      "name": "python3"
    },
    "language_info": {
      "name": "python"
    }
  },
  "nbformat": 4,
  "nbformat_minor": 0
}