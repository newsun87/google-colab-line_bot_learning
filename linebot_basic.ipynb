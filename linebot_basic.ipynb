{
  "cells": [
    {
      "cell_type": "markdown",
      "metadata": {
        "id": "view-in-github",
        "colab_type": "text"
      },
      "source": [
        "<a href=\"https://colab.research.google.com/github/newsun87/google-colab-test/blob/main/linebot_basic.ipynb\" target=\"_parent\"><img src=\"https://colab.research.google.com/assets/colab-badge.svg\" alt=\"Open In Colab\"/></a>"
      ]
    },
    {
      "cell_type": "markdown",
      "metadata": {
        "id": "j7WUPgWH4OF2"
      },
      "source": [
        "### flask\n",
        "https://www.jianshu.com/p/438dc54dc627"
      ]
    },
    {
      "cell_type": "markdown",
      "metadata": {
        "id": "QR-emyk7wf38"
      },
      "source": [
        "安裝套件"
      ]
    },
    {
      "cell_type": "code",
      "execution_count": null,
      "metadata": {
        "colab": {
          "base_uri": "https://localhost:8080/"
        },
        "id": "VqnhjGV4YYKg",
        "outputId": "a20d578e-eb21-4db4-82a3-62a0a741d85d"
      },
      "outputs": [
        {
          "output_type": "stream",
          "name": "stdout",
          "text": [
            "Looking in indexes: https://pypi.org/simple, https://us-python.pkg.dev/colab-wheels/public/simple/\n",
            "Requirement already satisfied: pip in /usr/local/lib/python3.10/dist-packages (23.1.2)\n",
            "Looking in indexes: https://pypi.org/simple, https://us-python.pkg.dev/colab-wheels/public/simple/\n",
            "Collecting flask_ngrok\n",
            "  Downloading flask_ngrok-0.0.25-py3-none-any.whl (3.1 kB)\n",
            "Collecting pyngrok\n",
            "  Downloading pyngrok-6.0.0.tar.gz (681 kB)\n",
            "\u001b[2K     \u001b[90m━━━━━━━━━━━━━━━━━━━━━━━━━━━━━━━━━━━━━━\u001b[0m \u001b[32m681.2/681.2 kB\u001b[0m \u001b[31m12.9 MB/s\u001b[0m eta \u001b[36m0:00:00\u001b[0m\n",
            "\u001b[?25h  Preparing metadata (setup.py) ... \u001b[?25l\u001b[?25hdone\n",
            "Requirement already satisfied: Flask>=0.8 in /usr/local/lib/python3.10/dist-packages (from flask_ngrok) (2.2.5)\n",
            "Requirement already satisfied: requests in /usr/local/lib/python3.10/dist-packages (from flask_ngrok) (2.27.1)\n",
            "Requirement already satisfied: PyYAML in /usr/local/lib/python3.10/dist-packages (from pyngrok) (6.0)\n",
            "Requirement already satisfied: Werkzeug>=2.2.2 in /usr/local/lib/python3.10/dist-packages (from Flask>=0.8->flask_ngrok) (2.3.6)\n",
            "Requirement already satisfied: Jinja2>=3.0 in /usr/local/lib/python3.10/dist-packages (from Flask>=0.8->flask_ngrok) (3.1.2)\n",
            "Requirement already satisfied: itsdangerous>=2.0 in /usr/local/lib/python3.10/dist-packages (from Flask>=0.8->flask_ngrok) (2.1.2)\n",
            "Requirement already satisfied: click>=8.0 in /usr/local/lib/python3.10/dist-packages (from Flask>=0.8->flask_ngrok) (8.1.3)\n",
            "Requirement already satisfied: urllib3<1.27,>=1.21.1 in /usr/local/lib/python3.10/dist-packages (from requests->flask_ngrok) (1.26.16)\n",
            "Requirement already satisfied: certifi>=2017.4.17 in /usr/local/lib/python3.10/dist-packages (from requests->flask_ngrok) (2023.5.7)\n",
            "Requirement already satisfied: charset-normalizer~=2.0.0 in /usr/local/lib/python3.10/dist-packages (from requests->flask_ngrok) (2.0.12)\n",
            "Requirement already satisfied: idna<4,>=2.5 in /usr/local/lib/python3.10/dist-packages (from requests->flask_ngrok) (3.4)\n",
            "Requirement already satisfied: MarkupSafe>=2.0 in /usr/local/lib/python3.10/dist-packages (from Jinja2>=3.0->Flask>=0.8->flask_ngrok) (2.1.3)\n",
            "Building wheels for collected packages: pyngrok\n",
            "  Building wheel for pyngrok (setup.py) ... \u001b[?25l\u001b[?25hdone\n",
            "  Created wheel for pyngrok: filename=pyngrok-6.0.0-py3-none-any.whl size=19867 sha256=d5d91aeb6cf7e434abbe889588e3b58dd82a13e2e910fd8ccaf4a153a90ee00b\n",
            "  Stored in directory: /root/.cache/pip/wheels/5c/42/78/0c3d438d7f5730451a25f7ac6cbf4391759d22a67576ed7c2c\n",
            "Successfully built pyngrok\n",
            "Installing collected packages: pyngrok, flask_ngrok\n",
            "Successfully installed flask_ngrok-0.0.25 pyngrok-6.0.0\n",
            "Looking in indexes: https://pypi.org/simple, https://us-python.pkg.dev/colab-wheels/public/simple/\n",
            "Collecting Flask==2.0.3\n",
            "  Downloading Flask-2.0.3-py3-none-any.whl (95 kB)\n",
            "\u001b[2K     \u001b[90m━━━━━━━━━━━━━━━━━━━━━━━━━━━━━━━━━━━━━━━━\u001b[0m \u001b[32m95.6/95.6 kB\u001b[0m \u001b[31m9.6 MB/s\u001b[0m eta \u001b[36m0:00:00\u001b[0m\n",
            "\u001b[?25hRequirement already satisfied: Werkzeug>=2.0 in /usr/local/lib/python3.10/dist-packages (from Flask==2.0.3) (2.3.6)\n",
            "Requirement already satisfied: Jinja2>=3.0 in /usr/local/lib/python3.10/dist-packages (from Flask==2.0.3) (3.1.2)\n",
            "Requirement already satisfied: itsdangerous>=2.0 in /usr/local/lib/python3.10/dist-packages (from Flask==2.0.3) (2.1.2)\n",
            "Requirement already satisfied: click>=7.1.2 in /usr/local/lib/python3.10/dist-packages (from Flask==2.0.3) (8.1.3)\n",
            "Requirement already satisfied: MarkupSafe>=2.0 in /usr/local/lib/python3.10/dist-packages (from Jinja2>=3.0->Flask==2.0.3) (2.1.3)\n",
            "Installing collected packages: Flask\n",
            "  Attempting uninstall: Flask\n",
            "    Found existing installation: Flask 2.2.5\n",
            "    Uninstalling Flask-2.2.5:\n",
            "      Successfully uninstalled Flask-2.2.5\n",
            "Successfully installed Flask-2.0.3\n",
            "Looking in indexes: https://pypi.org/simple, https://us-python.pkg.dev/colab-wheels/public/simple/\n",
            "Collecting line-bot-sdk\n",
            "  Downloading line_bot_sdk-2.4.2-py2.py3-none-any.whl (90 kB)\n",
            "\u001b[2K     \u001b[90m━━━━━━━━━━━━━━━━━━━━━━━━━━━━━━━━━━━━━━━━\u001b[0m \u001b[32m90.1/90.1 kB\u001b[0m \u001b[31m8.9 MB/s\u001b[0m eta \u001b[36m0:00:00\u001b[0m\n",
            "\u001b[?25hCollecting requests==2.28.2 (from line-bot-sdk)\n",
            "  Downloading requests-2.28.2-py3-none-any.whl (62 kB)\n",
            "\u001b[2K     \u001b[90m━━━━━━━━━━━━━━━━━━━━━━━━━━━━━━━━━━━━━━━━\u001b[0m \u001b[32m62.8/62.8 kB\u001b[0m \u001b[31m7.8 MB/s\u001b[0m eta \u001b[36m0:00:00\u001b[0m\n",
            "\u001b[?25hRequirement already satisfied: aiohttp==3.8.4 in /usr/local/lib/python3.10/dist-packages (from line-bot-sdk) (3.8.4)\n",
            "Requirement already satisfied: future in /usr/local/lib/python3.10/dist-packages (from line-bot-sdk) (0.18.3)\n",
            "Requirement already satisfied: attrs>=17.3.0 in /usr/local/lib/python3.10/dist-packages (from aiohttp==3.8.4->line-bot-sdk) (23.1.0)\n",
            "Requirement already satisfied: charset-normalizer<4.0,>=2.0 in /usr/local/lib/python3.10/dist-packages (from aiohttp==3.8.4->line-bot-sdk) (2.0.12)\n",
            "Requirement already satisfied: multidict<7.0,>=4.5 in /usr/local/lib/python3.10/dist-packages (from aiohttp==3.8.4->line-bot-sdk) (6.0.4)\n",
            "Requirement already satisfied: async-timeout<5.0,>=4.0.0a3 in /usr/local/lib/python3.10/dist-packages (from aiohttp==3.8.4->line-bot-sdk) (4.0.2)\n",
            "Requirement already satisfied: yarl<2.0,>=1.0 in /usr/local/lib/python3.10/dist-packages (from aiohttp==3.8.4->line-bot-sdk) (1.9.2)\n",
            "Requirement already satisfied: frozenlist>=1.1.1 in /usr/local/lib/python3.10/dist-packages (from aiohttp==3.8.4->line-bot-sdk) (1.3.3)\n",
            "Requirement already satisfied: aiosignal>=1.1.2 in /usr/local/lib/python3.10/dist-packages (from aiohttp==3.8.4->line-bot-sdk) (1.3.1)\n",
            "Requirement already satisfied: idna<4,>=2.5 in /usr/local/lib/python3.10/dist-packages (from requests==2.28.2->line-bot-sdk) (3.4)\n",
            "Requirement already satisfied: urllib3<1.27,>=1.21.1 in /usr/local/lib/python3.10/dist-packages (from requests==2.28.2->line-bot-sdk) (1.26.16)\n",
            "Requirement already satisfied: certifi>=2017.4.17 in /usr/local/lib/python3.10/dist-packages (from requests==2.28.2->line-bot-sdk) (2023.5.7)\n",
            "Installing collected packages: requests, line-bot-sdk\n",
            "  Attempting uninstall: requests\n",
            "    Found existing installation: requests 2.27.1\n",
            "    Uninstalling requests-2.27.1:\n",
            "      Successfully uninstalled requests-2.27.1\n",
            "\u001b[31mERROR: pip's dependency resolver does not currently take into account all the packages that are installed. This behaviour is the source of the following dependency conflicts.\n",
            "google-colab 1.0.0 requires requests==2.27.1, but you have requests 2.28.2 which is incompatible.\u001b[0m\u001b[31m\n",
            "\u001b[0mSuccessfully installed line-bot-sdk-2.4.2 requests-2.28.2\n"
          ]
        }
      ],
      "source": [
        "!pip install --upgrade pip\n",
        "!pip install flask_ngrok pyngrok\n",
        "!pip install Flask==2.0.3\n",
        "!pip install line-bot-sdk"
      ]
    },
    {
      "cell_type": "markdown",
      "metadata": {
        "id": "ZdweZXoIk-ni"
      },
      "source": [
        "執行 ngrok 驗證"
      ]
    },
    {
      "cell_type": "code",
      "execution_count": null,
      "metadata": {
        "colab": {
          "base_uri": "https://localhost:8080/"
        },
        "id": "P6VO2orlkeEN",
        "outputId": "15043fef-0445-41e8-cf89-afdd78b00fc2"
      },
      "outputs": [
        {
          "output_type": "stream",
          "name": "stdout",
          "text": [
            "Authtoken saved to configuration file: /root/.ngrok2/ngrok.yml\n"
          ]
        }
      ],
      "source": [
        "!ngrok authtoken 2MOx3anVnlKDcnxhfcW47Fhw1va_3UutW7c1beyviXZ3Nt9LR"
      ]
    },
    {
      "cell_type": "markdown",
      "metadata": {
        "id": "qhLuZysjoAgW"
      },
      "source": [
        "啟用 flask app"
      ]
    },
    {
      "cell_type": "code",
      "execution_count": null,
      "metadata": {
        "colab": {
          "base_uri": "https://localhost:8080/"
        },
        "id": "gQF-HGmcYtk_",
        "outputId": "7b40e452-aa6d-4d06-a616-e9a5d155eff4"
      },
      "outputs": [
        {
          "output_type": "stream",
          "name": "stdout",
          "text": [
            " * Serving Flask app '__main__' (lazy loading)\n",
            " * Environment: production\n",
            "\u001b[31m   WARNING: This is a development server. Do not use it in a production deployment.\u001b[0m\n",
            "\u001b[2m   Use a production WSGI server instead.\u001b[0m\n",
            " * Debug mode: off\n"
          ]
        },
        {
          "output_type": "stream",
          "name": "stderr",
          "text": [
            "INFO:werkzeug:\u001b[31m\u001b[1mWARNING: This is a development server. Do not use it in a production deployment. Use a production WSGI server instead.\u001b[0m\n",
            " * Running on http://127.0.0.1:5000\n",
            "INFO:werkzeug:\u001b[33mPress CTRL+C to quit\u001b[0m\n"
          ]
        },
        {
          "output_type": "stream",
          "name": "stdout",
          "text": [
            " * Running on http://5bf7-104-196-165-126.ngrok-free.app\n",
            " * Traffic stats available on http://127.0.0.1:4040\n"
          ]
        }
      ],
      "source": [
        "from flask_ngrok import run_with_ngrok\n",
        "from flask import Flask\n",
        "\n",
        "app = Flask(__name__) # 初始化 flask 物件\n",
        "# 将 flask app 对象传递给 run_with_ngrok 函数\n",
        "@app.route(\"/\") # 接收到根路徑請求路由\n",
        "def home():\n",
        "    return \"<h1>Hello World!</h1>\"\n",
        "\n",
        "run_with_ngrok(app)\n",
        "app.run() # 啟用 flask 伺服器"
      ]
    },
    {
      "cell_type": "markdown",
      "metadata": {
        "id": "3gsWf-8mgIaP"
      },
      "source": [
        "建立 line bot 框架"
      ]
    },
    {
      "cell_type": "code",
      "execution_count": null,
      "metadata": {
        "id": "AlvV9cGUgO21",
        "colab": {
          "base_uri": "https://localhost:8080/"
        },
        "outputId": "6d66e5cf-8d83-45b8-c45b-9a40ccbdce59"
      },
      "outputs": [
        {
          "output_type": "stream",
          "name": "stdout",
          "text": [
            " * Serving Flask app '__main__' (lazy loading)\n",
            " * Environment: production\n",
            "\u001b[31m   WARNING: This is a development server. Do not use it in a production deployment.\u001b[0m\n",
            "\u001b[2m   Use a production WSGI server instead.\u001b[0m\n",
            " * Debug mode: off\n"
          ]
        },
        {
          "output_type": "stream",
          "name": "stderr",
          "text": [
            "INFO:werkzeug:\u001b[31m\u001b[1mWARNING: This is a development server. Do not use it in a production deployment. Use a production WSGI server instead.\u001b[0m\n",
            " * Running on http://127.0.0.1:5000\n",
            "INFO:werkzeug:\u001b[33mPress CTRL+C to quit\u001b[0m\n"
          ]
        },
        {
          "output_type": "stream",
          "name": "stdout",
          "text": [
            " * Running on http://a885-34-86-12-145.ngrok-free.app\n",
            " * Traffic stats available on http://127.0.0.1:4040\n"
          ]
        }
      ],
      "source": [
        "from flask_ngrok import run_with_ngrok\n",
        "from flask import Flask, request, abort\n",
        "\n",
        "from linebot import (\n",
        "    LineBotApi, WebhookHandler\n",
        ")\n",
        "from linebot.exceptions import (\n",
        "    InvalidSignatureError\n",
        ")\n",
        "from linebot.models import *\n",
        "import json\n",
        "\n",
        "# LINE channel test\n",
        "# 你的 LINE Channel access token'\n",
        "access_token = 'hea6hI/LTc4FCcgIlR51IbcAjPWqy9QtsG5XX9Ce+4GwdfJH1EKl5/YOT3Hw4+aZOGWZSKcKPmEnUqzE4tOoBjPdvyVJJjIHwm9RN9/cWbwT7Je2GW7uNtaTSKysDrcW8F/BSEFJpywQo5Z9DXry6gdB04t89/1O/w1cDnyilFU='\n",
        "# 你的 LINE Channel access token\n",
        "channel_secret = '77ff5430fad4531107ca11f1c495e7dd'\n",
        "\n",
        "# Channel Access Token\n",
        "line_bot_api = LineBotApi(access_token)\n",
        "# Channel Secret\n",
        "handler = WebhookHandler(channel_secret)\n",
        "\n",
        "app = Flask(__name__)\n",
        "# 監聽所有來自 LINE Bot Channel 的 Post Request\n",
        "@app.route(\"/\", methods=['POST'])\n",
        "def linebot():\n",
        "    # get X-Line-Signature header value\n",
        "    signature = request.headers['X-Line-Signature']\n",
        "    # 取得傳來的訊息文字\n",
        "    body = request.get_data(as_text=True)\n",
        "    print(f\"訊息內容 {body}\")\n",
        "    # 轉換訊息內容成 JSON 物件\n",
        "    json_data = json.loads(body)\n",
        "    # 驗證訊息正確性\n",
        "    try:\n",
        "        handler.handle(body, signature)\n",
        "    except InvalidSignatureError:\n",
        "        abort(400)\n",
        "    return 'OK'\n",
        "\n",
        "# 處理 LINE Bot channel 傳來訊息\n",
        "@handler.add(MessageEvent, message=TextMessage)\n",
        "def handle_message(event):\n",
        "\tif event.message.type == 'text':\n",
        "\t\tmessage = TextSendMessage(text = event.message.text)\n",
        "\t\tline_bot_api.reply_message(event.reply_token, message)\n",
        "\n",
        "if __name__ == \"__main__\":\n",
        "  # 串連 ngrok 服務\n",
        "  run_with_ngrok(app) # 產生 ngrok 網址\n",
        "  app.run()"
      ]
    },
    {
      "cell_type": "code",
      "execution_count": null,
      "metadata": {
        "colab": {
          "base_uri": "https://localhost:8080/"
        },
        "id": "9at5mE7SaTUp",
        "outputId": "978a8f00-037d-4d3c-876b-6e3c941a3662"
      },
      "outputs": [
        {
          "name": "stderr",
          "output_type": "stream",
          "text": [
            "INFO:werkzeug: * Running on http://127.0.0.1:5000/ (Press CTRL+C to quit)\n"
          ]
        },
        {
          "name": "stdout",
          "output_type": "stream",
          "text": [
            " * Running on http://52f3-34-83-252-76.ngrok.io\n",
            " * Traffic stats available on http://127.0.0.1:4040\n"
          ]
        },
        {
          "name": "stderr",
          "output_type": "stream",
          "text": [
            "INFO:werkzeug:127.0.0.1 - - [18/Jan/2023 23:33:55] \"\u001b[37mPOST / HTTP/1.1\u001b[0m\" 200 -\n"
          ]
        },
        {
          "name": "stdout",
          "output_type": "stream",
          "text": [
            "{\"destination\":\"Uef68021487469a005636e72e466f9acc\",\"events\":[]}\n"
          ]
        },
        {
          "name": "stderr",
          "output_type": "stream",
          "text": [
            "INFO:werkzeug:127.0.0.1 - - [18/Jan/2023 23:34:33] \"\u001b[37mPOST / HTTP/1.1\u001b[0m\" 200 -\n"
          ]
        },
        {
          "name": "stdout",
          "output_type": "stream",
          "text": [
            "{\"destination\":\"Uef68021487469a005636e72e466f9acc\",\"events\":[{\"type\":\"message\",\"message\":{\"type\":\"text\",\"id\":\"17494655423809\",\"text\":\"123\"},\"webhookEventId\":\"01GQ3KQWF6RZ37VQ29G7NS1BJ0\",\"deliveryContext\":{\"isRedelivery\":false},\"timestamp\":1674084872171,\"source\":{\"type\":\"user\",\"userId\":\"Ubf2b9f4188d45848fb4697d41c962591\"},\"replyToken\":\"d1b02fc0885d4e02a14bab4f9c86f41f\",\"mode\":\"active\"}]}\n"
          ]
        },
        {
          "name": "stderr",
          "output_type": "stream",
          "text": [
            "INFO:werkzeug:127.0.0.1 - - [18/Jan/2023 23:36:19] \"\u001b[37mPOST / HTTP/1.1\u001b[0m\" 200 -\n"
          ]
        },
        {
          "name": "stdout",
          "output_type": "stream",
          "text": [
            "{\"destination\":\"Uef68021487469a005636e72e466f9acc\",\"events\":[]}\n"
          ]
        }
      ],
      "source": [
        "from flask_ngrok import run_with_ngrok\n",
        "from flask import Flask, request\n",
        "\n",
        "# 載入 LINE Message API 相關函式庫\n",
        "from linebot import LineBotApi, WebhookHandler\n",
        "from linebot.exceptions import InvalidSignatureError\n",
        "from linebot.models import MessageEvent, TextMessage, TextSendMessage\n",
        "\n",
        "# 載入 json 標準函式庫，處理回傳的資料格式\n",
        "import json\n",
        "\n",
        "app = Flask(__name__)\n",
        "\n",
        "@app.route(\"/\", methods=['POST'])\n",
        "def linebot():\n",
        "    # 取得收到的訊息內容\n",
        "    body = request.get_data(as_text=True)\n",
        "    try:\n",
        "        # json 格式化訊息內容\n",
        "        json_data = json.loads(body)\n",
        "        access_token = 'hea6hI/LTc4FCcgIlR51IbcAjPWqy9QtsG5XX9Ce+4GwdfJH1EKl5/YOT3Hw4+aZOGWZSKcKPmEnUqzE4tOoBjPdvyVJJjIHwm9RN9/cWbwT7Je2GW7uNtaTSKysDrcW8F/BSEFJpywQo5Z9DXry6gdB04t89/1O/w1cDnyilFU='\n",
        "        channel_secret = '77ff5430fad4531107ca11f1c495e7dd'\n",
        "        # 確認 token 是否正確\n",
        "        line_bot_api = LineBotApi(access_token)\n",
        "        # 確認 secret 是否正確\n",
        "        handler = WebhookHandler(channel_secret)\n",
        "        # 加入回傳的 headers\n",
        "        signature = request.headers['X-Line-Signature']\n",
        "        # 綁定訊息回傳的相關資訊\n",
        "        handler.handle(body, signature)\n",
        "        # 取得 LINE 收到的文字訊息\n",
        "        msg = json_data['events'][0]['message']['text']\n",
        "        # 取得回傳訊息的 Token\n",
        "        tk = json_data['events'][0]['replyToken']\n",
        "        # 回傳訊息\n",
        "        line_bot_api.reply_message(tk,TextSendMessage(msg))\n",
        "        # 印出內容\n",
        "        print(msg, tk)\n",
        "    except:\n",
        "        # 如果發生錯誤，印出收到的內容\n",
        "        print(body)\n",
        "    # 驗證 Webhook 使用，不能省略\n",
        "    return 'OK'\n",
        "if __name__ == \"__main__\":\n",
        "  # 串連 ngrok 服務\n",
        "  run_with_ngrok(app)\n",
        "  app.run()"
      ]
    },
    {
      "cell_type": "markdown",
      "metadata": {
        "id": "nHdmRiowyY4A"
      },
      "source": [
        "#### 實戰 (1) 題目：學習如何與 LINE Bot 基本對話\n",
        "要求：修改程式，讓使用者輸入文字訊息『Hi』，LINE Bot 就回應『我收到你傳來的文字訊息：Hi』\n"
      ]
    },
    {
      "cell_type": "code",
      "execution_count": null,
      "metadata": {
        "colab": {
          "base_uri": "https://localhost:8080/"
        },
        "id": "XqDQk7NgyxDv",
        "outputId": "b53decae-fbfb-4293-e5a0-decb0545d51b"
      },
      "outputs": [
        {
          "name": "stderr",
          "output_type": "stream",
          "text": [
            "INFO:werkzeug: * Running on http://127.0.0.1:5000/ (Press CTRL+C to quit)\n"
          ]
        },
        {
          "name": "stdout",
          "output_type": "stream",
          "text": [
            " * Running on http://7f7e-34-125-189-233.ngrok.io\n",
            " * Traffic stats available on http://127.0.0.1:4040\n"
          ]
        },
        {
          "name": "stderr",
          "output_type": "stream",
          "text": [
            "INFO:werkzeug:127.0.0.1 - - [31/Dec/2022 14:08:09] \"\u001b[37mPOST / HTTP/1.1\u001b[0m\" 200 -\n"
          ]
        },
        {
          "name": "stdout",
          "output_type": "stream",
          "text": [
            "訊息內容 {\"destination\":\"U7cac5dece3f2aedbd87541c2977b14db\",\"events\":[]}\n",
            "訊息內容 {\"destination\":\"U7cac5dece3f2aedbd87541c2977b14db\",\"events\":[{\"type\":\"message\",\"message\":{\"type\":\"text\",\"id\":\"17391727280323\",\"text\":\"next\"},\"webhookEventId\":\"01GNM85YWQQ0ZNR4BKW8ERFQBG\",\"deliveryContext\":{\"isRedelivery\":false},\"timestamp\":1672495692528,\"source\":{\"type\":\"user\",\"userId\":\"Ubf2b9f4188d45848fb4697d41c962591\"},\"replyToken\":\"aa60fde8c4c24923a93d9c0aff2f8bbc\",\"mode\":\"active\"}]}\n"
          ]
        },
        {
          "name": "stderr",
          "output_type": "stream",
          "text": [
            "INFO:werkzeug:127.0.0.1 - - [31/Dec/2022 14:08:13] \"\u001b[37mPOST / HTTP/1.1\u001b[0m\" 200 -\n"
          ]
        }
      ],
      "source": [
        "from flask_ngrok import run_with_ngrok\n",
        "from flask import Flask, request, abort\n",
        "\n",
        "from linebot import (\n",
        "    LineBotApi, WebhookHandler\n",
        ")\n",
        "from linebot.exceptions import (\n",
        "    InvalidSignatureError\n",
        ")\n",
        "from linebot.models import *\n",
        "import json\n",
        "\n",
        "app = Flask(__name__)\n",
        "# 你的 LINE Channel access token'\n",
        "access_token = '1LsBjlZcyZHF532sh2vn95OzByt7G71/pcFAq7G/YNOaFvmNitQxbzgLx/ZoBwN8NFZe/gQzhHdZimzjJq1R3uLbb296yZ2PQ5tuG4aChnje/myj8wiQlaANu7BpEfifBW70df64L54CWd+OUUEMJ1GUYhWQfeY8sLGRXgo3xvw='\n",
        "# 你的 LINE Channel access token\n",
        "channel_secret = '05ad96ecf63b4f2f886feb10425a2b43'\n",
        "\n",
        "# Channel Access Token\n",
        "line_bot_api = LineBotApi(access_token)\n",
        "# Channel Secret\n",
        "handler = WebhookHandler(channel_secret)\n",
        "\n",
        "# 監聽所有來自 LINE Bot Channel 的 Post Request\n",
        "@app.route(\"/\", methods=['POST'])\n",
        "def linebot():\n",
        "    # get X-Line-Signature header value\n",
        "    signature = request.headers['X-Line-Signature']\n",
        "    # 取得傳來的訊息文字\n",
        "    body = request.get_data(as_text=True)\n",
        "    print(f\"訊息內容 {body}\")\n",
        "    # 轉換訊息內容成 JSON 物件\n",
        "    json_data = json.loads(body)\n",
        "    # 驗證訊息正確性\n",
        "    try:\n",
        "        handler.handle(body, signature)\n",
        "    except InvalidSignatureError:\n",
        "        abort(400)\n",
        "    return 'OK'\n",
        "\n",
        "# 處理 LINE Bot channel 傳來訊息\n",
        "@handler.add(MessageEvent, message=TextMessage)\n",
        "def handle_message(event):\n",
        "\tif event.message.type == 'text':\n",
        "\t\tmessage = TextSendMessage(text=\"我收到你送來的文字訊息\" + event.message.text)\n",
        "\t\tline_bot_api.reply_message(event.reply_token, message)\n",
        "\n",
        "if __name__ == \"__main__\":\n",
        "  # 串連 ngrok 服務\n",
        "  run_with_ngrok(app) # 產生 ngrok 網址\n",
        "  app.run()"
      ]
    },
    {
      "cell_type": "markdown",
      "metadata": {
        "id": "1zL-MMx3NH-D"
      },
      "source": [
        "#### 將訊息轉成 JSON 物件"
      ]
    },
    {
      "cell_type": "markdown",
      "metadata": {
        "id": "VLYof8T_NPht"
      },
      "source": [
        "通用屬性"
      ]
    },
    {
      "cell_type": "code",
      "execution_count": null,
      "metadata": {
        "colab": {
          "base_uri": "https://localhost:8080/"
        },
        "id": "nSM_NljyNR2D",
        "outputId": "a9bb9f78-d705-48b0-eaf5-9cf8aa6192d8"
      },
      "outputs": [
        {
          "name": "stderr",
          "output_type": "stream",
          "text": [
            "INFO:werkzeug: * Running on http://127.0.0.1:5000/ (Press CTRL+C to quit)\n"
          ]
        },
        {
          "name": "stdout",
          "output_type": "stream",
          "text": [
            " * Running on http://442c-34-80-240-135.ngrok.io\n",
            " * Traffic stats available on http://127.0.0.1:4040\n"
          ]
        },
        {
          "name": "stderr",
          "output_type": "stream",
          "text": [
            "INFO:werkzeug:127.0.0.1 - - [07/Jan/2023 03:50:36] \"\u001b[37mPOST / HTTP/1.1\u001b[0m\" 200 -\n"
          ]
        },
        {
          "name": "stdout",
          "output_type": "stream",
          "text": [
            "{'destination': 'U7cac5dece3f2aedbd87541c2977b14db', 'events': []}\n"
          ]
        },
        {
          "name": "stderr",
          "output_type": "stream",
          "text": [
            "INFO:werkzeug:127.0.0.1 - - [07/Jan/2023 03:51:02] \"\u001b[37mPOST / HTTP/1.1\u001b[0m\" 200 -\n"
          ]
        },
        {
          "name": "stdout",
          "output_type": "stream",
          "text": [
            "{'destination': 'U7cac5dece3f2aedbd87541c2977b14db', 'events': [{'type': 'message', 'message': {'type': 'text', 'id': '17428717662509', 'text': 'next'}, 'webhookEventId': '01GP55MWPXJ1V29BCP0KWHJ8VZ', 'deliveryContext': {'isRedelivery': False}, 'timestamp': 1673063461090, 'source': {'type': 'user', 'userId': 'Ubf2b9f4188d45848fb4697d41c962591'}, 'replyToken': '5cde1c0f2377454482db26f679220fd1', 'mode': 'active'}]}\n",
            "{\"deliveryContext\": {\"isRedelivery\": false}, \"message\": {\"id\": \"17428717662509\", \"text\": \"next\", \"type\": \"text\"}, \"mode\": \"active\", \"replyToken\": \"5cde1c0f2377454482db26f679220fd1\", \"source\": {\"type\": \"user\", \"userId\": \"Ubf2b9f4188d45848fb4697d41c962591\"}, \"timestamp\": 1673063461090, \"type\": \"message\", \"webhookEventId\": \"01GP55MWPXJ1V29BCP0KWHJ8VZ\"}\n"
          ]
        }
      ],
      "source": [
        "from flask_ngrok import run_with_ngrok\n",
        "from flask import Flask, request, abort\n",
        "\n",
        "from linebot import (\n",
        "    LineBotApi, WebhookHandler\n",
        ")\n",
        "from linebot.exceptions import (\n",
        "    InvalidSignatureError\n",
        ")\n",
        "from linebot.models import *\n",
        "import json\n",
        "\n",
        "app = Flask(__name__)\n",
        "# 你的 LINE Channel access token'\n",
        "access_token = '1LsBjlZcyZHF532sh2vn95OzByt7G71/pcFAq7G/YNOaFvmNitQxbzgLx/ZoBwN8NFZe/gQzhHdZimzjJq1R3uLbb296yZ2PQ5tuG4aChnje/myj8wiQlaANu7BpEfifBW70df64L54CWd+OUUEMJ1GUYhWQfeY8sLGRXgo3xvw='\n",
        "# 你的 LINE Channel access token\n",
        "channel_secret = '05ad96ecf63b4f2f886feb10425a2b43'\n",
        "\n",
        "# Channel Access Token\n",
        "line_bot_api = LineBotApi(access_token)\n",
        "# Channel Secret\n",
        "handler = WebhookHandler(channel_secret)\n",
        "\n",
        "# 監聽所有來自 LINE Bot Channel 的 Post Request\n",
        "@app.route(\"/\", methods=['POST'])\n",
        "def linebot():\n",
        "    # get X-Line-Signature header value\n",
        "    signature = request.headers['X-Line-Signature']\n",
        "    # 取得傳來的訊息文字\n",
        "    body = request.get_data(as_text=True)\n",
        "    # 轉換訊息內容成 JSON 物件\n",
        "    json_data = json.loads(body)\n",
        "    print(json_data)\n",
        "    # 驗證訊息正確性\n",
        "    try:\n",
        "        handler.handle(body, signature)\n",
        "    except InvalidSignatureError:\n",
        "        abort(400)\n",
        "    return 'OK'\n",
        "# 處理 LINE Bot channel 傳來訊息\n",
        "@handler.add(MessageEvent, message=TextMessage)\n",
        "def handle_message(event):\n",
        "\tif event.message.type == 'text':\n",
        "\t\tmessage = TextSendMessage(text=\"我收到你送來的文字訊息\" + event.message.text)\n",
        "\t\tline_bot_api.reply_message(event.reply_token, message)\n",
        "\n",
        "if __name__ == \"__main__\":\n",
        "  # 串連 ngrok 服務\n",
        "  run_with_ngrok(app) # 產生 ngrok 網址\n",
        "  app.run()"
      ]
    },
    {
      "cell_type": "markdown",
      "metadata": {
        "id": "6yPAQ-lD8xJ5"
      },
      "source": [
        "#### 訊息物件 (event) 根據用戶傳送過來的內容可分成10種"
      ]
    },
    {
      "cell_type": "markdown",
      "metadata": {
        "id": "tWwCzK9iiaCs"
      },
      "source": [
        "Bot Server 回應貼圖"
      ]
    },
    {
      "cell_type": "code",
      "execution_count": null,
      "metadata": {
        "colab": {
          "base_uri": "https://localhost:8080/"
        },
        "id": "2KqTm2K4ifJM",
        "outputId": "1e5f6b34-297e-48bc-8715-9e31dd60eee0"
      },
      "outputs": [
        {
          "name": "stdout",
          "output_type": "stream",
          "text": [
            " * Serving Flask app '__main__' (lazy loading)\n",
            " * Environment: production\n",
            "\u001b[31m   WARNING: This is a development server. Do not use it in a production deployment.\u001b[0m\n",
            "\u001b[2m   Use a production WSGI server instead.\u001b[0m\n",
            " * Debug mode: off\n"
          ]
        },
        {
          "name": "stderr",
          "output_type": "stream",
          "text": [
            "INFO:werkzeug:\u001b[31m\u001b[1mWARNING: This is a development server. Do not use it in a production deployment. Use a production WSGI server instead.\u001b[0m\n",
            " * Running on http://127.0.0.1:5000\n",
            "INFO:werkzeug:\u001b[33mPress CTRL+C to quit\u001b[0m\n"
          ]
        },
        {
          "name": "stdout",
          "output_type": "stream",
          "text": [
            " * Running on http://99fd-35-227-152-202.ngrok.io\n",
            " * Traffic stats available on http://127.0.0.1:4040\n"
          ]
        },
        {
          "name": "stderr",
          "output_type": "stream",
          "text": [
            "INFO:werkzeug:127.0.0.1 - - [08/Mar/2023 05:51:41] \"POST / HTTP/1.1\" 200 -\n"
          ]
        },
        {
          "name": "stdout",
          "output_type": "stream",
          "text": [
            "訊息內容 {\"destination\":\"Uef68021487469a005636e72e466f9acc\",\"events\":[]}\n"
          ]
        },
        {
          "name": "stderr",
          "output_type": "stream",
          "text": [
            "INFO:werkzeug:127.0.0.1 - - [08/Mar/2023 05:51:56] \"POST / HTTP/1.1\" 200 -\n"
          ]
        },
        {
          "name": "stdout",
          "output_type": "stream",
          "text": [
            "訊息內容 {\"destination\":\"Uef68021487469a005636e72e466f9acc\",\"events\":[{\"type\":\"message\",\"message\":{\"type\":\"sticker\",\"id\":\"17765408028375\",\"stickerId\":\"554024414\",\"packageId\":\"27750\",\"stickerResourceType\":\"STATIC\",\"keywords\":[\"Good morning\",\"Getting up\",\"Waking up\"]},\"webhookEventId\":\"01GTZWDC6C5QZ02BX2A3TDB7AS\",\"deliveryContext\":{\"isRedelivery\":false},\"timestamp\":1678254715051,\"source\":{\"type\":\"user\",\"userId\":\"Ubf2b9f4188d45848fb4697d41c962591\"},\"replyToken\":\"911ce2c10e344fbdb2d87e1b2f9f8701\",\"mode\":\"active\"}]}\n"
          ]
        }
      ],
      "source": [
        "from flask_ngrok import run_with_ngrok\n",
        "from flask import Flask, request, abort\n",
        "\n",
        "from linebot import (\n",
        "    LineBotApi, WebhookHandler\n",
        ")\n",
        "from linebot.exceptions import (\n",
        "    InvalidSignatureError\n",
        ")\n",
        "from linebot.models import *\n",
        "import json\n",
        "\n",
        "app = Flask(__name__)\n",
        "# 你的 LINE Channel access token'\n",
        "access_token = 'hea6hI/LTc4FCcgIlR51IbcAjPWqy9QtsG5XX9Ce+4GwdfJH1EKl5/YOT3Hw4+aZOGWZSKcKPmEnUqzE4tOoBjPdvyVJJjIHwm9RN9/cWbwT7Je2GW7uNtaTSKysDrcW8F/BSEFJpywQo5Z9DXry6gdB04t89/1O/w1cDnyilFU='\n",
        "# 你的 LINE Channel access token\n",
        "channel_secret = '77ff5430fad4531107ca11f1c495e7dd'\n",
        "\n",
        "# Channel Access Token\n",
        "line_bot_api = LineBotApi(access_token)\n",
        "# Channel Secret\n",
        "handler = WebhookHandler(channel_secret)\n",
        "\n",
        "# 監聽所有來自 LINE Bot Channel 的 Post Request\n",
        "@app.route(\"/\", methods=['POST'])\n",
        "def linebot():\n",
        "    # get X-Line-Signature header value\n",
        "    signature = request.headers['X-Line-Signature']\n",
        "    # 取得傳來的訊息文字\n",
        "    body = request.get_data(as_text=True)\n",
        "    # 轉換訊息內容成 JSON 物件\n",
        "    json_data = json.loads(body)\n",
        "    # 驗證訊息正確性\n",
        "    try:\n",
        "        handler.handle(body, signature)\n",
        "        print(f\"訊息內容 {body}\")\n",
        "    except InvalidSignatureError:\n",
        "        abort(400)\n",
        "    return 'OK'\n",
        "\n",
        "# 處理 LINE Bot channel 傳來訊息\n",
        "@handler.add(MessageEvent, message=StickerMessage)\n",
        "def handle_message(event):\n",
        "  message = StickerSendMessage(package_id=1, sticker_id=2)\n",
        "  line_bot_api.reply_message(event.reply_token, message)\n",
        "\n",
        "@handler.add(MessageEvent, message=TextMessage)\n",
        "def handle_message(event):\n",
        "  message = TextSendMessage(text=\"你送來的不是貼圖!\")\n",
        "  line_bot_api.reply_message(event.reply_token, message)\n",
        "\n",
        "if __name__ == \"__main__\":\n",
        "  # 串連 ngrok 服務\n",
        "  run_with_ngrok(app) # 產生 ngrok 網址\n",
        "  app.run()"
      ]
    },
    {
      "cell_type": "markdown",
      "metadata": {
        "id": "IvYf7-cXkSM1"
      },
      "source": [
        "Bot Server 回應圖片"
      ]
    },
    {
      "cell_type": "code",
      "execution_count": null,
      "metadata": {
        "colab": {
          "base_uri": "https://localhost:8080/"
        },
        "id": "-G5HiSIMkUoL",
        "outputId": "3a29ba68-0f34-4eab-8268-821576fef575"
      },
      "outputs": [
        {
          "name": "stdout",
          "output_type": "stream",
          "text": [
            " * Serving Flask app '__main__' (lazy loading)\n",
            " * Environment: production\n",
            "\u001b[31m   WARNING: This is a development server. Do not use it in a production deployment.\u001b[0m\n",
            "\u001b[2m   Use a production WSGI server instead.\u001b[0m\n",
            " * Debug mode: off\n"
          ]
        },
        {
          "name": "stderr",
          "output_type": "stream",
          "text": [
            "INFO:werkzeug:\u001b[31m\u001b[1mWARNING: This is a development server. Do not use it in a production deployment. Use a production WSGI server instead.\u001b[0m\n",
            " * Running on http://127.0.0.1:5000\n",
            "INFO:werkzeug:\u001b[33mPress CTRL+C to quit\u001b[0m\n"
          ]
        },
        {
          "name": "stdout",
          "output_type": "stream",
          "text": [
            " * Running on http://c4c8-35-227-152-202.ngrok.io\n",
            " * Traffic stats available on http://127.0.0.1:4040\n"
          ]
        },
        {
          "name": "stderr",
          "output_type": "stream",
          "text": [
            "INFO:werkzeug:127.0.0.1 - - [08/Mar/2023 06:18:35] \"POST / HTTP/1.1\" 200 -\n"
          ]
        },
        {
          "name": "stdout",
          "output_type": "stream",
          "text": [
            "訊息內容 {\"destination\":\"Uef68021487469a005636e72e466f9acc\",\"events\":[]}\n"
          ]
        },
        {
          "name": "stderr",
          "output_type": "stream",
          "text": [
            "INFO:werkzeug:127.0.0.1 - - [08/Mar/2023 06:18:58] \"POST / HTTP/1.1\" 200 -\n"
          ]
        },
        {
          "name": "stdout",
          "output_type": "stream",
          "text": [
            "訊息內容 {\"destination\":\"Uef68021487469a005636e72e466f9acc\",\"events\":[{\"type\":\"message\",\"message\":{\"type\":\"image\",\"id\":\"17765528073452\",\"contentProvider\":{\"type\":\"line\"}},\"webhookEventId\":\"01GTZXYWAYN28TE1VHVD7PPNPP\",\"deliveryContext\":{\"isRedelivery\":false},\"timestamp\":1678256337167,\"source\":{\"type\":\"user\",\"userId\":\"Ubf2b9f4188d45848fb4697d41c962591\"},\"replyToken\":\"7ceabbc358954059a55fc5c67a4f82e5\",\"mode\":\"active\"}]}\n"
          ]
        }
      ],
      "source": [
        "from flask_ngrok import run_with_ngrok\n",
        "\n",
        "from flask import Flask, request, abort\n",
        "\n",
        "from linebot import (\n",
        "    LineBotApi, WebhookHandler\n",
        ")\n",
        "from linebot.exceptions import (\n",
        "    InvalidSignatureError\n",
        ")\n",
        "from linebot.models import *\n",
        "import json\n",
        "import os\n",
        "import time\n",
        "import requests\n",
        "\n",
        "app = Flask(__name__)\n",
        "#run_with_ngrok(app) # 產生 ngrok 網址\n",
        "\n",
        "# 你的 LINE Channel access token'\n",
        "access_token = 'hea6hI/LTc4FCcgIlR51IbcAjPWqy9QtsG5XX9Ce+4GwdfJH1EKl5/YOT3Hw4+aZOGWZSKcKPmEnUqzE4tOoBjPdvyVJJjIHwm9RN9/cWbwT7Je2GW7uNtaTSKysDrcW8F/BSEFJpywQo5Z9DXry6gdB04t89/1O/w1cDnyilFU='\n",
        "# 你的 LINE Channel access token\n",
        "channel_secret = '77ff5430fad4531107ca11f1c495e7dd'\n",
        "\n",
        "# Channel Access Token\n",
        "line_bot_api = LineBotApi(access_token)\n",
        "# Channel Secret\n",
        "handler = WebhookHandler(channel_secret)\n",
        "\n",
        "# 監聽所有來自 LINE Bot Channel 的 Post Request\n",
        "@app.route(\"/\", methods=['POST'])\n",
        "def linebot():\n",
        "    # get X-Line-Signature header value\n",
        "    signature = request.headers['X-Line-Signature']\n",
        "    # 取得傳來的訊息文字\n",
        "    body = request.get_data(as_text=True)\n",
        "    # 轉換訊息內容成 JSON 物件\n",
        "    json_data = json.loads(body)\n",
        "    # 驗證訊息正確性\n",
        "    try:\n",
        "        handler.handle(body, signature)\n",
        "        print(f\"訊息內容 {body}\")\n",
        "    except InvalidSignatureError:\n",
        "        abort(400)\n",
        "    return 'OK'\n",
        "\n",
        "# 回應圖片的 imgurl\n",
        "image_url = {'sticker_imag1':'https://i.imgur.com/GDsd8KJ.jpg'}\n",
        "# 處理 LINE Bot channel 傳來訊息\n",
        "@handler.add(MessageEvent, message=ImageMessage)\n",
        "def handle_image_message(event):\n",
        "  if event.message.type == 'image':\n",
        "    message_id = event.message.id\n",
        "\t# 讀取圖片資料並儲存\n",
        "    message_content = line_bot_api.get_message_content(message_id)\n",
        "    with open('temp_image.jpg', 'wb') as fd:\n",
        "      for chunk in message_content.iter_content():\n",
        "        fd.write(chunk)\n",
        "    # 回傳圖片\n",
        "    message = ImageSendMessage(original_content_url= image_url['sticker_imag1'], \\\n",
        "\t  preview_image_url= image_url['sticker_imag1'])\n",
        "    line_bot_api.reply_message(event.reply_token, message)\n",
        "\n",
        "@handler.add(MessageEvent, message=TextMessage)\n",
        "def handle_message(event):\n",
        "  message = TextSendMessage(text=\"你送來的不是圖片!\")\n",
        "  line_bot_api.reply_message(event.reply_token, message)\n",
        "\n",
        "if __name__ == \"__main__\":\n",
        "    run_with_ngrok(app)\n",
        "    app.run()"
      ]
    },
    {
      "cell_type": "markdown",
      "metadata": {
        "id": "tDkBYKdjHtJ7"
      },
      "source": [
        "#### 實戰 (2) LINE Bot 回應圖片\n",
        "要求：使用者輸入圖片，LINE Bot 回應同樣圖片"
      ]
    },
    {
      "cell_type": "code",
      "execution_count": null,
      "metadata": {
        "colab": {
          "base_uri": "https://localhost:8080/"
        },
        "id": "pZi-rlSuIHBb",
        "outputId": "3a4bdb77-2d17-45e8-ace2-14be16faa4fc"
      },
      "outputs": [
        {
          "output_type": "stream",
          "name": "stdout",
          "text": [
            " * Serving Flask app '__main__' (lazy loading)\n",
            " * Environment: production\n",
            "\u001b[31m   WARNING: This is a development server. Do not use it in a production deployment.\u001b[0m\n",
            "\u001b[2m   Use a production WSGI server instead.\u001b[0m\n",
            " * Debug mode: off\n"
          ]
        },
        {
          "output_type": "stream",
          "name": "stderr",
          "text": [
            "INFO:werkzeug:\u001b[31m\u001b[1mWARNING: This is a development server. Do not use it in a production deployment. Use a production WSGI server instead.\u001b[0m\n",
            " * Running on http://127.0.0.1:5000\n",
            "INFO:werkzeug:\u001b[33mPress CTRL+C to quit\u001b[0m\n"
          ]
        },
        {
          "output_type": "stream",
          "name": "stdout",
          "text": [
            " * Running on http://43b8-34-86-12-145.ngrok-free.app\n",
            " * Traffic stats available on http://127.0.0.1:4040\n"
          ]
        }
      ],
      "source": [
        "from flask_ngrok import run_with_ngrok\n",
        "\n",
        "from flask import Flask, request, abort\n",
        "\n",
        "from linebot import (\n",
        "    LineBotApi, WebhookHandler\n",
        ")\n",
        "from linebot.exceptions import (\n",
        "    InvalidSignatureError\n",
        ")\n",
        "from linebot.models import *\n",
        "import json\n",
        "import os\n",
        "import time\n",
        "import  base64\n",
        "import requests\n",
        "\n",
        "\n",
        "# 你的 LINE Channel access token'\n",
        "access_token = 'hea6hI/LTc4FCcgIlR51IbcAjPWqy9QtsG5XX9Ce+4GwdfJH1EKl5/YOT3Hw4+aZOGWZSKcKPmEnUqzE4tOoBjPdvyVJJjIHwm9RN9/cWbwT7Je2GW7uNtaTSKysDrcW8F/BSEFJpywQo5Z9DXry6gdB04t89/1O/w1cDnyilFU='\n",
        "# 你的 LINE Channel access token\n",
        "channel_secret = '77ff5430fad4531107ca11f1c495e7dd'\n",
        "\n",
        "# Channel Access Token\n",
        "line_bot_api = LineBotApi(access_token)\n",
        "# Channel Secret\n",
        "handler = WebhookHandler(channel_secret)\n",
        "\n",
        "app = Flask(__name__)\n",
        "# 監聽所有來自 LINE Bot Channel 的 Post Request\n",
        "@app.route(\"/\", methods=['POST'])\n",
        "def linebot():\n",
        "    # get X-Line-Signature header value\n",
        "    signature = request.headers['X-Line-Signature']\n",
        "    # 取得傳來的訊息文字\n",
        "    body = request.get_data(as_text=True)\n",
        "    # 轉換訊息內容成 JSON 物件\n",
        "    json_data = json.loads(body)\n",
        "    # 驗證訊息正確性\n",
        "    try:\n",
        "        handler.handle(body, signature)\n",
        "        print(f\"訊息內容 {body}\")\n",
        "    except InvalidSignatureError:\n",
        "        abort(400)\n",
        "    return 'OK'\n",
        "\n",
        "# 回應圖片的 imgurl\n",
        "image_url = {'sticker_imag1':'https://i.imgur.com/GDsd8KJ.jpg'}\n",
        "# 處理 LINE Bot channel 傳來訊息\n",
        "@handler.add(MessageEvent, message=ImageMessage)\n",
        "def handle_image_message(event):\n",
        "  if event.message.type == 'image':\n",
        "    message_id = event.message.id\n",
        "\t# 讀取圖片資料並儲存\n",
        "    message_content = line_bot_api.get_message_content(message_id)\n",
        "    with open('temp_image.jpg', 'wb') as fd:\n",
        "      for chunk in message_content.iter_content():\n",
        "        fd.write(chunk)\n",
        "    img_url = imgur_upload('temp_image.jpg') # 上傳圖片到 imgur 取得 link\n",
        "    # 回傳圖片\n",
        "    message = ImageSendMessage(original_content_url= img_url, \\\n",
        "\t  preview_image_url = img_url)\n",
        "    line_bot_api.reply_message(event.reply_token, message)\n",
        "\n",
        "@handler.add(MessageEvent, message=TextMessage)\n",
        "def handle_message(event):\n",
        "  message = TextSendMessage(text=\"你送來的不是圖片!\")\n",
        "  line_bot_api.reply_message(event.reply_token, message)\n",
        "\n",
        "def imgur_upload(image): #上傳圖片到 imgur 並取得圖片網址\n",
        "   client_id = '25f4ae85bbaac00'\n",
        "   client_secret = 'bb4c2d5ec7e6a441ea22917c8c5aa3c7b0de6c23'\n",
        "   headers = {\n",
        "    'Authorization': 'Client-ID ' + client_id}\n",
        "   params = {'image': base64.b64encode(open(image, 'rb').read())}\n",
        "   r = requests.post(f'https://api.imgur.com/3/image', \\\n",
        "     headers=headers, data=params)\n",
        "   print('status:', r.status_code)\n",
        "   data = r.json() # 轉成 json 格式\n",
        "   #print(data)\n",
        "   print(data['data']['link'])\n",
        "   return data['data']['link']\n",
        "if __name__ == \"__main__\":\n",
        "    run_with_ngrok(app)\n",
        "    app.run()"
      ]
    },
    {
      "cell_type": "markdown",
      "metadata": {
        "id": "O45b0THpbl0l"
      },
      "source": [
        "#### 產生 ngrok url"
      ]
    },
    {
      "cell_type": "code",
      "source": [
        "# 第一種寫法\n",
        "from pyngrok import ngrok\n",
        "\n",
        "# 開啟特定的 port\n",
        "ngrok_tunnel = ngrok.connect(5000)  # 這裡的 5000 是你想要開啟的 port 號\n",
        "\n",
        "# 取得公開的 URL\n",
        "ngrok_url = ngrok_tunnel.public_url\n",
        "print(f'Public URL: {ngrok_url}')"
      ],
      "metadata": {
        "id": "i6KKBBDBbkpy"
      },
      "execution_count": null,
      "outputs": []
    },
    {
      "cell_type": "code",
      "execution_count": null,
      "metadata": {
        "colab": {
          "base_uri": "https://localhost:8080/"
        },
        "id": "z-9V7FJw6uWb",
        "outputId": "e7f5eb60-42d9-48d8-b684-85bf8f6739a0"
      },
      "outputs": [
        {
          "output_type": "stream",
          "name": "stdout",
          "text": [
            "https://d16b-34-86-12-145.ngrok-free.app\n"
          ]
        }
      ],
      "source": [
        "# 第二種寫法\n",
        "import requests\n",
        "import json\n",
        "import os\n",
        "\n",
        "os.system(\"ps aux | grep ngrok.exe | awk '{print $2}' | xargs kill -9\")\n",
        "os.system(\"nohup ngrok http 5000&\")\n",
        "ngrok_url = json.loads(requests.get('http://localhost:4040/api/tunnels').text)['tunnels'][0]['public_url']\n",
        "print(ngrok_url)"
      ]
    },
    {
      "cell_type": "code",
      "execution_count": null,
      "metadata": {
        "colab": {
          "base_uri": "https://localhost:8080/"
        },
        "id": "bzkAck_Tsv4p",
        "outputId": "d2d1bcdc-d918-4fc7-efec-e7668a0592b0"
      },
      "outputs": [
        {
          "output_type": "stream",
          "name": "stdout",
          "text": [
            "https://d16b-34-86-12-145.ngrok-free.app\n",
            " * Serving Flask app '__main__' (lazy loading)\n",
            " * Environment: production\n",
            "\u001b[31m   WARNING: This is a development server. Do not use it in a production deployment.\u001b[0m\n",
            "\u001b[2m   Use a production WSGI server instead.\u001b[0m\n",
            " * Debug mode: off\n"
          ]
        },
        {
          "output_type": "stream",
          "name": "stderr",
          "text": [
            "INFO:werkzeug:\u001b[31m\u001b[1mWARNING: This is a development server. Do not use it in a production deployment. Use a production WSGI server instead.\u001b[0m\n",
            " * Running on http://127.0.0.1:5000\n",
            "INFO:werkzeug:\u001b[33mPress CTRL+C to quit\u001b[0m\n"
          ]
        }
      ],
      "source": [
        "from flask_ngrok import run_with_ngrok\n",
        "from flask import Flask, request, abort\n",
        "\n",
        "from linebot import (\n",
        "    LineBotApi, WebhookHandler\n",
        ")\n",
        "from linebot.exceptions import (\n",
        "    InvalidSignatureError\n",
        ")\n",
        "from linebot.models import *\n",
        "import json, os, time, requests\n",
        "from google.colab import drive\n",
        "\n",
        "app = Flask(__name__)\n",
        "print(ngrok_url)\n",
        "\n",
        "# 你的 LINE Channel access token'\n",
        "access_token = 'hea6hI/LTc4FCcgIlR51IbcAjPWqy9QtsG5XX9Ce+4GwdfJH1EKl5/YOT3Hw4+aZOGWZSKcKPmEnUqzE4tOoBjPdvyVJJjIHwm9RN9/cWbwT7Je2GW7uNtaTSKysDrcW8F/BSEFJpywQo5Z9DXry6gdB04t89/1O/w1cDnyilFU='\n",
        "# 你的 LINE Channel access token\n",
        "channel_secret = '77ff5430fad4531107ca11f1c495e7dd'\n",
        "\n",
        "# Channel Access Token\n",
        "line_bot_api = LineBotApi(access_token)\n",
        "# Channel Secret\n",
        "handler = WebhookHandler(channel_secret)\n",
        "# 設定 webhook url\n",
        "\n",
        "line_bot_api.set_webhook_endpoint(ngrok_url)\n",
        "\n",
        "# 監聽所有來自 LINE Bot Channel 的 Post Request\n",
        "@app.route(\"/\", methods=['POST'])\n",
        "def linebot():\n",
        "    # get X-Line-Signature header value\n",
        "    signature = request.headers['X-Line-Signature']\n",
        "    # 取得傳來的訊息文字\n",
        "    body = request.get_data(as_text=True)\n",
        "    print(f\"訊息內容 {body}\")\n",
        "    # 轉換訊息內容成 JSON 物件\n",
        "    json_data = json.loads(body)\n",
        "    # 驗證訊息正確性\n",
        "    try:\n",
        "        handler.handle(body, signature)\n",
        "    except InvalidSignatureError:\n",
        "        abort(400)\n",
        "    return 'OK'\n",
        "\n",
        "# 處理 LINE Bot channel 傳來訊息\n",
        "@handler.add(MessageEvent, message=TextMessage)\n",
        "def handle_message(event):\n",
        "\tif event.message.type == 'text':\n",
        "\t\tmessage = TextSendMessage(text = event.message.text)\n",
        "\t\tline_bot_api.reply_message(event.reply_token, message)\n",
        "\n",
        "if __name__ == \"__main__\":\n",
        "  app.run()"
      ]
    },
    {
      "cell_type": "markdown",
      "source": [
        "使用 os.getenv() 儲存祕密值\n",
        "\n",
        "1. 建立 env 檔"
      ],
      "metadata": {
        "id": "Y3S_7NaXqBXY"
      }
    },
    {
      "cell_type": "code",
      "source": [
        "!echo \"CHANNEL_ACCESS_TOKEN=hea6hI/LTc4FCcgIlR51IbcAjPWqy9QtsG5XX9Ce+4GwdfJH1EKl5/YOT3Hw4+aZOGWZSKcKPmEnUqzE4tOoBjPdvyVJJjIHwm9RN9/cWbwT7Je2GW7uNtaTSKysDrcW8F/BSEFJpywQo5Z9DXry6gdB04t89/1O/w1cDnyilFU=\" > data.env\n",
        "!echo \"CHANNEL_SECRET=77ff5430fad4531107ca11f1c495e7dd\" >> data.env"
      ],
      "metadata": {
        "id": "iGpWSetUqW8l"
      },
      "execution_count": null,
      "outputs": []
    },
    {
      "cell_type": "code",
      "source": [
        "!pip install python-dotenv"
      ],
      "metadata": {
        "colab": {
          "base_uri": "https://localhost:8080/"
        },
        "id": "9LjtyaQju7Gx",
        "outputId": "5f2ba8cf-1217-4a86-bcc5-c6af35e4f395"
      },
      "execution_count": null,
      "outputs": [
        {
          "output_type": "stream",
          "name": "stdout",
          "text": [
            "Looking in indexes: https://pypi.org/simple, https://us-python.pkg.dev/colab-wheels/public/simple/\n",
            "Collecting python-dotenv\n",
            "  Downloading python_dotenv-1.0.0-py3-none-any.whl (19 kB)\n",
            "Installing collected packages: python-dotenv\n",
            "Successfully installed python-dotenv-1.0.0\n"
          ]
        }
      ]
    },
    {
      "cell_type": "code",
      "source": [
        "from dotenv import load_dotenv\n",
        "# 載入 .env 檔案中的環境變數\n",
        "load_dotenv(\"data.env\")"
      ],
      "metadata": {
        "colab": {
          "base_uri": "https://localhost:8080/"
        },
        "id": "iPLI4zc7vAEz",
        "outputId": "ff11ed5e-6cc3-4f1c-afad-9fd602be0f66"
      },
      "execution_count": null,
      "outputs": [
        {
          "output_type": "execute_result",
          "data": {
            "text/plain": [
              "True"
            ]
          },
          "metadata": {},
          "execution_count": 31
        }
      ]
    },
    {
      "cell_type": "code",
      "source": [
        "from flask_ngrok import run_with_ngrok\n",
        "from flask import Flask, request, abort\n",
        "\n",
        "from linebot import (\n",
        "    LineBotApi, WebhookHandler\n",
        ")\n",
        "from linebot.exceptions import (\n",
        "    InvalidSignatureError\n",
        ")\n",
        "from linebot.models import *\n",
        "import json, os, time, requests\n",
        "from google.colab import drive\n",
        "import os\n",
        "\n",
        "def get_ngrokurl():\n",
        "    os.system(\"ps aux | grep ngrok.exe | awk '{print $2}' | xargs kill -9\")\n",
        "    os.system(\"nohup ngrok http 5000&\")\n",
        "    time.sleep(3)\n",
        "    public_url = json.loads(requests.get('http://localhost:4040/api/tunnels').text)['tunnels'][0]['public_url']\n",
        "    return public_url\n",
        "\n",
        "app = Flask(__name__)\n",
        "ngrok_url = get_ngrokurl()\n",
        "print(ngrok_url)\n",
        "\n",
        "# 你的 LINE Channel access token'\n",
        "access_token = os.getenv(\"CHANNEL_ACCESS_TOKEN\")\n",
        "print(access_token)\n",
        "# 你的 LINE Channel access token\n",
        "channel_secret = os.getenv(\"CHANNEL_SECRET\")\n",
        "print(channel_secret)\n",
        "\n",
        "# Channel Access Token\n",
        "line_bot_api = LineBotApi(access_token)\n",
        "# Channel Secret\n",
        "handler = WebhookHandler(channel_secret)\n",
        "# 設定 webhook url\n",
        "\n",
        "line_bot_api.set_webhook_endpoint(ngrok_url)\n",
        "\n",
        "# 監聽所有來自 LINE Bot Channel 的 Post Request\n",
        "@app.route(\"/\", methods=['POST'])\n",
        "def linebot():\n",
        "    # get X-Line-Signature header value\n",
        "    signature = request.headers['X-Line-Signature']\n",
        "    # 取得傳來的訊息文字\n",
        "    body = request.get_data(as_text=True)\n",
        "    print(f\"訊息內容 {body}\")\n",
        "    # 轉換訊息內容成 JSON 物件\n",
        "    json_data = json.loads(body)\n",
        "    # 驗證訊息正確性\n",
        "    try:\n",
        "        handler.handle(body, signature)\n",
        "    except InvalidSignatureError:\n",
        "        abort(400)\n",
        "    return 'OK'\n",
        "\n",
        "# 處理 LINE Bot channel 傳來訊息\n",
        "@handler.add(MessageEvent, message=TextMessage)\n",
        "def handle_message(event):\n",
        "\tif event.message.type == 'text':\n",
        "\t\tmessage = TextSendMessage(text = event.message.text)\n",
        "\t\tline_bot_api.reply_message(event.reply_token, message)\n",
        "\n",
        "if __name__ == \"__main__\":\n",
        "  app.run()"
      ],
      "metadata": {
        "colab": {
          "base_uri": "https://localhost:8080/"
        },
        "id": "_VDgnQb0roF0",
        "outputId": "f18976d6-1fbb-4a03-e7b7-a28050ec896b"
      },
      "execution_count": null,
      "outputs": [
        {
          "output_type": "stream",
          "name": "stdout",
          "text": [
            "https://bbf9-34-86-12-145.ngrok-free.app\n",
            "hea6hI/LTc4FCcgIlR51IbcAjPWqy9QtsG5XX9Ce+4GwdfJH1EKl5/YOT3Hw4+aZOGWZSKcKPmEnUqzE4tOoBjPdvyVJJjIHwm9RN9/cWbwT7Je2GW7uNtaTSKysDrcW8F/BSEFJpywQo5Z9DXry6gdB04t89/1O/w1cDnyilFU=\n",
            "77ff5430fad4531107ca11f1c495e7dd\n",
            " * Serving Flask app '__main__' (lazy loading)\n",
            " * Environment: production\n",
            "\u001b[31m   WARNING: This is a development server. Do not use it in a production deployment.\u001b[0m\n",
            "\u001b[2m   Use a production WSGI server instead.\u001b[0m\n",
            " * Debug mode: off\n"
          ]
        },
        {
          "output_type": "stream",
          "name": "stderr",
          "text": [
            "INFO:werkzeug:\u001b[31m\u001b[1mWARNING: This is a development server. Do not use it in a production deployment. Use a production WSGI server instead.\u001b[0m\n",
            " * Running on http://127.0.0.1:5000\n",
            "INFO:werkzeug:\u001b[33mPress CTRL+C to quit\u001b[0m\n"
          ]
        },
        {
          "output_type": "stream",
          "name": "stdout",
          "text": [
            "訊息內容 {\"destination\":\"Uef68021487469a005636e72e466f9acc\",\"events\":[{\"type\":\"message\",\"message\":{\"type\":\"text\",\"id\":\"461407604703232129\",\"text\":\"text\"},\"webhookEventId\":\"01H3XWS4SD82VYSY1MQFNPRVJC\",\"deliveryContext\":{\"isRedelivery\":false},\"timestamp\":1687851667762,\"source\":{\"type\":\"user\",\"userId\":\"Ubf2b9f4188d45848fb4697d41c962591\"},\"replyToken\":\"9a0d4e90d50f402e8a2bb9a244f32f5d\",\"mode\":\"active\"}]}\n"
          ]
        },
        {
          "output_type": "stream",
          "name": "stderr",
          "text": [
            "INFO:werkzeug:127.0.0.1 - - [27/Jun/2023 07:41:08] \"POST / HTTP/1.1\" 200 -\n"
          ]
        }
      ]
    },
    {
      "cell_type": "markdown",
      "metadata": {
        "id": "7fHZ5iQOxMq2"
      },
      "source": [
        "#### 訊息物件 Event 屬性"
      ]
    },
    {
      "cell_type": "markdown",
      "metadata": {
        "id": "kmqiKGIwxEds"
      },
      "source": [
        "回傳訊息物件屬性資訊"
      ]
    },
    {
      "cell_type": "code",
      "execution_count": null,
      "metadata": {
        "colab": {
          "base_uri": "https://localhost:8080/"
        },
        "id": "nhexEyS-xLZI",
        "outputId": "80da7869-3654-45a7-e759-2e2a11da7aa4"
      },
      "outputs": [
        {
          "output_type": "stream",
          "name": "stdout",
          "text": [
            "https://c380-104-196-165-126.ngrok-free.app\n",
            " * Serving Flask app '__main__' (lazy loading)\n",
            " * Environment: production\n",
            "\u001b[31m   WARNING: This is a development server. Do not use it in a production deployment.\u001b[0m\n",
            "\u001b[2m   Use a production WSGI server instead.\u001b[0m\n",
            " * Debug mode: off\n"
          ]
        },
        {
          "output_type": "stream",
          "name": "stderr",
          "text": [
            "INFO:werkzeug:\u001b[31m\u001b[1mWARNING: This is a development server. Do not use it in a production deployment. Use a production WSGI server instead.\u001b[0m\n",
            " * Running on http://127.0.0.1:5000\n",
            "INFO:werkzeug:\u001b[33mPress CTRL+C to quit\u001b[0m\n"
          ]
        }
      ],
      "source": [
        "from flask_ngrok import run_with_ngrok\n",
        "from flask import Flask, request, abort\n",
        "\n",
        "from flask import Flask, request, abort\n",
        "\n",
        "from linebot import (\n",
        "    LineBotApi, WebhookHandler\n",
        ")\n",
        "from linebot.exceptions import (\n",
        "    InvalidSignatureError\n",
        ")\n",
        "from linebot.models import *\n",
        "import json, os, time, requests\n",
        "\n",
        "app = Flask(__name__)\n",
        "print(ngrok_url)\n",
        "\n",
        "# 你的 LINE Channel access token'\n",
        "access_token = 'hea6hI/LTc4FCcgIlR51IbcAjPWqy9QtsG5XX9Ce+4GwdfJH1EKl5/YOT3Hw4+aZOGWZSKcKPmEnUqzE4tOoBjPdvyVJJjIHwm9RN9/cWbwT7Je2GW7uNtaTSKysDrcW8F/BSEFJpywQo5Z9DXry6gdB04t89/1O/w1cDnyilFU='\n",
        "# 你的 LINE Channel access token\n",
        "channel_secret = '77ff5430fad4531107ca11f1c495e7dd'\n",
        "\n",
        "\n",
        "# Channel Access Token\n",
        "line_bot_api = LineBotApi(access_token)\n",
        "# Channel Secret\n",
        "handler = WebhookHandler(channel_secret)\n",
        "# 設定 webhook url\n",
        "line_bot_api.set_webhook_endpoint(ngrok_url)\n",
        "\n",
        "# 監聽所有來自 LINE Bot Channel 的 Post Request\n",
        "@app.route(\"/\", methods=['POST'])\n",
        "def linebot():\n",
        "    # get X-Line-Signature header value\n",
        "    signature = request.headers['X-Line-Signature']\n",
        "    # 取得傳來的訊息文字\n",
        "    body = request.get_data(as_text=True)\n",
        "    print(f\"訊息內容 {body}\")\n",
        "    # 轉換訊息內容成 JSON 物件\n",
        "    json_data = json.loads(body)\n",
        "    # 驗證訊息正確性\n",
        "    try:\n",
        "        handler.handle(body, signature)\n",
        "    except InvalidSignatureError:\n",
        "        abort(400)\n",
        "    return 'OK'\n",
        "\n",
        "# 處理 LINE Bot channel 傳來訊息\n",
        "@handler.add(MessageEvent, message=TextMessage)\n",
        "def handle_message(event):\n",
        "  if event.message.text == '回應訊息':\n",
        "    eventInfo = 'type: ' + event.type + '\\n' \\\n",
        "\t          + 'message_type: ' + event.message.type + '\\n' \\\n",
        "\t          + 'reply_token: ' + event.reply_token + '\\n' \\\n",
        "\t          + 'userid: ' + event.source.user_id + '\\n' \\\n",
        "\t          + 'message_text: ' + event.message.text\n",
        "    message = TextSendMessage(text=\"訊息事件資訊 \\n\" + eventInfo)\n",
        "    line_bot_api.reply_message(event.reply_token, message)\n",
        "\n",
        "if __name__ == \"__main__\":\n",
        "  app.run()"
      ]
    },
    {
      "cell_type": "markdown",
      "metadata": {
        "id": "pjb5neKtlIQi"
      },
      "source": [
        "#### 取得 Google Map 資訊"
      ]
    },
    {
      "cell_type": "markdown",
      "metadata": {
        "id": "hg-lR6_RlQtu"
      },
      "source": [
        "題目範例：回應 Google MAP 位置資訊"
      ]
    },
    {
      "cell_type": "code",
      "execution_count": null,
      "metadata": {
        "colab": {
          "base_uri": "https://localhost:8080/"
        },
        "id": "1rAXBcjohpY2",
        "outputId": "5b9d57a2-b45d-434e-918e-8230720c395f"
      },
      "outputs": [
        {
          "name": "stdout",
          "output_type": "stream",
          "text": [
            "https://21de-34-90-236-37.ngrok.io\n",
            " * Serving Flask app '__main__' (lazy loading)\n",
            " * Environment: production\n",
            "\u001b[31m   WARNING: This is a development server. Do not use it in a production deployment.\u001b[0m\n",
            "\u001b[2m   Use a production WSGI server instead.\u001b[0m\n",
            " * Debug mode: off\n"
          ]
        },
        {
          "name": "stderr",
          "output_type": "stream",
          "text": [
            "INFO:werkzeug:\u001b[31m\u001b[1mWARNING: This is a development server. Do not use it in a production deployment. Use a production WSGI server instead.\u001b[0m\n",
            " * Running on http://127.0.0.1:5000\n",
            "INFO:werkzeug:\u001b[33mPress CTRL+C to quit\u001b[0m\n"
          ]
        },
        {
          "name": "stdout",
          "output_type": "stream",
          "text": [
            "訊息內容 {\"destination\":\"Uef68021487469a005636e72e466f9acc\",\"events\":[{\"type\":\"message\",\"message\":{\"type\":\"location\",\"id\":\"17804987304296\",\"latitude\":25.223531,\"longitude\":121.448865,\"title\":\"賢孝玄聖殿\",\"address\":\"淡水區後洲子6之1號\"},\"webhookEventId\":\"01GVHVVKEKABQ3EM4H9ZBSSBNQ\",\"deliveryContext\":{\"isRedelivery\":false},\"timestamp\":1678858112180,\"source\":{\"type\":\"user\",\"userId\":\"Ubf2b9f4188d45848fb4697d41c962591\"},\"replyToken\":\"93600ef9261c41cbbcd71d0093379890\",\"mode\":\"active\"}]}\n",
            "event:  {\"deliveryContext\": {\"isRedelivery\": false}, \"message\": {\"address\": \"\\u6de1\\u6c34\\u5340\\u5f8c\\u6d32\\u5b506\\u4e4b1\\u865f\", \"id\": \"17804987304296\", \"latitude\": 25.223531, \"longitude\": 121.448865, \"title\": \"\\u8ce2\\u5b5d\\u7384\\u8056\\u6bbf\", \"type\": \"location\"}, \"mode\": \"active\", \"replyToken\": \"93600ef9261c41cbbcd71d0093379890\", \"source\": {\"type\": \"user\", \"userId\": \"Ubf2b9f4188d45848fb4697d41c962591\"}, \"timestamp\": 1678858112180, \"type\": \"message\", \"webhookEventId\": \"01GVHVVKEKABQ3EM4H9ZBSSBNQ\"}\n",
            "標題：賢孝玄聖殿 地址：淡水區後洲子6之1號,緯度：25.223531, 經度：121.448865\n"
          ]
        },
        {
          "name": "stderr",
          "output_type": "stream",
          "text": [
            "INFO:werkzeug:127.0.0.1 - - [15/Mar/2023 05:28:34] \"POST / HTTP/1.1\" 200 -\n"
          ]
        }
      ],
      "source": [
        "from flask_ngrok import run_with_ngrok\n",
        "from flask import Flask, request, abort\n",
        "\n",
        "from flask import Flask, request, abort\n",
        "\n",
        "from linebot import (\n",
        "    LineBotApi, WebhookHandler\n",
        ")\n",
        "from linebot.exceptions import (\n",
        "    InvalidSignatureError\n",
        ")\n",
        "from linebot.models import *\n",
        "import json, os, time, requests\n",
        "\n",
        "app = Flask(__name__)\n",
        "print(ngrok_url)\n",
        "\n",
        "# 你的 LINE Channel access token'\n",
        "access_token = 'hea6hI/LTc4FCcgIlR51IbcAjPWqy9QtsG5XX9Ce+4GwdfJH1EKl5/YOT3Hw4+aZOGWZSKcKPmEnUqzE4tOoBjPdvyVJJjIHwm9RN9/cWbwT7Je2GW7uNtaTSKysDrcW8F/BSEFJpywQo5Z9DXry6gdB04t89/1O/w1cDnyilFU='\n",
        "# 你的 LINE Channel access token\n",
        "channel_secret = '77ff5430fad4531107ca11f1c495e7dd'\n",
        "\n",
        "# Channel Access Token\n",
        "line_bot_api = LineBotApi(access_token)\n",
        "# Channel Secret\n",
        "handler = WebhookHandler(channel_secret)\n",
        "# 設定 webhook url\n",
        "line_bot_api.set_webhook_endpoint(ngrok_url)\n",
        "\n",
        "# 監聽所有來自 LINE Bot Channel 的 Post Request\n",
        "@app.route(\"/\", methods=['POST'])\n",
        "def linebot():\n",
        "    # get X-Line-Signature header value\n",
        "    signature = request.headers['X-Line-Signature']\n",
        "    # 取得傳來的訊息文字\n",
        "    body = request.get_data(as_text=True)\n",
        "    print(f\"訊息內容 {body}\")\n",
        "    # 轉換訊息內容成 JSON 物件\n",
        "    json_data = json.loads(body)\n",
        "    # 驗證訊息正確性\n",
        "    try:\n",
        "        handler.handle(body, signature)\n",
        "    except InvalidSignatureError:\n",
        "        abort(400)\n",
        "    return 'OK'\n",
        "\n",
        "# 處理 LINE Bot channel 傳來訊息\n",
        "@handler.add(MessageEvent, message=LocationMessage)\n",
        "def handle_message(event):\n",
        "      print(\"event: \", event)\n",
        "      address_info = event.message.address\n",
        "      latitude_info = event.message.latitude\n",
        "      longitude_info = event.message.longitude\n",
        "      title_info = event.message.title\n",
        "      print(f\"標題：{title_info} 地址：{address_info},緯度：{latitude_info}, 經度：{longitude_info}\")\n",
        "      message = LocationSendMessage(title = title_info, address=address_info,\\\n",
        "                                    latitude = latitude_info, longitude = longitude_info)\n",
        "      line_bot_api.reply_message(event.reply_token, message)\n",
        "\n",
        "if __name__ == \"__main__\":\n",
        "  app.run()"
      ]
    },
    {
      "cell_type": "markdown",
      "metadata": {
        "id": "f8zfrwO3fgKx"
      },
      "source": [
        "#### 實戰 (3) LINE Bot 回應 Google Map\n",
        "要求：使用者輸入地標名稱，LINE Bot 回應 Google Map 資訊"
      ]
    },
    {
      "cell_type": "code",
      "execution_count": null,
      "metadata": {
        "colab": {
          "base_uri": "https://localhost:8080/",
          "height": 244
        },
        "id": "QWIJgWkWfv3V",
        "outputId": "e1edeb2f-6917-41a7-bdf4-2fe324c07c79"
      },
      "outputs": [
        {
          "output_type": "error",
          "ename": "NameError",
          "evalue": "ignored",
          "traceback": [
            "\u001b[0;31m---------------------------------------------------------------------------\u001b[0m",
            "\u001b[0;31mNameError\u001b[0m                                 Traceback (most recent call last)",
            "\u001b[0;32m<ipython-input-5-0522a55c62e9>\u001b[0m in \u001b[0;36m<cell line: 16>\u001b[0;34m()\u001b[0m\n\u001b[1;32m     14\u001b[0m \u001b[0;34m\u001b[0m\u001b[0m\n\u001b[1;32m     15\u001b[0m \u001b[0mapp\u001b[0m \u001b[0;34m=\u001b[0m \u001b[0mFlask\u001b[0m\u001b[0;34m(\u001b[0m\u001b[0m__name__\u001b[0m\u001b[0;34m)\u001b[0m\u001b[0;34m\u001b[0m\u001b[0;34m\u001b[0m\u001b[0m\n\u001b[0;32m---> 16\u001b[0;31m \u001b[0mprint\u001b[0m\u001b[0;34m(\u001b[0m\u001b[0mngrok_url\u001b[0m\u001b[0;34m)\u001b[0m\u001b[0;34m\u001b[0m\u001b[0;34m\u001b[0m\u001b[0m\n\u001b[0m\u001b[1;32m     17\u001b[0m \u001b[0;34m\u001b[0m\u001b[0m\n\u001b[1;32m     18\u001b[0m \u001b[0;31m# 你的 LINE Channel access token'\u001b[0m\u001b[0;34m\u001b[0m\u001b[0;34m\u001b[0m\u001b[0m\n",
            "\u001b[0;31mNameError\u001b[0m: name 'ngrok_url' is not defined"
          ]
        }
      ],
      "source": [
        "from flask_ngrok import run_with_ngrok\n",
        "from flask import Flask, request, abort\n",
        "\n",
        "from flask import Flask, request, abort\n",
        "\n",
        "from linebot import (\n",
        "    LineBotApi, WebhookHandler\n",
        ")\n",
        "from linebot.exceptions import (\n",
        "    InvalidSignatureError\n",
        ")\n",
        "from linebot.models import *\n",
        "import json, os, time, requests\n",
        "\n",
        "app = Flask(__name__)\n",
        "print(ngrok_url)\n",
        "\n",
        "# 你的 LINE Channel access token'\n",
        "access_token = 'hea6hI/LTc4FCcgIlR51IbcAjPWqy9QtsG5XX9Ce+4GwdfJH1EKl5/YOT3Hw4+aZOGWZSKcKPmEnUqzE4tOoBjPdvyVJJjIHwm9RN9/cWbwT7Je2GW7uNtaTSKysDrcW8F/BSEFJpywQo5Z9DXry6gdB04t89/1O/w1cDnyilFU='\n",
        "# 你的 LINE Channel access token\n",
        "channel_secret = '77ff5430fad4531107ca11f1c495e7dd'\n",
        "\n",
        "# Channel Access Token\n",
        "line_bot_api = LineBotApi(access_token)\n",
        "# Channel Secret\n",
        "handler = WebhookHandler(channel_secret)\n",
        "# 設定 webhook url\n",
        "line_bot_api.set_webhook_endpoint(ngrok_url)\n",
        "\n",
        "# 監聽所有來自 LINE Bot Channel 的 Post Request\n",
        "@app.route(\"/\", methods=['POST'])\n",
        "def linebot():\n",
        "    # get X-Line-Signature header value\n",
        "    signature = request.headers['X-Line-Signature']\n",
        "    # 取得傳來的訊息文字\n",
        "    body = request.get_data(as_text=True)\n",
        "    print(f\"訊息內容 {body}\")\n",
        "    # 轉換訊息內容成 JSON 物件\n",
        "    json_data = json.loads(body)\n",
        "    # 驗證訊息正確性\n",
        "    try:\n",
        "        handler.handle(body, signature)\n",
        "    except InvalidSignatureError:\n",
        "        abort(400)\n",
        "    return 'OK'\n",
        "\n",
        "# 處理 LINE Bot channel 傳來訊息\n",
        "@handler.add(MessageEvent, message=TextMessage)\n",
        "def handle_message(event):\n",
        "  msg = event.message.text\n",
        "  location_dect = reply_location(msg)  # 取得對應的地圖資訊，如果沒有取得，會是 False\n",
        "  if location_dect:\n",
        "  # 如果有地點資訊，回傳地點\n",
        "    location_message = LocationSendMessage(title=location_dect['title'],\n",
        "                                            address=location_dect['address'],\n",
        "                                            latitude=location_dect['latitude'],\n",
        "                                            longitude=location_dect['longitude'])\n",
        "    line_bot_api.reply_message(event.reply_token,location_message)\n",
        "  else:\n",
        "  # 如果是 False，回傳文字\n",
        "    text_message = TextSendMessage(text='找不到相關地點')\n",
        "    line_bot_api.reply_message(event.reply_token, text_message)\n",
        "\n",
        "# 建立回覆地點的函式\n",
        "def reply_location(text):\n",
        "    # 建立地點與文字對應的字典\n",
        "    location = {\n",
        "        '101':{\n",
        "            'title':'台北 101',\n",
        "            'address':'110台北市信義區信義路五段7號',\n",
        "            'latitude':'25.034095712145003',\n",
        "            'longitude':'121.56489941996108'\n",
        "        },\n",
        "        '總統府':{\n",
        "            'title':'總統府',\n",
        "            'address':'100台北市中正區重慶南路一段122號',\n",
        "            'latitude':'25.040319874750914',\n",
        "            'longitude':'121.51162883484746'\n",
        "        }\n",
        "    }\n",
        "    if text in location:\n",
        "      return location[text]\n",
        "    else:\n",
        "      # 如果找不到對應的地點，回傳 False\n",
        "      return False\n",
        "\n",
        "if __name__ == \"__main__\":\n",
        "  app.run()"
      ]
    },
    {
      "cell_type": "markdown",
      "metadata": {
        "id": "m9aryfBHujKg"
      },
      "source": [
        "#### 回應多媒體訊息"
      ]
    },
    {
      "cell_type": "markdown",
      "metadata": {
        "id": "3YuL8fSXoPcN"
      },
      "source": [
        "回應影片"
      ]
    },
    {
      "cell_type": "code",
      "execution_count": null,
      "metadata": {
        "colab": {
          "base_uri": "https://localhost:8080/"
        },
        "id": "L6PAo5lMoSgG",
        "outputId": "b5abcb82-9dbb-4b64-fc3d-11bacb8ad999"
      },
      "outputs": [
        {
          "output_type": "stream",
          "name": "stdout",
          "text": [
            "https://3fad-34-139-231-254.ngrok.io\n",
            " * Serving Flask app '__main__' (lazy loading)\n",
            " * Environment: production\n",
            "\u001b[31m   WARNING: This is a development server. Do not use it in a production deployment.\u001b[0m\n",
            "\u001b[2m   Use a production WSGI server instead.\u001b[0m\n",
            " * Debug mode: off\n"
          ]
        },
        {
          "output_type": "stream",
          "name": "stderr",
          "text": [
            "INFO:werkzeug:\u001b[31m\u001b[1mWARNING: This is a development server. Do not use it in a production deployment. Use a production WSGI server instead.\u001b[0m\n",
            " * Running on http://127.0.0.1:5000\n",
            "INFO:werkzeug:\u001b[33mPress CTRL+C to quit\u001b[0m\n"
          ]
        },
        {
          "output_type": "stream",
          "name": "stdout",
          "text": [
            "訊息內容 {\"destination\":\"Uef68021487469a005636e72e466f9acc\",\"events\":[{\"type\":\"message\",\"message\":{\"type\":\"text\",\"id\":\"17845287072257\",\"text\":\"傳送影片\"},\"webhookEventId\":\"01GW3VZZTDXJ4XKJC4E7X57DV0\",\"deliveryContext\":{\"isRedelivery\":false},\"timestamp\":1679462235474,\"source\":{\"type\":\"user\",\"userId\":\"Ubf2b9f4188d45848fb4697d41c962591\"},\"replyToken\":\"7a55b7a14e0a4ce1925c660b5a4e0570\",\"mode\":\"active\"}]}\n"
          ]
        },
        {
          "output_type": "stream",
          "name": "stderr",
          "text": [
            "INFO:werkzeug:127.0.0.1 - - [22/Mar/2023 05:17:17] \"POST / HTTP/1.1\" 200 -\n"
          ]
        }
      ],
      "source": [
        "from flask_ngrok import run_with_ngrok\n",
        "from flask import Flask, request, abort\n",
        "from linebot import (\n",
        "    LineBotApi, WebhookHandler\n",
        ")\n",
        "from linebot.exceptions import (\n",
        "    InvalidSignatureError\n",
        ")\n",
        "from linebot.models import *\n",
        "import json, os, time, requests\n",
        "\n",
        "app = Flask(__name__)\n",
        "print(ngrok_url)\n",
        "\n",
        "# 你的 LINE Channel access token'\n",
        "access_token = 'hea6hI/LTc4FCcgIlR51IbcAjPWqy9QtsG5XX9Ce+4GwdfJH1EKl5/YOT3Hw4+aZOGWZSKcKPmEnUqzE4tOoBjPdvyVJJjIHwm9RN9/cWbwT7Je2GW7uNtaTSKysDrcW8F/BSEFJpywQo5Z9DXry6gdB04t89/1O/w1cDnyilFU='\n",
        "# 你的 LINE Channel access token\n",
        "channel_secret = '77ff5430fad4531107ca11f1c495e7dd'\n",
        "\n",
        "# Channel Access Token\n",
        "line_bot_api = LineBotApi(access_token)\n",
        "# Channel Secret\n",
        "handler = WebhookHandler(channel_secret)\n",
        "# 設定 webhook url\n",
        "line_bot_api.set_webhook_endpoint(ngrok_url)\n",
        "\n",
        "# 監聽所有來自 LINE Bot Channel 的 Post Request\n",
        "@app.route(\"/\", methods=['POST'])\n",
        "def linebot():\n",
        "    # get X-Line-Signature header value\n",
        "    signature = request.headers['X-Line-Signature']\n",
        "    # 取得傳來的訊息文字\n",
        "    body = request.get_data(as_text=True)\n",
        "    print(f\"訊息內容 {body}\")\n",
        "    # 轉換訊息內容成 JSON 物件\n",
        "    json_data = json.loads(body)\n",
        "    # 驗證訊息正確性\n",
        "    try:\n",
        "        handler.handle(body, signature)\n",
        "    except InvalidSignatureError:\n",
        "        abort(400)\n",
        "    return 'OK'\n",
        "\n",
        "# 處理 LINE Bot channel 傳來訊息\n",
        "@handler.add(MessageEvent, message=TextMessage)\n",
        "def handle_message(event):\n",
        "  if event.message.text == '傳送影片':\n",
        "     try:\n",
        "       message = VideoSendMessage(\n",
        "\t    original_content_url = 'https://i.imgur.com/pY4pcKc.mp4',\n",
        "\t    preview_image_url = 'https://i.imgur.com/AFdCGs2.jpg'\n",
        "\t   )\n",
        "       line_bot_api.reply_message(event.reply_token, message)\n",
        "     except:\n",
        "       line_bot_api.reply_message(event.reply_token, TextSendMessage(text='發生錯誤!'))\n",
        "  else:\n",
        "     message = TextSendMessage(text='請求錯誤!')\n",
        "     line_bot_api.reply_message(event.reply_token, message)\n",
        "\n",
        "if __name__ == \"__main__\":\n",
        "  app.run()"
      ]
    },
    {
      "cell_type": "markdown",
      "metadata": {
        "id": "9l6epiE5p1zl"
      },
      "source": [
        "傳送聲音"
      ]
    },
    {
      "cell_type": "code",
      "execution_count": null,
      "metadata": {
        "colab": {
          "base_uri": "https://localhost:8080/"
        },
        "id": "GmiVcKy1upae",
        "outputId": "1949a9b5-1f4d-4843-9a6c-ff3617477aba"
      },
      "outputs": [
        {
          "output_type": "stream",
          "name": "stdout",
          "text": [
            "https://66ec-34-139-231-254.ngrok.io\n",
            " * Serving Flask app '__main__' (lazy loading)\n",
            " * Environment: production\n",
            "\u001b[31m   WARNING: This is a development server. Do not use it in a production deployment.\u001b[0m\n",
            "\u001b[2m   Use a production WSGI server instead.\u001b[0m\n",
            " * Debug mode: off\n"
          ]
        },
        {
          "output_type": "stream",
          "name": "stderr",
          "text": [
            "INFO:werkzeug:\u001b[31m\u001b[1mWARNING: This is a development server. Do not use it in a production deployment. Use a production WSGI server instead.\u001b[0m\n",
            " * Running on http://127.0.0.1:5000\n",
            "INFO:werkzeug:\u001b[33mPress CTRL+C to quit\u001b[0m\n"
          ]
        },
        {
          "output_type": "stream",
          "name": "stdout",
          "text": [
            "訊息內容 {\"destination\":\"Uef68021487469a005636e72e466f9acc\",\"events\":[{\"type\":\"message\",\"message\":{\"type\":\"audio\",\"id\":\"17845321316119\",\"duration\":1116,\"contentProvider\":{\"type\":\"line\"}},\"webhookEventId\":\"01GW3WED7CJP7G5ANY0T52Z935\",\"deliveryContext\":{\"isRedelivery\":false},\"timestamp\":1679462708418,\"source\":{\"type\":\"user\",\"userId\":\"Ubf2b9f4188d45848fb4697d41c962591\"},\"replyToken\":\"12d87736fc044e2791c2467c176ac7a2\",\"mode\":\"active\"}]}\n"
          ]
        },
        {
          "output_type": "stream",
          "name": "stderr",
          "text": [
            "INFO:werkzeug:127.0.0.1 - - [22/Mar/2023 05:25:10] \"POST / HTTP/1.1\" 200 -\n"
          ]
        }
      ],
      "source": [
        "from flask_ngrok import run_with_ngrok\n",
        "from flask import Flask, request, abort\n",
        "from linebot import (\n",
        "    LineBotApi, WebhookHandler\n",
        ")\n",
        "from linebot.exceptions import (\n",
        "    InvalidSignatureError\n",
        ")\n",
        "from linebot.models import *\n",
        "import json, os, time\n",
        "\n",
        "app = Flask(__name__)\n",
        "print(ngrok_url)\n",
        "\n",
        "# 你的 LINE Channel access token'\n",
        "access_token = 'hea6hI/LTc4FCcgIlR51IbcAjPWqy9QtsG5XX9Ce+4GwdfJH1EKl5/YOT3Hw4+aZOGWZSKcKPmEnUqzE4tOoBjPdvyVJJjIHwm9RN9/cWbwT7Je2GW7uNtaTSKysDrcW8F/BSEFJpywQo5Z9DXry6gdB04t89/1O/w1cDnyilFU='\n",
        "# 你的 LINE Channel access token\n",
        "channel_secret = '77ff5430fad4531107ca11f1c495e7dd'\n",
        "\n",
        "# Channel Access Token\n",
        "line_bot_api = LineBotApi(access_token)\n",
        "# Channel Secret\n",
        "handler = WebhookHandler(channel_secret)\n",
        "# 設定 webhook url\n",
        "line_bot_api.set_webhook_endpoint(ngrok_url)\n",
        "\n",
        "# 監聽所有來自 LINE Bot Channel 的 Post Request\n",
        "@app.route(\"/\", methods=['POST'])\n",
        "def linebot():\n",
        "    # get X-Line-Signature header value\n",
        "    signature = request.headers['X-Line-Signature']\n",
        "    # 取得傳來的訊息文字\n",
        "    body = request.get_data(as_text=True)\n",
        "    print(f\"訊息內容 {body}\")\n",
        "    # 轉換訊息內容成 JSON 物件\n",
        "    json_data = json.loads(body)\n",
        "    # 驗證訊息正確性\n",
        "    try:\n",
        "        handler.handle(body, signature)\n",
        "    except InvalidSignatureError:\n",
        "        abort(400)\n",
        "    return 'OK'\n",
        "\n",
        "# 處理 LINE Bot channel 傳來訊息\n",
        "@handler.add(MessageEvent, message=AudioMessage)\n",
        "def handle_message(event):\n",
        "  message_id = event.message.id\n",
        "  # 讀取聲音資料並儲存\n",
        "  message_content = line_bot_api.get_message_content(message_id)\n",
        "  with open('audio.aac', 'wb') as fd:\n",
        "    for chunk in message_content.iter_content():\n",
        "      fd.write(chunk)\n",
        "  message = AudioSendMessage(\n",
        "        original_content_url = 'https://cdn.voicetube.com/everyday_records/5664/1626443219.mp3',\n",
        "        duration = 20000)\n",
        "  line_bot_api.reply_message(event.reply_token, message)\n",
        "@handler.add(MessageEvent, message=TextMessage)\n",
        "def handle_message(event):\n",
        "  message = TextSendMessage(text=\"你送來的不是聲音檔案!\")\n",
        "  line_bot_api.reply_message(event.reply_token, message)\n",
        "\n",
        "if __name__ == \"__main__\":\n",
        "  app.run()"
      ]
    },
    {
      "cell_type": "markdown",
      "metadata": {
        "id": "qEfBd2pW2SIE"
      },
      "source": [
        "#### 推送訊息"
      ]
    },
    {
      "cell_type": "markdown",
      "metadata": {
        "id": "83iwOVo62cPQ"
      },
      "source": [
        "LINE Bot 推送特定訊息給用戶"
      ]
    },
    {
      "cell_type": "code",
      "execution_count": null,
      "metadata": {
        "colab": {
          "base_uri": "https://localhost:8080/"
        },
        "id": "ooK7BAmL2Utk",
        "outputId": "3aafa400-af38-4975-ac92-4402c861fe47"
      },
      "outputs": [
        {
          "name": "stdout",
          "output_type": "stream",
          "text": [
            "https://3305-34-133-125-251.ngrok.io\n",
            " * Serving Flask app '__main__' (lazy loading)\n",
            " * Environment: production\n",
            "\u001b[31m   WARNING: This is a development server. Do not use it in a production deployment.\u001b[0m\n",
            "\u001b[2m   Use a production WSGI server instead.\u001b[0m\n",
            " * Debug mode: off\n"
          ]
        },
        {
          "name": "stderr",
          "output_type": "stream",
          "text": [
            "INFO:werkzeug:\u001b[31m\u001b[1mWARNING: This is a development server. Do not use it in a production deployment. Use a production WSGI server instead.\u001b[0m\n",
            " * Running on http://127.0.0.1:5000\n",
            "INFO:werkzeug:\u001b[33mPress CTRL+C to quit\u001b[0m\n"
          ]
        }
      ],
      "source": [
        "from flask_ngrok import run_with_ngrok\n",
        "from flask import Flask, request, abort\n",
        "\n",
        "from flask import Flask, request, abort\n",
        "\n",
        "from linebot import (\n",
        "    LineBotApi, WebhookHandler\n",
        ")\n",
        "from linebot.exceptions import (\n",
        "    InvalidSignatureError\n",
        ")\n",
        "from linebot.models import *\n",
        "import json, os, time, requests\n",
        "\n",
        "app = Flask(__name__)\n",
        "#run_with_ngrok(app) # 產生 ngrok 網址\n",
        "print(ngrok_url)\n",
        "\n",
        "# 你的 LINE Channel access token'\n",
        "access_token = 'hea6hI/LTc4FCcgIlR51IbcAjPWqy9QtsG5XX9Ce+4GwdfJH1EKl5/YOT3Hw4+aZOGWZSKcKPmEnUqzE4tOoBjPdvyVJJjIHwm9RN9/cWbwT7Je2GW7uNtaTSKysDrcW8F/BSEFJpywQo5Z9DXry6gdB04t89/1O/w1cDnyilFU='\n",
        "# 你的 LINE Channel access token\n",
        "channel_secret = '77ff5430fad4531107ca11f1c495e7dd'\n",
        "\n",
        "# Channel Access Token\n",
        "line_bot_api = LineBotApi(access_token)\n",
        "# Channel Secret\n",
        "handler = WebhookHandler(channel_secret)\n",
        "# 設定 webhook url\n",
        "line_bot_api.set_webhook_endpoint(ngrok_url)\n",
        "\n",
        "# 監聽所有來自 LINE Bot Channel 的 Post Request\n",
        "@app.route(\"/\", methods=['POST'])\n",
        "def linebot():\n",
        "    # get X-Line-Signature header value\n",
        "    signature = request.headers['X-Line-Signature']\n",
        "    # 取得傳來的訊息文字\n",
        "    body = request.get_data(as_text=True)\n",
        "    print(f\"訊息內容 {body}\")\n",
        "    # 轉換訊息內容成 JSON 物件\n",
        "    json_data = json.loads(body)\n",
        "    # 驗證訊息正確性\n",
        "    try:\n",
        "        handler.handle(body, signature)\n",
        "    except InvalidSignatureError:\n",
        "        abort(400)\n",
        "    return 'OK'\n",
        "\n",
        "# 處理 LINE Bot channel 傳來訊息\n",
        "@handler.add(MessageEvent, message=TextMessage)\n",
        "def handle_message(event):\n",
        "\tprint(\"event: \", event)\n",
        "\tif event.message.type == 'text':\n",
        "\t\tmessage = TextSendMessage(text=\"我收到你送來的文字訊息\" + event.message.text)\n",
        "\t\tline_bot_api.reply_message(event.reply_token, message)\n",
        "\n",
        "userid = \"Ubf2b9f4188d45848fb4697d41c962591\" # 每位用戶有專屬 ID\n",
        "message = TextSendMessage(text=\"你最近好嗎?\")\n",
        "line_bot_api.push_message(userid, message) # 推播訊息 api\n",
        "\n",
        "if __name__ == \"__main__\":\n",
        "  app.run()"
      ]
    },
    {
      "cell_type": "markdown",
      "metadata": {
        "id": "uF-QWsj5nbbH"
      },
      "source": [
        "#### 使用 Requests 傳送訊息"
      ]
    },
    {
      "cell_type": "markdown",
      "metadata": {
        "id": "Am62L07enmso"
      },
      "source": [
        "reply message 回覆訊息"
      ]
    },
    {
      "cell_type": "code",
      "execution_count": null,
      "metadata": {
        "colab": {
          "base_uri": "https://localhost:8080/"
        },
        "id": "kBD30LXVoCNU",
        "outputId": "d4be467a-ad18-4328-822e-40853e0c9788"
      },
      "outputs": [
        {
          "name": "stdout",
          "output_type": "stream",
          "text": [
            "Drive already mounted at /content/drive; to attempt to forcibly remount, call drive.mount(\"/content/drive\", force_remount=True).\n",
            "https://304b-35-245-168-44.ngrok.io\n"
          ]
        },
        {
          "name": "stderr",
          "output_type": "stream",
          "text": [
            "INFO:werkzeug: * Running on http://127.0.0.1:5000/ (Press CTRL+C to quit)\n"
          ]
        },
        {
          "name": "stdout",
          "output_type": "stream",
          "text": [
            "訊息內容 {\"destination\":\"U7cac5dece3f2aedbd87541c2977b14db\",\"events\":[{\"type\":\"message\",\"message\":{\"type\":\"text\",\"id\":\"17430719966137\",\"text\":\"next\"},\"webhookEventId\":\"01GP5ZFXGA2NQZDP3YTCKQCE02\",\"deliveryContext\":{\"isRedelivery\":false},\"timestamp\":1673090561134,\"source\":{\"type\":\"user\",\"userId\":\"Ubf2b9f4188d45848fb4697d41c962591\"},\"replyToken\":\"ccb2e97bf43b42f69e70c96d408dc823\",\"mode\":\"active\"}]}\n",
            "1LsBjlZcyZHF532sh2vn95OzByt7G71/pcFAq7G/YNOaFvmNitQxbzgLx/ZoBwN8NFZe/gQzhHdZimzjJq1R3uLbb296yZ2PQ5tuG4aChnje/myj8wiQlaANu7BpEfifBW70df64L54CWd+OUUEMJ1GUYhWQfeY8sLGRXgo3xvw=\n"
          ]
        },
        {
          "name": "stderr",
          "output_type": "stream",
          "text": [
            "INFO:werkzeug:127.0.0.1 - - [07/Jan/2023 11:22:42] \"\u001b[37mPOST / HTTP/1.1\u001b[0m\" 200 -\n"
          ]
        },
        {
          "name": "stdout",
          "output_type": "stream",
          "text": [
            "{}\n",
            "訊息內容 {\"destination\":\"U7cac5dece3f2aedbd87541c2977b14db\",\"events\":[{\"type\":\"message\",\"message\":{\"type\":\"text\",\"id\":\"17430720336257\",\"text\":\"next\"},\"webhookEventId\":\"01GP5ZG261C2P9KKFPVF6E2S15\",\"deliveryContext\":{\"isRedelivery\":false},\"timestamp\":1673090566069,\"source\":{\"type\":\"user\",\"userId\":\"Ubf2b9f4188d45848fb4697d41c962591\"},\"replyToken\":\"bd17c238544d41d081952b2e21ede017\",\"mode\":\"active\"}]}\n",
            "1LsBjlZcyZHF532sh2vn95OzByt7G71/pcFAq7G/YNOaFvmNitQxbzgLx/ZoBwN8NFZe/gQzhHdZimzjJq1R3uLbb296yZ2PQ5tuG4aChnje/myj8wiQlaANu7BpEfifBW70df64L54CWd+OUUEMJ1GUYhWQfeY8sLGRXgo3xvw=\n"
          ]
        },
        {
          "name": "stderr",
          "output_type": "stream",
          "text": [
            "INFO:werkzeug:127.0.0.1 - - [07/Jan/2023 11:22:47] \"\u001b[37mPOST / HTTP/1.1\u001b[0m\" 200 -\n"
          ]
        },
        {
          "name": "stdout",
          "output_type": "stream",
          "text": [
            "{}\n"
          ]
        }
      ],
      "source": [
        "from flask_ngrok import run_with_ngrok\n",
        "from flask import Flask, request, abort\n",
        "\n",
        "from flask import Flask, request, abort\n",
        "\n",
        "from linebot import (\n",
        "    LineBotApi, WebhookHandler\n",
        ")\n",
        "from linebot.exceptions import (\n",
        "    InvalidSignatureError\n",
        ")\n",
        "from linebot.models import *\n",
        "import json, os, time, requests\n",
        "from google.colab import drive\n",
        "# 掛載 Google Drive\n",
        "drive.mount('/content/drive')\n",
        "file_path = '/content/drive/My Drive/Colab Notebooks/LINE Bot/file/horror_piano chord.mp3'\n",
        "\n",
        "def reply_message(replyToken, access_token):\n",
        " # 設定 request 的 headers，注意前方要有 Bearer\n",
        " data = f\"Bearer {access_token}\"\n",
        " headers = {'Authorization':data,'Content-Type':'application/json'}\n",
        " # 設定 request 的 body，必須包含 replyToken 和 messages\n",
        " body = {\n",
        "    'replyToken':replyToken,\n",
        "    'messages':[{\n",
        "            'type': 'text',\n",
        "            'text': 'hello'\n",
        "    }]\n",
        " }\n",
        " # 向指定網址用 POST 方法發送 request\n",
        " req = requests.request('POST', 'https://api.line.me/v2/bot/message/reply', headers=headers,data=json.dumps(body).encode('utf-8'))\n",
        " print(req.text)\n",
        "\n",
        "app = Flask(__name__)\n",
        "print(ngrok_url)\n",
        "# 你的 LINE Channel access token'\n",
        "access_token = '1LsBjlZcyZHF532sh2vn95OzByt7G71/pcFAq7G/YNOaFvmNitQxbzgLx/ZoBwN8NFZe/gQzhHdZimzjJq1R3uLbb296yZ2PQ5tuG4aChnje/myj8wiQlaANu7BpEfifBW70df64L54CWd+OUUEMJ1GUYhWQfeY8sLGRXgo3xvw='\n",
        "# 你的 LINE Channel access token\n",
        "channel_secret = '05ad96ecf63b4f2f886feb10425a2b43'\n",
        "# Channel Access Token\n",
        "line_bot_api = LineBotApi(access_token)\n",
        "# Channel Secret\n",
        "handler = WebhookHandler(channel_secret)\n",
        "# 設定 webhook url\n",
        "line_bot_api.set_webhook_endpoint(ngrok_url)\n",
        "\n",
        "# 監聽所有來自 LINE Bot Channel 的 Post Request\n",
        "@app.route(\"/\", methods=['POST'])\n",
        "def linebot():\n",
        "    # get X-Line-Signature header value\n",
        "    signature = request.headers['X-Line-Signature']\n",
        "    # 取得傳來的訊息文字\n",
        "    body = request.get_data(as_text=True)\n",
        "    print(f\"訊息內容 {body}\")\n",
        "    # 轉換訊息內容成 JSON 物件\n",
        "    json_data = json.loads(body)\n",
        "    msg = json_data['events'][0]['message']['text']\n",
        "    tk = json_data['events'][0]['replyToken']\n",
        "    # 驗證訊息正確性\n",
        "    try:\n",
        "        handler.handle(body, signature)\n",
        "        print(access_token)\n",
        "        reply_message(tk, access_token)\n",
        "    except InvalidSignatureError:\n",
        "        abort(400)\n",
        "    return 'OK'\n",
        "\n",
        "if __name__ == \"__main__\":\n",
        "  app.run()"
      ]
    },
    {
      "cell_type": "markdown",
      "metadata": {
        "id": "Cn6OhHBX-3kA"
      },
      "source": [
        "push message 主動傳送訊息"
      ]
    },
    {
      "cell_type": "code",
      "execution_count": null,
      "metadata": {
        "colab": {
          "base_uri": "https://localhost:8080/"
        },
        "id": "Fi0zaZL7--_t",
        "outputId": "18434f7a-df8d-47f0-dbee-a4d50a1b53a0"
      },
      "outputs": [
        {
          "name": "stdout",
          "output_type": "stream",
          "text": [
            "Drive already mounted at /content/drive; to attempt to forcibly remount, call drive.mount(\"/content/drive\", force_remount=True).\n",
            "https://c61d-35-245-168-44.ngrok.io\n"
          ]
        },
        {
          "name": "stderr",
          "output_type": "stream",
          "text": [
            "INFO:werkzeug: * Running on http://127.0.0.1:5000/ (Press CTRL+C to quit)\n"
          ]
        },
        {
          "name": "stdout",
          "output_type": "stream",
          "text": [
            "訊息內容 {\"destination\":\"U7cac5dece3f2aedbd87541c2977b14db\",\"events\":[{\"type\":\"message\",\"message\":{\"type\":\"text\",\"id\":\"17430822910445\",\"text\":\"next\"},\"webhookEventId\":\"01GP60R73Y11JQNHZHD9M6TB3D\",\"deliveryContext\":{\"isRedelivery\":false},\"timestamp\":1673091882007,\"source\":{\"type\":\"user\",\"userId\":\"Ubf2b9f4188d45848fb4697d41c962591\"},\"replyToken\":\"6b5772cbdc54465e9531c256906e0efc\",\"mode\":\"active\"}]}\n",
            "1LsBjlZcyZHF532sh2vn95OzByt7G71/pcFAq7G/YNOaFvmNitQxbzgLx/ZoBwN8NFZe/gQzhHdZimzjJq1R3uLbb296yZ2PQ5tuG4aChnje/myj8wiQlaANu7BpEfifBW70df64L54CWd+OUUEMJ1GUYhWQfeY8sLGRXgo3xvw=\n"
          ]
        },
        {
          "name": "stderr",
          "output_type": "stream",
          "text": [
            "INFO:werkzeug:127.0.0.1 - - [07/Jan/2023 11:44:43] \"\u001b[37mPOST / HTTP/1.1\u001b[0m\" 200 -\n"
          ]
        },
        {
          "name": "stdout",
          "output_type": "stream",
          "text": [
            "{}\n"
          ]
        }
      ],
      "source": [
        "from flask_ngrok import run_with_ngrok\n",
        "from flask import Flask, request, abort\n",
        "\n",
        "from flask import Flask, request, abort\n",
        "\n",
        "from linebot import (\n",
        "    LineBotApi, WebhookHandler\n",
        ")\n",
        "from linebot.exceptions import (\n",
        "    InvalidSignatureError\n",
        ")\n",
        "from linebot.models import *\n",
        "import json, os, time, requests\n",
        "from google.colab import drive\n",
        "# 掛載 Google Drive\n",
        "drive.mount('/content/drive')\n",
        "file_path = '/content/drive/My Drive/Colab Notebooks/LINE Bot/file/horror_piano chord.mp3'\n",
        "\n",
        "def push_message(access_token, user_id):\n",
        " # 設定 request 的 headers，注意前方要有 Bearer\n",
        " authen_data = f\"Bearer {access_token}\"\n",
        " headers = {'Authorization':authen_data,'Content-Type':'application/json'}\n",
        " # 設定 request 的 body，必須包含 to 和 messages\n",
        " body = {\n",
        "    'to': user_id,\n",
        "    'messages':[{\n",
        "            'type': 'text',\n",
        "            'text': '主動推播訊息: hello'\n",
        "        }]\n",
        "    }\n",
        " # 向指定網址用 POST 方法發送 request\n",
        " req = requests.request('POST', 'https://api.line.me/v2/bot/message/push',headers=headers,data=json.dumps(body).encode('utf-8'))\n",
        " # 印出得到的結果\n",
        " print(req.text)\n",
        "\n",
        "app = Flask(__name__)\n",
        "print(ngrok_url)\n",
        "# 你的 LINE Channel access token'\n",
        "access_token = '1LsBjlZcyZHF532sh2vn95OzByt7G71/pcFAq7G/YNOaFvmNitQxbzgLx/ZoBwN8NFZe/gQzhHdZimzjJq1R3uLbb296yZ2PQ5tuG4aChnje/myj8wiQlaANu7BpEfifBW70df64L54CWd+OUUEMJ1GUYhWQfeY8sLGRXgo3xvw='\n",
        "# 你的 LINE Channel access token\n",
        "channel_secret = '05ad96ecf63b4f2f886feb10425a2b43'\n",
        "# Channel Access Token\n",
        "line_bot_api = LineBotApi(access_token)\n",
        "# Channel Secret\n",
        "handler = WebhookHandler(channel_secret)\n",
        "# 設定 webhook url\n",
        "line_bot_api.set_webhook_endpoint(ngrok_url)\n",
        "\n",
        "# 監聽所有來自 LINE Bot Channel 的 Post Request\n",
        "@app.route(\"/\", methods=['POST'])\n",
        "def linebot():\n",
        "    # get X-Line-Signature header value\n",
        "    signature = request.headers['X-Line-Signature']\n",
        "    # 取得傳來的訊息文字\n",
        "    body = request.get_data(as_text=True)\n",
        "    print(f\"訊息內容 {body}\")\n",
        "    # 轉換訊息內容成 JSON 物件\n",
        "    json_data = json.loads(body)\n",
        "    msg = json_data['events'][0]['message']['text']\n",
        "    tk = json_data['events'][0]['replyToken']\n",
        "    user_id = json_data['events'][0]['source']['userId']\n",
        "    # 驗證訊息正確性\n",
        "    try:\n",
        "        handler.handle(body, signature)\n",
        "        print(access_token)\n",
        "        push_message(access_token, user_id)\n",
        "    except InvalidSignatureError:\n",
        "        abort(400)\n",
        "    return 'OK'\n",
        "\n",
        "if __name__ == \"__main__\":\n",
        "  app.run()"
      ]
    },
    {
      "cell_type": "markdown",
      "metadata": {
        "id": "a_f6kZvoG6v9"
      },
      "source": [
        "#### 使用 LINE URL Scheme\n",
        "實現和 Message API 類似功能"
      ]
    },
    {
      "cell_type": "markdown",
      "metadata": {
        "id": "cFj18FcxHtl9"
      },
      "source": [
        "1. 發送訊息\n",
        "2. 發送地點資訊\n",
        "3. 開啟相機\n",
        "4. 開啟相簿發送圖片\n",
        "5. 開啟貼圖畫面"
      ]
    },
    {
      "cell_type": "code",
      "execution_count": null,
      "metadata": {
        "colab": {
          "base_uri": "https://localhost:8080/",
          "height": 416
        },
        "id": "UiSsnfTSHrfQ",
        "outputId": "b2190d14-9c67-4ab6-839c-3f3c22f398ce"
      },
      "outputs": [
        {
          "output_type": "stream",
          "name": "stdout",
          "text": [
            "Drive already mounted at /content/drive; to attempt to forcibly remount, call drive.mount(\"/content/drive\", force_remount=True).\n",
            "https://c380-104-196-165-126.ngrok-free.app\n"
          ]
        },
        {
          "output_type": "error",
          "ename": "KeyboardInterrupt",
          "evalue": "ignored",
          "traceback": [
            "\u001b[0;31m---------------------------------------------------------------------------\u001b[0m",
            "\u001b[0;31mKeyboardInterrupt\u001b[0m                         Traceback (most recent call last)",
            "\u001b[0;32m<ipython-input-11-f358122e5502>\u001b[0m in \u001b[0;36m<cell line: 32>\u001b[0;34m()\u001b[0m\n\u001b[1;32m     30\u001b[0m \u001b[0mhandler\u001b[0m \u001b[0;34m=\u001b[0m \u001b[0mWebhookHandler\u001b[0m\u001b[0;34m(\u001b[0m\u001b[0mchannel_secret\u001b[0m\u001b[0;34m)\u001b[0m\u001b[0;34m\u001b[0m\u001b[0;34m\u001b[0m\u001b[0m\n\u001b[1;32m     31\u001b[0m \u001b[0;31m# 設定 webhook url\u001b[0m\u001b[0;34m\u001b[0m\u001b[0;34m\u001b[0m\u001b[0m\n\u001b[0;32m---> 32\u001b[0;31m \u001b[0mline_bot_api\u001b[0m\u001b[0;34m.\u001b[0m\u001b[0mset_webhook_endpoint\u001b[0m\u001b[0;34m(\u001b[0m\u001b[0mngrok_url\u001b[0m\u001b[0;34m)\u001b[0m\u001b[0;34m\u001b[0m\u001b[0;34m\u001b[0m\u001b[0m\n\u001b[0m\u001b[1;32m     33\u001b[0m \u001b[0;34m\u001b[0m\u001b[0m\n\u001b[1;32m     34\u001b[0m \u001b[0;31m# 監聽所有來自 LINE Bot Channel 的 Post Request\u001b[0m\u001b[0;34m\u001b[0m\u001b[0;34m\u001b[0m\u001b[0m\n",
            "\u001b[0;32m/usr/local/lib/python3.10/dist-packages/linebot/api.py\u001b[0m in \u001b[0;36mset_webhook_endpoint\u001b[0;34m(self, webhook_endpoint, timeout)\u001b[0m\n\u001b[1;32m   1738\u001b[0m         }\n\u001b[1;32m   1739\u001b[0m \u001b[0;34m\u001b[0m\u001b[0m\n\u001b[0;32m-> 1740\u001b[0;31m         response = self._put(\n\u001b[0m\u001b[1;32m   1741\u001b[0m             \u001b[0;34m'/v2/bot/channel/webhook/endpoint'\u001b[0m\u001b[0;34m,\u001b[0m\u001b[0;34m\u001b[0m\u001b[0;34m\u001b[0m\u001b[0m\n\u001b[1;32m   1742\u001b[0m             \u001b[0mdata\u001b[0m\u001b[0;34m=\u001b[0m\u001b[0mjson\u001b[0m\u001b[0;34m.\u001b[0m\u001b[0mdumps\u001b[0m\u001b[0;34m(\u001b[0m\u001b[0mdata\u001b[0m\u001b[0;34m)\u001b[0m\u001b[0;34m,\u001b[0m\u001b[0;34m\u001b[0m\u001b[0;34m\u001b[0m\u001b[0m\n",
            "\u001b[0;32m/usr/local/lib/python3.10/dist-packages/linebot/api.py\u001b[0m in \u001b[0;36m_put\u001b[0;34m(self, path, endpoint, data, headers, timeout)\u001b[0m\n\u001b[1;32m   2055\u001b[0m         \u001b[0mheaders\u001b[0m\u001b[0;34m.\u001b[0m\u001b[0mupdate\u001b[0m\u001b[0;34m(\u001b[0m\u001b[0mself\u001b[0m\u001b[0;34m.\u001b[0m\u001b[0mheaders\u001b[0m\u001b[0;34m)\u001b[0m\u001b[0;34m\u001b[0m\u001b[0;34m\u001b[0m\u001b[0m\n\u001b[1;32m   2056\u001b[0m \u001b[0;34m\u001b[0m\u001b[0m\n\u001b[0;32m-> 2057\u001b[0;31m         response = self.http_client.put(\n\u001b[0m\u001b[1;32m   2058\u001b[0m             \u001b[0murl\u001b[0m\u001b[0;34m,\u001b[0m \u001b[0mheaders\u001b[0m\u001b[0;34m=\u001b[0m\u001b[0mheaders\u001b[0m\u001b[0;34m,\u001b[0m \u001b[0mdata\u001b[0m\u001b[0;34m=\u001b[0m\u001b[0mdata\u001b[0m\u001b[0;34m,\u001b[0m \u001b[0mtimeout\u001b[0m\u001b[0;34m=\u001b[0m\u001b[0mtimeout\u001b[0m\u001b[0;34m\u001b[0m\u001b[0;34m\u001b[0m\u001b[0m\n\u001b[1;32m   2059\u001b[0m         )\n",
            "\u001b[0;32m/usr/local/lib/python3.10/dist-packages/linebot/http_client.py\u001b[0m in \u001b[0;36mput\u001b[0;34m(self, url, headers, data, timeout)\u001b[0m\n\u001b[1;32m    211\u001b[0m             \u001b[0mtimeout\u001b[0m \u001b[0;34m=\u001b[0m \u001b[0mself\u001b[0m\u001b[0;34m.\u001b[0m\u001b[0mtimeout\u001b[0m\u001b[0;34m\u001b[0m\u001b[0;34m\u001b[0m\u001b[0m\n\u001b[1;32m    212\u001b[0m \u001b[0;34m\u001b[0m\u001b[0m\n\u001b[0;32m--> 213\u001b[0;31m         response = requests.put(\n\u001b[0m\u001b[1;32m    214\u001b[0m             \u001b[0murl\u001b[0m\u001b[0;34m,\u001b[0m \u001b[0mheaders\u001b[0m\u001b[0;34m=\u001b[0m\u001b[0mheaders\u001b[0m\u001b[0;34m,\u001b[0m \u001b[0mdata\u001b[0m\u001b[0;34m=\u001b[0m\u001b[0mdata\u001b[0m\u001b[0;34m,\u001b[0m \u001b[0mtimeout\u001b[0m\u001b[0;34m=\u001b[0m\u001b[0mtimeout\u001b[0m\u001b[0;34m\u001b[0m\u001b[0;34m\u001b[0m\u001b[0m\n\u001b[1;32m    215\u001b[0m         )\n",
            "\u001b[0;32m/usr/local/lib/python3.10/dist-packages/requests/api.py\u001b[0m in \u001b[0;36mput\u001b[0;34m(url, data, **kwargs)\u001b[0m\n\u001b[1;32m    128\u001b[0m     \"\"\"\n\u001b[1;32m    129\u001b[0m \u001b[0;34m\u001b[0m\u001b[0m\n\u001b[0;32m--> 130\u001b[0;31m     \u001b[0;32mreturn\u001b[0m \u001b[0mrequest\u001b[0m\u001b[0;34m(\u001b[0m\u001b[0;34m\"put\"\u001b[0m\u001b[0;34m,\u001b[0m \u001b[0murl\u001b[0m\u001b[0;34m,\u001b[0m \u001b[0mdata\u001b[0m\u001b[0;34m=\u001b[0m\u001b[0mdata\u001b[0m\u001b[0;34m,\u001b[0m \u001b[0;34m**\u001b[0m\u001b[0mkwargs\u001b[0m\u001b[0;34m)\u001b[0m\u001b[0;34m\u001b[0m\u001b[0;34m\u001b[0m\u001b[0m\n\u001b[0m\u001b[1;32m    131\u001b[0m \u001b[0;34m\u001b[0m\u001b[0m\n\u001b[1;32m    132\u001b[0m \u001b[0;34m\u001b[0m\u001b[0m\n",
            "\u001b[0;32m/usr/local/lib/python3.10/dist-packages/requests/api.py\u001b[0m in \u001b[0;36mrequest\u001b[0;34m(method, url, **kwargs)\u001b[0m\n\u001b[1;32m     57\u001b[0m     \u001b[0;31m# cases, and look like a memory leak in others.\u001b[0m\u001b[0;34m\u001b[0m\u001b[0;34m\u001b[0m\u001b[0m\n\u001b[1;32m     58\u001b[0m     \u001b[0;32mwith\u001b[0m \u001b[0msessions\u001b[0m\u001b[0;34m.\u001b[0m\u001b[0mSession\u001b[0m\u001b[0;34m(\u001b[0m\u001b[0;34m)\u001b[0m \u001b[0;32mas\u001b[0m \u001b[0msession\u001b[0m\u001b[0;34m:\u001b[0m\u001b[0;34m\u001b[0m\u001b[0;34m\u001b[0m\u001b[0m\n\u001b[0;32m---> 59\u001b[0;31m         \u001b[0;32mreturn\u001b[0m \u001b[0msession\u001b[0m\u001b[0;34m.\u001b[0m\u001b[0mrequest\u001b[0m\u001b[0;34m(\u001b[0m\u001b[0mmethod\u001b[0m\u001b[0;34m=\u001b[0m\u001b[0mmethod\u001b[0m\u001b[0;34m,\u001b[0m \u001b[0murl\u001b[0m\u001b[0;34m=\u001b[0m\u001b[0murl\u001b[0m\u001b[0;34m,\u001b[0m \u001b[0;34m**\u001b[0m\u001b[0mkwargs\u001b[0m\u001b[0;34m)\u001b[0m\u001b[0;34m\u001b[0m\u001b[0;34m\u001b[0m\u001b[0m\n\u001b[0m\u001b[1;32m     60\u001b[0m \u001b[0;34m\u001b[0m\u001b[0m\n\u001b[1;32m     61\u001b[0m \u001b[0;34m\u001b[0m\u001b[0m\n",
            "\u001b[0;32m/usr/local/lib/python3.10/dist-packages/requests/sessions.py\u001b[0m in \u001b[0;36mrequest\u001b[0;34m(self, method, url, params, data, headers, cookies, files, auth, timeout, allow_redirects, proxies, hooks, stream, verify, cert, json)\u001b[0m\n\u001b[1;32m    585\u001b[0m         }\n\u001b[1;32m    586\u001b[0m         \u001b[0msend_kwargs\u001b[0m\u001b[0;34m.\u001b[0m\u001b[0mupdate\u001b[0m\u001b[0;34m(\u001b[0m\u001b[0msettings\u001b[0m\u001b[0;34m)\u001b[0m\u001b[0;34m\u001b[0m\u001b[0;34m\u001b[0m\u001b[0m\n\u001b[0;32m--> 587\u001b[0;31m         \u001b[0mresp\u001b[0m \u001b[0;34m=\u001b[0m \u001b[0mself\u001b[0m\u001b[0;34m.\u001b[0m\u001b[0msend\u001b[0m\u001b[0;34m(\u001b[0m\u001b[0mprep\u001b[0m\u001b[0;34m,\u001b[0m \u001b[0;34m**\u001b[0m\u001b[0msend_kwargs\u001b[0m\u001b[0;34m)\u001b[0m\u001b[0;34m\u001b[0m\u001b[0;34m\u001b[0m\u001b[0m\n\u001b[0m\u001b[1;32m    588\u001b[0m \u001b[0;34m\u001b[0m\u001b[0m\n\u001b[1;32m    589\u001b[0m         \u001b[0;32mreturn\u001b[0m \u001b[0mresp\u001b[0m\u001b[0;34m\u001b[0m\u001b[0;34m\u001b[0m\u001b[0m\n",
            "\u001b[0;32m/usr/local/lib/python3.10/dist-packages/requests/sessions.py\u001b[0m in \u001b[0;36msend\u001b[0;34m(self, request, **kwargs)\u001b[0m\n\u001b[1;32m    699\u001b[0m \u001b[0;34m\u001b[0m\u001b[0m\n\u001b[1;32m    700\u001b[0m         \u001b[0;31m# Send the request\u001b[0m\u001b[0;34m\u001b[0m\u001b[0;34m\u001b[0m\u001b[0m\n\u001b[0;32m--> 701\u001b[0;31m         \u001b[0mr\u001b[0m \u001b[0;34m=\u001b[0m \u001b[0madapter\u001b[0m\u001b[0;34m.\u001b[0m\u001b[0msend\u001b[0m\u001b[0;34m(\u001b[0m\u001b[0mrequest\u001b[0m\u001b[0;34m,\u001b[0m \u001b[0;34m**\u001b[0m\u001b[0mkwargs\u001b[0m\u001b[0;34m)\u001b[0m\u001b[0;34m\u001b[0m\u001b[0;34m\u001b[0m\u001b[0m\n\u001b[0m\u001b[1;32m    702\u001b[0m \u001b[0;34m\u001b[0m\u001b[0m\n\u001b[1;32m    703\u001b[0m         \u001b[0;31m# Total elapsed time of the request (approximately)\u001b[0m\u001b[0;34m\u001b[0m\u001b[0;34m\u001b[0m\u001b[0m\n",
            "\u001b[0;32m/usr/local/lib/python3.10/dist-packages/requests/adapters.py\u001b[0m in \u001b[0;36msend\u001b[0;34m(self, request, stream, timeout, verify, cert, proxies)\u001b[0m\n\u001b[1;32m    487\u001b[0m         \u001b[0;32mtry\u001b[0m\u001b[0;34m:\u001b[0m\u001b[0;34m\u001b[0m\u001b[0;34m\u001b[0m\u001b[0m\n\u001b[1;32m    488\u001b[0m             \u001b[0;32mif\u001b[0m \u001b[0;32mnot\u001b[0m \u001b[0mchunked\u001b[0m\u001b[0;34m:\u001b[0m\u001b[0;34m\u001b[0m\u001b[0;34m\u001b[0m\u001b[0m\n\u001b[0;32m--> 489\u001b[0;31m                 resp = conn.urlopen(\n\u001b[0m\u001b[1;32m    490\u001b[0m                     \u001b[0mmethod\u001b[0m\u001b[0;34m=\u001b[0m\u001b[0mrequest\u001b[0m\u001b[0;34m.\u001b[0m\u001b[0mmethod\u001b[0m\u001b[0;34m,\u001b[0m\u001b[0;34m\u001b[0m\u001b[0;34m\u001b[0m\u001b[0m\n\u001b[1;32m    491\u001b[0m                     \u001b[0murl\u001b[0m\u001b[0;34m=\u001b[0m\u001b[0murl\u001b[0m\u001b[0;34m,\u001b[0m\u001b[0;34m\u001b[0m\u001b[0;34m\u001b[0m\u001b[0m\n",
            "\u001b[0;32m/usr/local/lib/python3.10/dist-packages/urllib3/connectionpool.py\u001b[0m in \u001b[0;36murlopen\u001b[0;34m(self, method, url, body, headers, retries, redirect, assert_same_host, timeout, pool_timeout, release_conn, chunked, body_pos, **response_kw)\u001b[0m\n\u001b[1;32m    701\u001b[0m \u001b[0;34m\u001b[0m\u001b[0m\n\u001b[1;32m    702\u001b[0m             \u001b[0;31m# Make the request on the httplib connection object.\u001b[0m\u001b[0;34m\u001b[0m\u001b[0;34m\u001b[0m\u001b[0m\n\u001b[0;32m--> 703\u001b[0;31m             httplib_response = self._make_request(\n\u001b[0m\u001b[1;32m    704\u001b[0m                 \u001b[0mconn\u001b[0m\u001b[0;34m,\u001b[0m\u001b[0;34m\u001b[0m\u001b[0;34m\u001b[0m\u001b[0m\n\u001b[1;32m    705\u001b[0m                 \u001b[0mmethod\u001b[0m\u001b[0;34m,\u001b[0m\u001b[0;34m\u001b[0m\u001b[0;34m\u001b[0m\u001b[0m\n",
            "\u001b[0;32m/usr/local/lib/python3.10/dist-packages/urllib3/connectionpool.py\u001b[0m in \u001b[0;36m_make_request\u001b[0;34m(self, conn, method, url, timeout, chunked, **httplib_request_kw)\u001b[0m\n\u001b[1;32m    447\u001b[0m                     \u001b[0;31m# Python 3 (including for exceptions like SystemExit).\u001b[0m\u001b[0;34m\u001b[0m\u001b[0;34m\u001b[0m\u001b[0m\n\u001b[1;32m    448\u001b[0m                     \u001b[0;31m# Otherwise it looks like a bug in the code.\u001b[0m\u001b[0;34m\u001b[0m\u001b[0;34m\u001b[0m\u001b[0m\n\u001b[0;32m--> 449\u001b[0;31m                     \u001b[0msix\u001b[0m\u001b[0;34m.\u001b[0m\u001b[0mraise_from\u001b[0m\u001b[0;34m(\u001b[0m\u001b[0me\u001b[0m\u001b[0;34m,\u001b[0m \u001b[0;32mNone\u001b[0m\u001b[0;34m)\u001b[0m\u001b[0;34m\u001b[0m\u001b[0;34m\u001b[0m\u001b[0m\n\u001b[0m\u001b[1;32m    450\u001b[0m         \u001b[0;32mexcept\u001b[0m \u001b[0;34m(\u001b[0m\u001b[0mSocketTimeout\u001b[0m\u001b[0;34m,\u001b[0m \u001b[0mBaseSSLError\u001b[0m\u001b[0;34m,\u001b[0m \u001b[0mSocketError\u001b[0m\u001b[0;34m)\u001b[0m \u001b[0;32mas\u001b[0m \u001b[0me\u001b[0m\u001b[0;34m:\u001b[0m\u001b[0;34m\u001b[0m\u001b[0;34m\u001b[0m\u001b[0m\n\u001b[1;32m    451\u001b[0m             \u001b[0mself\u001b[0m\u001b[0;34m.\u001b[0m\u001b[0m_raise_timeout\u001b[0m\u001b[0;34m(\u001b[0m\u001b[0merr\u001b[0m\u001b[0;34m=\u001b[0m\u001b[0me\u001b[0m\u001b[0;34m,\u001b[0m \u001b[0murl\u001b[0m\u001b[0;34m=\u001b[0m\u001b[0murl\u001b[0m\u001b[0;34m,\u001b[0m \u001b[0mtimeout_value\u001b[0m\u001b[0;34m=\u001b[0m\u001b[0mread_timeout\u001b[0m\u001b[0;34m)\u001b[0m\u001b[0;34m\u001b[0m\u001b[0;34m\u001b[0m\u001b[0m\n",
            "\u001b[0;32m/usr/local/lib/python3.10/dist-packages/urllib3/packages/six.py\u001b[0m in \u001b[0;36mraise_from\u001b[0;34m(value, from_value)\u001b[0m\n",
            "\u001b[0;32m/usr/local/lib/python3.10/dist-packages/urllib3/connectionpool.py\u001b[0m in \u001b[0;36m_make_request\u001b[0;34m(self, conn, method, url, timeout, chunked, **httplib_request_kw)\u001b[0m\n\u001b[1;32m    442\u001b[0m                 \u001b[0;31m# Python 3\u001b[0m\u001b[0;34m\u001b[0m\u001b[0;34m\u001b[0m\u001b[0m\n\u001b[1;32m    443\u001b[0m                 \u001b[0;32mtry\u001b[0m\u001b[0;34m:\u001b[0m\u001b[0;34m\u001b[0m\u001b[0;34m\u001b[0m\u001b[0m\n\u001b[0;32m--> 444\u001b[0;31m                     \u001b[0mhttplib_response\u001b[0m \u001b[0;34m=\u001b[0m \u001b[0mconn\u001b[0m\u001b[0;34m.\u001b[0m\u001b[0mgetresponse\u001b[0m\u001b[0;34m(\u001b[0m\u001b[0;34m)\u001b[0m\u001b[0;34m\u001b[0m\u001b[0;34m\u001b[0m\u001b[0m\n\u001b[0m\u001b[1;32m    445\u001b[0m                 \u001b[0;32mexcept\u001b[0m \u001b[0mBaseException\u001b[0m \u001b[0;32mas\u001b[0m \u001b[0me\u001b[0m\u001b[0;34m:\u001b[0m\u001b[0;34m\u001b[0m\u001b[0;34m\u001b[0m\u001b[0m\n\u001b[1;32m    446\u001b[0m                     \u001b[0;31m# Remove the TypeError from the exception chain in\u001b[0m\u001b[0;34m\u001b[0m\u001b[0;34m\u001b[0m\u001b[0m\n",
            "\u001b[0;32m/usr/lib/python3.10/http/client.py\u001b[0m in \u001b[0;36mgetresponse\u001b[0;34m(self)\u001b[0m\n\u001b[1;32m   1373\u001b[0m         \u001b[0;32mtry\u001b[0m\u001b[0;34m:\u001b[0m\u001b[0;34m\u001b[0m\u001b[0;34m\u001b[0m\u001b[0m\n\u001b[1;32m   1374\u001b[0m             \u001b[0;32mtry\u001b[0m\u001b[0;34m:\u001b[0m\u001b[0;34m\u001b[0m\u001b[0;34m\u001b[0m\u001b[0m\n\u001b[0;32m-> 1375\u001b[0;31m                 \u001b[0mresponse\u001b[0m\u001b[0;34m.\u001b[0m\u001b[0mbegin\u001b[0m\u001b[0;34m(\u001b[0m\u001b[0;34m)\u001b[0m\u001b[0;34m\u001b[0m\u001b[0;34m\u001b[0m\u001b[0m\n\u001b[0m\u001b[1;32m   1376\u001b[0m             \u001b[0;32mexcept\u001b[0m \u001b[0mConnectionError\u001b[0m\u001b[0;34m:\u001b[0m\u001b[0;34m\u001b[0m\u001b[0;34m\u001b[0m\u001b[0m\n\u001b[1;32m   1377\u001b[0m                 \u001b[0mself\u001b[0m\u001b[0;34m.\u001b[0m\u001b[0mclose\u001b[0m\u001b[0;34m(\u001b[0m\u001b[0;34m)\u001b[0m\u001b[0;34m\u001b[0m\u001b[0;34m\u001b[0m\u001b[0m\n",
            "\u001b[0;32m/usr/lib/python3.10/http/client.py\u001b[0m in \u001b[0;36mbegin\u001b[0;34m(self)\u001b[0m\n\u001b[1;32m    316\u001b[0m         \u001b[0;31m# read until we get a non-100 response\u001b[0m\u001b[0;34m\u001b[0m\u001b[0;34m\u001b[0m\u001b[0m\n\u001b[1;32m    317\u001b[0m         \u001b[0;32mwhile\u001b[0m \u001b[0;32mTrue\u001b[0m\u001b[0;34m:\u001b[0m\u001b[0;34m\u001b[0m\u001b[0;34m\u001b[0m\u001b[0m\n\u001b[0;32m--> 318\u001b[0;31m             \u001b[0mversion\u001b[0m\u001b[0;34m,\u001b[0m \u001b[0mstatus\u001b[0m\u001b[0;34m,\u001b[0m \u001b[0mreason\u001b[0m \u001b[0;34m=\u001b[0m \u001b[0mself\u001b[0m\u001b[0;34m.\u001b[0m\u001b[0m_read_status\u001b[0m\u001b[0;34m(\u001b[0m\u001b[0;34m)\u001b[0m\u001b[0;34m\u001b[0m\u001b[0;34m\u001b[0m\u001b[0m\n\u001b[0m\u001b[1;32m    319\u001b[0m             \u001b[0;32mif\u001b[0m \u001b[0mstatus\u001b[0m \u001b[0;34m!=\u001b[0m \u001b[0mCONTINUE\u001b[0m\u001b[0;34m:\u001b[0m\u001b[0;34m\u001b[0m\u001b[0;34m\u001b[0m\u001b[0m\n\u001b[1;32m    320\u001b[0m                 \u001b[0;32mbreak\u001b[0m\u001b[0;34m\u001b[0m\u001b[0;34m\u001b[0m\u001b[0m\n",
            "\u001b[0;32m/usr/lib/python3.10/http/client.py\u001b[0m in \u001b[0;36m_read_status\u001b[0;34m(self)\u001b[0m\n\u001b[1;32m    277\u001b[0m \u001b[0;34m\u001b[0m\u001b[0m\n\u001b[1;32m    278\u001b[0m     \u001b[0;32mdef\u001b[0m \u001b[0m_read_status\u001b[0m\u001b[0;34m(\u001b[0m\u001b[0mself\u001b[0m\u001b[0;34m)\u001b[0m\u001b[0;34m:\u001b[0m\u001b[0;34m\u001b[0m\u001b[0;34m\u001b[0m\u001b[0m\n\u001b[0;32m--> 279\u001b[0;31m         \u001b[0mline\u001b[0m \u001b[0;34m=\u001b[0m \u001b[0mstr\u001b[0m\u001b[0;34m(\u001b[0m\u001b[0mself\u001b[0m\u001b[0;34m.\u001b[0m\u001b[0mfp\u001b[0m\u001b[0;34m.\u001b[0m\u001b[0mreadline\u001b[0m\u001b[0;34m(\u001b[0m\u001b[0m_MAXLINE\u001b[0m \u001b[0;34m+\u001b[0m \u001b[0;36m1\u001b[0m\u001b[0;34m)\u001b[0m\u001b[0;34m,\u001b[0m \u001b[0;34m\"iso-8859-1\"\u001b[0m\u001b[0;34m)\u001b[0m\u001b[0;34m\u001b[0m\u001b[0;34m\u001b[0m\u001b[0m\n\u001b[0m\u001b[1;32m    280\u001b[0m         \u001b[0;32mif\u001b[0m \u001b[0mlen\u001b[0m\u001b[0;34m(\u001b[0m\u001b[0mline\u001b[0m\u001b[0;34m)\u001b[0m \u001b[0;34m>\u001b[0m \u001b[0m_MAXLINE\u001b[0m\u001b[0;34m:\u001b[0m\u001b[0;34m\u001b[0m\u001b[0;34m\u001b[0m\u001b[0m\n\u001b[1;32m    281\u001b[0m             \u001b[0;32mraise\u001b[0m \u001b[0mLineTooLong\u001b[0m\u001b[0;34m(\u001b[0m\u001b[0;34m\"status line\"\u001b[0m\u001b[0;34m)\u001b[0m\u001b[0;34m\u001b[0m\u001b[0;34m\u001b[0m\u001b[0m\n",
            "\u001b[0;32m/usr/lib/python3.10/socket.py\u001b[0m in \u001b[0;36mreadinto\u001b[0;34m(self, b)\u001b[0m\n\u001b[1;32m    703\u001b[0m         \u001b[0;32mwhile\u001b[0m \u001b[0;32mTrue\u001b[0m\u001b[0;34m:\u001b[0m\u001b[0;34m\u001b[0m\u001b[0;34m\u001b[0m\u001b[0m\n\u001b[1;32m    704\u001b[0m             \u001b[0;32mtry\u001b[0m\u001b[0;34m:\u001b[0m\u001b[0;34m\u001b[0m\u001b[0;34m\u001b[0m\u001b[0m\n\u001b[0;32m--> 705\u001b[0;31m                 \u001b[0;32mreturn\u001b[0m \u001b[0mself\u001b[0m\u001b[0;34m.\u001b[0m\u001b[0m_sock\u001b[0m\u001b[0;34m.\u001b[0m\u001b[0mrecv_into\u001b[0m\u001b[0;34m(\u001b[0m\u001b[0mb\u001b[0m\u001b[0;34m)\u001b[0m\u001b[0;34m\u001b[0m\u001b[0;34m\u001b[0m\u001b[0m\n\u001b[0m\u001b[1;32m    706\u001b[0m             \u001b[0;32mexcept\u001b[0m \u001b[0mtimeout\u001b[0m\u001b[0;34m:\u001b[0m\u001b[0;34m\u001b[0m\u001b[0;34m\u001b[0m\u001b[0m\n\u001b[1;32m    707\u001b[0m                 \u001b[0mself\u001b[0m\u001b[0;34m.\u001b[0m\u001b[0m_timeout_occurred\u001b[0m \u001b[0;34m=\u001b[0m \u001b[0;32mTrue\u001b[0m\u001b[0;34m\u001b[0m\u001b[0;34m\u001b[0m\u001b[0m\n",
            "\u001b[0;32m/usr/lib/python3.10/ssl.py\u001b[0m in \u001b[0;36mrecv_into\u001b[0;34m(self, buffer, nbytes, flags)\u001b[0m\n\u001b[1;32m   1272\u001b[0m                   \u001b[0;34m\"non-zero flags not allowed in calls to recv_into() on %s\"\u001b[0m \u001b[0;34m%\u001b[0m\u001b[0;34m\u001b[0m\u001b[0;34m\u001b[0m\u001b[0m\n\u001b[1;32m   1273\u001b[0m                   self.__class__)\n\u001b[0;32m-> 1274\u001b[0;31m             \u001b[0;32mreturn\u001b[0m \u001b[0mself\u001b[0m\u001b[0;34m.\u001b[0m\u001b[0mread\u001b[0m\u001b[0;34m(\u001b[0m\u001b[0mnbytes\u001b[0m\u001b[0;34m,\u001b[0m \u001b[0mbuffer\u001b[0m\u001b[0;34m)\u001b[0m\u001b[0;34m\u001b[0m\u001b[0;34m\u001b[0m\u001b[0m\n\u001b[0m\u001b[1;32m   1275\u001b[0m         \u001b[0;32melse\u001b[0m\u001b[0;34m:\u001b[0m\u001b[0;34m\u001b[0m\u001b[0;34m\u001b[0m\u001b[0m\n\u001b[1;32m   1276\u001b[0m             \u001b[0;32mreturn\u001b[0m \u001b[0msuper\u001b[0m\u001b[0;34m(\u001b[0m\u001b[0;34m)\u001b[0m\u001b[0;34m.\u001b[0m\u001b[0mrecv_into\u001b[0m\u001b[0;34m(\u001b[0m\u001b[0mbuffer\u001b[0m\u001b[0;34m,\u001b[0m \u001b[0mnbytes\u001b[0m\u001b[0;34m,\u001b[0m \u001b[0mflags\u001b[0m\u001b[0;34m)\u001b[0m\u001b[0;34m\u001b[0m\u001b[0;34m\u001b[0m\u001b[0m\n",
            "\u001b[0;32m/usr/lib/python3.10/ssl.py\u001b[0m in \u001b[0;36mread\u001b[0;34m(self, len, buffer)\u001b[0m\n\u001b[1;32m   1128\u001b[0m         \u001b[0;32mtry\u001b[0m\u001b[0;34m:\u001b[0m\u001b[0;34m\u001b[0m\u001b[0;34m\u001b[0m\u001b[0m\n\u001b[1;32m   1129\u001b[0m             \u001b[0;32mif\u001b[0m \u001b[0mbuffer\u001b[0m \u001b[0;32mis\u001b[0m \u001b[0;32mnot\u001b[0m \u001b[0;32mNone\u001b[0m\u001b[0;34m:\u001b[0m\u001b[0;34m\u001b[0m\u001b[0;34m\u001b[0m\u001b[0m\n\u001b[0;32m-> 1130\u001b[0;31m                 \u001b[0;32mreturn\u001b[0m \u001b[0mself\u001b[0m\u001b[0;34m.\u001b[0m\u001b[0m_sslobj\u001b[0m\u001b[0;34m.\u001b[0m\u001b[0mread\u001b[0m\u001b[0;34m(\u001b[0m\u001b[0mlen\u001b[0m\u001b[0;34m,\u001b[0m \u001b[0mbuffer\u001b[0m\u001b[0;34m)\u001b[0m\u001b[0;34m\u001b[0m\u001b[0;34m\u001b[0m\u001b[0m\n\u001b[0m\u001b[1;32m   1131\u001b[0m             \u001b[0;32melse\u001b[0m\u001b[0;34m:\u001b[0m\u001b[0;34m\u001b[0m\u001b[0;34m\u001b[0m\u001b[0m\n\u001b[1;32m   1132\u001b[0m                 \u001b[0;32mreturn\u001b[0m \u001b[0mself\u001b[0m\u001b[0;34m.\u001b[0m\u001b[0m_sslobj\u001b[0m\u001b[0;34m.\u001b[0m\u001b[0mread\u001b[0m\u001b[0;34m(\u001b[0m\u001b[0mlen\u001b[0m\u001b[0;34m)\u001b[0m\u001b[0;34m\u001b[0m\u001b[0;34m\u001b[0m\u001b[0m\n",
            "\u001b[0;31mKeyboardInterrupt\u001b[0m: "
          ]
        }
      ],
      "source": [
        "from flask_ngrok import run_with_ngrok\n",
        "from flask import Flask, request, abort\n",
        "\n",
        "from flask import Flask, request, abort\n",
        "\n",
        "from linebot import (\n",
        "    LineBotApi, WebhookHandler\n",
        ")\n",
        "from linebot.exceptions import (\n",
        "    InvalidSignatureError\n",
        ")\n",
        "from linebot.models import *\n",
        "import json, os, time, requests\n",
        "from google.colab import drive\n",
        "# 掛載 Google Drive\n",
        "drive.mount('/content/drive')\n",
        "file_path = '/content/drive/My Drive/Colab Notebooks/LINE Bot/file/horror_piano chord.mp3'\n",
        "\n",
        "app = Flask(__name__)\n",
        "print(ngrok_url)\n",
        "\n",
        "# 你的 LINE Channel access token'\n",
        "access_token = '1LsBjlZcyZHF532sh2vn95OzByt7G71/pcFAq7G/YNOaFvmNitQxbzgLx/ZoBwN8NFZe/gQzhHdZimzjJq1R3uLbb296yZ2PQ5tuG4aChnje/myj8wiQlaANu7BpEfifBW70df64L54CWd+OUUEMJ1GUYhWQfeY8sLGRXgo3xvw='\n",
        "# 你的 LINE Channel access token\n",
        "channel_secret = '05ad96ecf63b4f2f886feb10425a2b43'\n",
        "\n",
        "# Channel Access Token\n",
        "line_bot_api = LineBotApi(access_token)\n",
        "# Channel Secret\n",
        "handler = WebhookHandler(channel_secret)\n",
        "# 設定 webhook url\n",
        "line_bot_api.set_webhook_endpoint(ngrok_url)\n",
        "\n",
        "# 監聽所有來自 LINE Bot Channel 的 Post Request\n",
        "@app.route(\"/\", methods=['POST'])\n",
        "def linebot():\n",
        "    # get X-Line-Signature header value\n",
        "    signature = request.headers['X-Line-Signature']\n",
        "    # 取得傳來的訊息文字\n",
        "    body = request.get_data(as_text=True)\n",
        "    print(f\"訊息內容 {body}\")\n",
        "    # 轉換訊息內容成 JSON 物件\n",
        "    json_data = json.loads(body)\n",
        "    # 驗證訊息正確性\n",
        "    try:\n",
        "        handler.handle(body, signature)\n",
        "    except InvalidSignatureError:\n",
        "        abort(400)\n",
        "    return 'OK'\n",
        "\n",
        "# 處理 LINE Bot channel 傳來訊息\n",
        "@handler.add(MessageEvent, message=TextMessage)\n",
        "def handle_message(event):\n",
        "        if event.message.text == '發送訊息':\n",
        "            url = 'https://line.me/R/share?text=恭喜發財!'\n",
        "            message = TextSendMessage(text = url)\n",
        "        elif event.message.text == '發送地點資訊':\n",
        "            url = 'https://line.me/R/nv/location/'\n",
        "            message = TextSendMessage(text = url)\n",
        "        elif event.message.text == 'camera':\n",
        "            url = 'https://line.me/R/nv/camera/'\n",
        "            message = TextSendMessage(text = url)\n",
        "        elif event.message.text == 'album':\n",
        "            url = 'https://line.me/R/nv/cameraRoll/single'\n",
        "            message = TextSendMessage(text = url)\n",
        "        elif event.message.text == 'sticker':\n",
        "            url = 'https://line.me/R/nv/settings/sticker'\n",
        "            message = TextSendMessage(text = url)\n",
        "        else:\n",
        "            message = TextSendMessage(text = '請輸入正確指令....')\n",
        "        line_bot_api.reply_message(event.reply_token, message)\n",
        "if __name__ == \"__main__\":\n",
        "  app.run()"
      ]
    }
  ],
  "metadata": {
    "colab": {
      "collapsed_sections": [
        "7IZ5TvKS3pmt"
      ],
      "provenance": [],
      "authorship_tag": "ABX9TyOf5Tlnu4rbgyLecIy/BKNj",
      "include_colab_link": true
    },
    "kernelspec": {
      "display_name": "Python 3",
      "name": "python3"
    },
    "language_info": {
      "name": "python"
    }
  },
  "nbformat": 4,
  "nbformat_minor": 0
}