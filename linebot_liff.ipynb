{
  "cells": [
    {
      "cell_type": "markdown",
      "metadata": {
        "id": "view-in-github",
        "colab_type": "text"
      },
      "source": [
        "<a href=\"https://colab.research.google.com/github/newsun87/google-colab-line_bot_learning/blob/main/linebot_liff.ipynb\" target=\"_parent\"><img src=\"https://colab.research.google.com/assets/colab-badge.svg\" alt=\"Open In Colab\"/></a>"
      ]
    },
    {
      "cell_type": "markdown",
      "metadata": {
        "id": "j7WUPgWH4OF2"
      },
      "source": [
        "### LIFF 註冊與管理\n",
        "LIFF 就是一個可以在 LINE APP 內運作的 Web APP  平台"
      ]
    },
    {
      "cell_type": "markdown",
      "metadata": {
        "id": "QU4VaaYtBaXQ"
      },
      "source": [
        "安裝 LINE Bot 相關套件"
      ]
    },
    {
      "cell_type": "code",
      "execution_count": 1,
      "metadata": {
        "colab": {
          "base_uri": "https://localhost:8080/"
        },
        "id": "VqnhjGV4YYKg",
        "outputId": "1c7f7bfa-4f0a-4862-b072-240ceb005d72"
      },
      "outputs": [
        {
          "output_type": "stream",
          "name": "stdout",
          "text": [
            "Collecting flask_ngrok\n",
            "  Downloading flask_ngrok-0.0.25-py3-none-any.whl (3.1 kB)\n",
            "Collecting pyngrok\n",
            "  Downloading pyngrok-7.0.0.tar.gz (718 kB)\n",
            "\u001b[2K     \u001b[90m━━━━━━━━━━━━━━━━━━━━━━━━━━━━━━━━━━━━━━━\u001b[0m \u001b[32m718.7/718.7 kB\u001b[0m \u001b[31m8.9 MB/s\u001b[0m eta \u001b[36m0:00:00\u001b[0m\n",
            "\u001b[?25h  Preparing metadata (setup.py) ... \u001b[?25l\u001b[?25hdone\n",
            "Requirement already satisfied: Flask>=0.8 in /usr/local/lib/python3.10/dist-packages (from flask_ngrok) (2.2.5)\n",
            "Requirement already satisfied: requests in /usr/local/lib/python3.10/dist-packages (from flask_ngrok) (2.31.0)\n",
            "Requirement already satisfied: PyYAML in /usr/local/lib/python3.10/dist-packages (from pyngrok) (6.0.1)\n",
            "Requirement already satisfied: Werkzeug>=2.2.2 in /usr/local/lib/python3.10/dist-packages (from Flask>=0.8->flask_ngrok) (2.3.7)\n",
            "Requirement already satisfied: Jinja2>=3.0 in /usr/local/lib/python3.10/dist-packages (from Flask>=0.8->flask_ngrok) (3.1.2)\n",
            "Requirement already satisfied: itsdangerous>=2.0 in /usr/local/lib/python3.10/dist-packages (from Flask>=0.8->flask_ngrok) (2.1.2)\n",
            "Requirement already satisfied: click>=8.0 in /usr/local/lib/python3.10/dist-packages (from Flask>=0.8->flask_ngrok) (8.1.7)\n",
            "Requirement already satisfied: charset-normalizer<4,>=2 in /usr/local/lib/python3.10/dist-packages (from requests->flask_ngrok) (3.2.0)\n",
            "Requirement already satisfied: idna<4,>=2.5 in /usr/local/lib/python3.10/dist-packages (from requests->flask_ngrok) (3.4)\n",
            "Requirement already satisfied: urllib3<3,>=1.21.1 in /usr/local/lib/python3.10/dist-packages (from requests->flask_ngrok) (2.0.5)\n",
            "Requirement already satisfied: certifi>=2017.4.17 in /usr/local/lib/python3.10/dist-packages (from requests->flask_ngrok) (2023.7.22)\n",
            "Requirement already satisfied: MarkupSafe>=2.0 in /usr/local/lib/python3.10/dist-packages (from Jinja2>=3.0->Flask>=0.8->flask_ngrok) (2.1.3)\n",
            "Building wheels for collected packages: pyngrok\n",
            "  Building wheel for pyngrok (setup.py) ... \u001b[?25l\u001b[?25hdone\n",
            "  Created wheel for pyngrok: filename=pyngrok-7.0.0-py3-none-any.whl size=21129 sha256=1a3ce810c32b312d05327b7c81bb512536a23df746a5172b65dcc5608b4f6d4a\n",
            "  Stored in directory: /root/.cache/pip/wheels/60/29/7b/f64332aa7e5e88fbd56d4002185ae22dcdc83b35b3d1c2cbf5\n",
            "Successfully built pyngrok\n",
            "Installing collected packages: pyngrok, flask_ngrok\n",
            "Successfully installed flask_ngrok-0.0.25 pyngrok-7.0.0\n",
            "Collecting Flask==2.0.3\n",
            "  Downloading Flask-2.0.3-py3-none-any.whl (95 kB)\n",
            "\u001b[2K     \u001b[90m━━━━━━━━━━━━━━━━━━━━━━━━━━━━━━━━━━━━━━━━\u001b[0m \u001b[32m95.6/95.6 kB\u001b[0m \u001b[31m2.1 MB/s\u001b[0m eta \u001b[36m0:00:00\u001b[0m\n",
            "\u001b[?25hRequirement already satisfied: Werkzeug>=2.0 in /usr/local/lib/python3.10/dist-packages (from Flask==2.0.3) (2.3.7)\n",
            "Requirement already satisfied: Jinja2>=3.0 in /usr/local/lib/python3.10/dist-packages (from Flask==2.0.3) (3.1.2)\n",
            "Requirement already satisfied: itsdangerous>=2.0 in /usr/local/lib/python3.10/dist-packages (from Flask==2.0.3) (2.1.2)\n",
            "Requirement already satisfied: click>=7.1.2 in /usr/local/lib/python3.10/dist-packages (from Flask==2.0.3) (8.1.7)\n",
            "Requirement already satisfied: MarkupSafe>=2.0 in /usr/local/lib/python3.10/dist-packages (from Jinja2>=3.0->Flask==2.0.3) (2.1.3)\n",
            "Installing collected packages: Flask\n",
            "  Attempting uninstall: Flask\n",
            "    Found existing installation: Flask 2.2.5\n",
            "    Uninstalling Flask-2.2.5:\n",
            "      Successfully uninstalled Flask-2.2.5\n",
            "Successfully installed Flask-2.0.3\n",
            "Collecting line-bot-sdk\n",
            "  Downloading line_bot_sdk-3.5.0-py2.py3-none-any.whl (736 kB)\n",
            "\u001b[2K     \u001b[90m━━━━━━━━━━━━━━━━━━━━━━━━━━━━━━━━━━━━━━━\u001b[0m \u001b[32m736.7/736.7 kB\u001b[0m \u001b[31m8.6 MB/s\u001b[0m eta \u001b[36m0:00:00\u001b[0m\n",
            "\u001b[?25hRequirement already satisfied: requests==2.31.0 in /usr/local/lib/python3.10/dist-packages (from line-bot-sdk) (2.31.0)\n",
            "Requirement already satisfied: aiohttp==3.8.5 in /usr/local/lib/python3.10/dist-packages (from line-bot-sdk) (3.8.5)\n",
            "Requirement already satisfied: future in /usr/local/lib/python3.10/dist-packages (from line-bot-sdk) (0.18.3)\n",
            "Collecting pydantic<3,>=2.0.3 (from line-bot-sdk)\n",
            "  Downloading pydantic-2.4.2-py3-none-any.whl (395 kB)\n",
            "\u001b[2K     \u001b[90m━━━━━━━━━━━━━━━━━━━━━━━━━━━━━━━━━━━━━━\u001b[0m \u001b[32m395.8/395.8 kB\u001b[0m \u001b[31m32.4 MB/s\u001b[0m eta \u001b[36m0:00:00\u001b[0m\n",
            "\u001b[?25hCollecting aenum>=3.1.11 (from line-bot-sdk)\n",
            "  Downloading aenum-3.1.15-py3-none-any.whl (137 kB)\n",
            "\u001b[2K     \u001b[90m━━━━━━━━━━━━━━━━━━━━━━━━━━━━━━━━━━━━━━\u001b[0m \u001b[32m137.6/137.6 kB\u001b[0m \u001b[31m13.0 MB/s\u001b[0m eta \u001b[36m0:00:00\u001b[0m\n",
            "\u001b[?25hRequirement already satisfied: python-dateutil>=2.5.3 in /usr/local/lib/python3.10/dist-packages (from line-bot-sdk) (2.8.2)\n",
            "Collecting Deprecated (from line-bot-sdk)\n",
            "  Downloading Deprecated-1.2.14-py2.py3-none-any.whl (9.6 kB)\n",
            "Requirement already satisfied: attrs>=17.3.0 in /usr/local/lib/python3.10/dist-packages (from aiohttp==3.8.5->line-bot-sdk) (23.1.0)\n",
            "Requirement already satisfied: charset-normalizer<4.0,>=2.0 in /usr/local/lib/python3.10/dist-packages (from aiohttp==3.8.5->line-bot-sdk) (3.2.0)\n",
            "Requirement already satisfied: multidict<7.0,>=4.5 in /usr/local/lib/python3.10/dist-packages (from aiohttp==3.8.5->line-bot-sdk) (6.0.4)\n",
            "Requirement already satisfied: async-timeout<5.0,>=4.0.0a3 in /usr/local/lib/python3.10/dist-packages (from aiohttp==3.8.5->line-bot-sdk) (4.0.3)\n",
            "Requirement already satisfied: yarl<2.0,>=1.0 in /usr/local/lib/python3.10/dist-packages (from aiohttp==3.8.5->line-bot-sdk) (1.9.2)\n",
            "Requirement already satisfied: frozenlist>=1.1.1 in /usr/local/lib/python3.10/dist-packages (from aiohttp==3.8.5->line-bot-sdk) (1.4.0)\n",
            "Requirement already satisfied: aiosignal>=1.1.2 in /usr/local/lib/python3.10/dist-packages (from aiohttp==3.8.5->line-bot-sdk) (1.3.1)\n",
            "Requirement already satisfied: idna<4,>=2.5 in /usr/local/lib/python3.10/dist-packages (from requests==2.31.0->line-bot-sdk) (3.4)\n",
            "Requirement already satisfied: urllib3<3,>=1.21.1 in /usr/local/lib/python3.10/dist-packages (from requests==2.31.0->line-bot-sdk) (2.0.5)\n",
            "Requirement already satisfied: certifi>=2017.4.17 in /usr/local/lib/python3.10/dist-packages (from requests==2.31.0->line-bot-sdk) (2023.7.22)\n",
            "Collecting annotated-types>=0.4.0 (from pydantic<3,>=2.0.3->line-bot-sdk)\n",
            "  Downloading annotated_types-0.5.0-py3-none-any.whl (11 kB)\n",
            "Collecting pydantic-core==2.10.1 (from pydantic<3,>=2.0.3->line-bot-sdk)\n",
            "  Downloading pydantic_core-2.10.1-cp310-cp310-manylinux_2_17_x86_64.manylinux2014_x86_64.whl (2.0 MB)\n",
            "\u001b[2K     \u001b[90m━━━━━━━━━━━━━━━━━━━━━━━━━━━━━━━━━━━━━━━━\u001b[0m \u001b[32m2.0/2.0 MB\u001b[0m \u001b[31m56.5 MB/s\u001b[0m eta \u001b[36m0:00:00\u001b[0m\n",
            "\u001b[?25hCollecting typing-extensions>=4.6.1 (from pydantic<3,>=2.0.3->line-bot-sdk)\n",
            "  Downloading typing_extensions-4.8.0-py3-none-any.whl (31 kB)\n",
            "Requirement already satisfied: six>=1.5 in /usr/local/lib/python3.10/dist-packages (from python-dateutil>=2.5.3->line-bot-sdk) (1.16.0)\n",
            "Requirement already satisfied: wrapt<2,>=1.10 in /usr/local/lib/python3.10/dist-packages (from Deprecated->line-bot-sdk) (1.15.0)\n",
            "Installing collected packages: aenum, typing-extensions, Deprecated, annotated-types, pydantic-core, pydantic, line-bot-sdk\n",
            "  Attempting uninstall: typing-extensions\n",
            "    Found existing installation: typing_extensions 4.5.0\n",
            "    Uninstalling typing_extensions-4.5.0:\n",
            "      Successfully uninstalled typing_extensions-4.5.0\n",
            "  Attempting uninstall: pydantic\n",
            "    Found existing installation: pydantic 1.10.13\n",
            "    Uninstalling pydantic-1.10.13:\n",
            "      Successfully uninstalled pydantic-1.10.13\n",
            "\u001b[31mERROR: pip's dependency resolver does not currently take into account all the packages that are installed. This behaviour is the source of the following dependency conflicts.\n",
            "tensorflow 2.13.0 requires typing-extensions<4.6.0,>=3.6.6, but you have typing-extensions 4.8.0 which is incompatible.\u001b[0m\u001b[31m\n",
            "\u001b[0mSuccessfully installed Deprecated-1.2.14 aenum-3.1.15 annotated-types-0.5.0 line-bot-sdk-3.5.0 pydantic-2.4.2 pydantic-core-2.10.1 typing-extensions-4.8.0\n",
            "Authtoken saved to configuration file: /root/.ngrok2/ngrok.yml\n"
          ]
        }
      ],
      "source": [
        "!pip install flask_ngrok pyngrok\n",
        "!pip install Flask==2.0.3\n",
        "!pip install line-bot-sdk\n",
        "!ngrok authtoken 2Sh3hFOuE9JYeMNTsS6EzBxHPIL_6xdGTubFt7b9kSeUDFVYH"
      ]
    },
    {
      "cell_type": "markdown",
      "metadata": {
        "id": "tVbDk1DuDrdR"
      },
      "source": [
        "產生 ngrok url"
      ]
    },
    {
      "cell_type": "code",
      "execution_count": null,
      "metadata": {
        "colab": {
          "base_uri": "https://localhost:8080/"
        },
        "id": "xMquSfg4C_Zy",
        "outputId": "1a769295-031f-4ab0-e32e-c2b4be02b71a"
      },
      "outputs": [
        {
          "name": "stderr",
          "output_type": "stream",
          "text": [
            "WARNING:pyngrok.process.ngrok:t=2023-10-04T11:42:34+0000 lvl=warn msg=\"ngrok config file found at legacy location, move to XDG location\" xdg_path=/root/.config/ngrok/ngrok.yml legacy_path=/root/.ngrok2/ngrok.yml\n"
          ]
        },
        {
          "name": "stdout",
          "output_type": "stream",
          "text": [
            "Public URL: https://afd1-34-125-199-30.ngrok-free.app\n"
          ]
        }
      ],
      "source": [
        "# 第一種寫法\n",
        "from pyngrok import ngrok\n",
        "\n",
        "# 開啟特定的 port\n",
        "ngrok_tunnel = ngrok.connect(5000)  # 這裡的 5000 是你想要開啟的 port 號\n",
        "\n",
        "# 取得公開的 URL\n",
        "ngrok_url = ngrok_tunnel.public_url\n",
        "print(f'Public URL: {ngrok_url}')"
      ]
    },
    {
      "cell_type": "markdown",
      "metadata": {
        "id": "K4ArR7OV2cpK"
      },
      "source": [
        "#### LIFF 申請\n",
        "使用 LINE Developers 申請\n",
        "1. 選擇 LINE Login\n",
        "2. 點選 LIFF 新增"
      ]
    },
    {
      "cell_type": "markdown",
      "metadata": {
        "id": "A31tVkwlsshm"
      },
      "source": [
        "#### 範例 申請一個 LIFF APP 可以嵌入一個網頁\n",
        "要求\n",
        "\n",
        "直接在 LINE 用戶端輸入 LIFF URL， 直接點選後可以打開 PCHOME 網頁。用戶輸入 LIFF，會出現按鈕選單"
      ]
    },
    {
      "cell_type": "markdown",
      "source": [
        "解決方法：\n",
        "直接申請一個 LIFF App，設定 PCHOME 網址並取的 LIFF APP URL"
      ],
      "metadata": {
        "id": "_7GadDoSHZ5B"
      }
    },
    {
      "cell_type": "markdown",
      "source": [
        "#### 範例 執行一個 LIFF Bot 可以嵌入一個 LIFF Web 網站\n",
        "要求\n",
        "當用戶輸入 『LIFF』，LINE APP 提供兩個按鈕選項 (Buttons) 的選單。\n",
        "1. 第一個選項：顯示 PCHOME LIFF URL\n",
        "2. 第二個選項：PCHOME (使用內嵌的方式， 導向 PCHOME 網頁)"
      ],
      "metadata": {
        "id": "LY__BEOmHw-E"
      }
    },
    {
      "cell_type": "code",
      "execution_count": 2,
      "metadata": {
        "colab": {
          "base_uri": "https://localhost:8080/"
        },
        "id": "bzkAck_Tsv4p",
        "outputId": "406995d2-19ed-44ea-bba1-06a6d413947b"
      },
      "outputs": [
        {
          "output_type": "stream",
          "name": "stderr",
          "text": [
            "WARNING:pyngrok.process.ngrok:t=2023-10-05T08:28:57+0000 lvl=warn msg=\"ngrok config file found at legacy location, move to XDG location\" xdg_path=/root/.config/ngrok/ngrok.yml legacy_path=/root/.ngrok2/ngrok.yml\n"
          ]
        },
        {
          "output_type": "stream",
          "name": "stdout",
          "text": [
            "https://e43c-34-148-217-66.ngrok-free.app\n"
          ]
        },
        {
          "output_type": "stream",
          "name": "stderr",
          "text": [
            "<ipython-input-2-ac539517dae5>:27: LineBotSdkDeprecatedIn30: Call to deprecated class LineBotApi. (Use v3 class; linebot.v3.<feature>. See https://github.com/line/line-bot-sdk-python/blob/master/README.rst for more details.) -- Deprecated since version 3.0.0.\n",
            "  line_bot_api = LineBotApi(access_token)\n",
            "<ipython-input-2-ac539517dae5>:29: LineBotSdkDeprecatedIn30: Call to deprecated class WebhookHandler. (Use 'from linebot.v3.webhook import WebhookHandler' instead. See https://github.com/line/line-bot-sdk-python/blob/master/README.rst for more details.) -- Deprecated since version 3.0.0.\n",
            "  handler = WebhookHandler(channel_secret)\n",
            "<ipython-input-2-ac539517dae5>:31: LineBotSdkDeprecatedIn30: Call to deprecated method set_webhook_endpoint. (Use 'from linebot.v3.messaging import MessagingApi' and 'MessagingApi(...).set_webhook_endpoint(...)' instead. See https://github.com/line/line-bot-sdk-python/blob/master/README.rst for more details.) -- Deprecated since version 3.0.0.\n",
            "  line_bot_api.set_webhook_endpoint(ngrok_url)\n"
          ]
        },
        {
          "output_type": "stream",
          "name": "stdout",
          "text": [
            " * Serving Flask app '__main__' (lazy loading)\n",
            " * Environment: production\n",
            "\u001b[31m   WARNING: This is a development server. Do not use it in a production deployment.\u001b[0m\n",
            "\u001b[2m   Use a production WSGI server instead.\u001b[0m\n",
            " * Debug mode: off\n"
          ]
        },
        {
          "output_type": "stream",
          "name": "stderr",
          "text": [
            "INFO:werkzeug:\u001b[31m\u001b[1mWARNING: This is a development server. Do not use it in a production deployment. Use a production WSGI server instead.\u001b[0m\n",
            " * Running on http://127.0.0.1:5000\n",
            "INFO:werkzeug:\u001b[33mPress CTRL+C to quit\u001b[0m\n"
          ]
        },
        {
          "output_type": "stream",
          "name": "stdout",
          "text": [
            "訊息內容 {\"destination\":\"Uef68021487469a005636e72e466f9acc\",\"events\":[{\"type\":\"message\",\"message\":{\"type\":\"text\",\"id\":\"475908007151534292\",\"quoteToken\":\"QoGDmshQhAP-UeIop5QF8UFIcmad3vXh1l8JtCU9apKns9NBBXeAuaFp-6idaLHi9WtbkI5H7OIofrRusNhwVw98w8vzr2bnohYyQhZNQctA45m0LUO5GGfXh5h8iDaK8xIrPpJmCy1R271-xcABlQ\",\"text\":\"LIFF\"},\"webhookEventId\":\"01HBZF9XWXQ9WEDWVA0EREE6YV\",\"deliveryContext\":{\"isRedelivery\":false},\"timestamp\":1696494581166,\"source\":{\"type\":\"user\",\"userId\":\"Ubf2b9f4188d45848fb4697d41c962591\"},\"replyToken\":\"3346fef19bce497cac2bf6ab4e25e3b1\",\"mode\":\"active\"}]}\n"
          ]
        },
        {
          "output_type": "stream",
          "name": "stderr",
          "text": [
            "<ipython-input-2-ac539517dae5>:73: LineBotSdkDeprecatedIn30: Call to deprecated method reply_message. (Use 'from linebot.v3.messaging import MessagingApi' and 'MessagingApi(...).reply_message(...)' instead. See https://github.com/line/line-bot-sdk-python/blob/master/README.rst for more details.) -- Deprecated since version 3.0.0.\n",
            "  line_bot_api.reply_message(event.reply_token, buttons_template_message )\n",
            "INFO:werkzeug:127.0.0.1 - - [05/Oct/2023 08:29:42] \"POST / HTTP/1.1\" 200 -\n",
            "INFO:werkzeug:127.0.0.1 - - [05/Oct/2023 08:30:12] \"POST / HTTP/1.1\" 200 -\n"
          ]
        },
        {
          "output_type": "stream",
          "name": "stdout",
          "text": [
            "訊息內容 {\"destination\":\"Uef68021487469a005636e72e466f9acc\",\"events\":[{\"type\":\"message\",\"message\":{\"type\":\"text\",\"id\":\"475908058170785812\",\"quoteToken\":\"-1uhqoeDyXp2ALtWbAKeKPs-mkEcBwWLrOe_JjFzW8QgtIfZZi1CoxqjTRCdxWZUWhLX_vu4SGOV1ptXpIiVYPRaQt9QCp0AVFpuuHibc0xPwMno1kUSyf_DFzhMmk_MPeO2RgItYd4CwoYHLPHhxg\",\"text\":\"https://liff.line.me/1654118646-BEy9ne26\"},\"webhookEventId\":\"01HBZFAVP68QJNGZW3DPZ5W9AC\",\"deliveryContext\":{\"isRedelivery\":false},\"timestamp\":1696494611659,\"source\":{\"type\":\"user\",\"userId\":\"Ubf2b9f4188d45848fb4697d41c962591\"},\"replyToken\":\"456e17c5c52a43108bdbd46033e62f67\",\"mode\":\"active\"}]}\n"
          ]
        }
      ],
      "source": [
        "from pyngrok import ngrok\n",
        "from flask import Flask, request, abort\n",
        "from linebot import (\n",
        "    LineBotApi, WebhookHandler\n",
        ")\n",
        "from linebot.exceptions import (\n",
        "    InvalidSignatureError\n",
        ")\n",
        "from linebot.models import *\n",
        "import json, os, time, requests\n",
        "\n",
        "def get_ngrokurl():\n",
        "   ngrok_tunnel = ngrok.connect(5000)  # 這裡的 5000 是你想要開啟的 port 號\n",
        "   # 取得公開的 URL\n",
        "   ngrok_url = ngrok_tunnel.public_url\n",
        "   return ngrok_url\n",
        "\n",
        "ngrok_url = get_ngrokurl()\n",
        "print(ngrok_url)\n",
        "\n",
        "# 你的 LINE Channel access token'\n",
        "access_token = 'hea6hI/LTc4FCcgIlR51IbcAjPWqy9QtsG5XX9Ce+4GwdfJH1EKl5/YOT3Hw4+aZOGWZSKcKPmEnUqzE4tOoBjPdvyVJJjIHwm9RN9/cWbwT7Je2GW7uNtaTSKysDrcW8F/BSEFJpywQo5Z9DXry6gdB04t89/1O/w1cDnyilFU='\n",
        "# 你的 LINE Channel access token\n",
        "channel_secret = '77ff5430fad4531107ca11f1c495e7dd'\n",
        "\n",
        "# Channel Access Token\n",
        "line_bot_api = LineBotApi(access_token)\n",
        "# Channel Secret\n",
        "handler = WebhookHandler(channel_secret)\n",
        "# 設定 webhook url\n",
        "line_bot_api.set_webhook_endpoint(ngrok_url)\n",
        "\n",
        "app = Flask(__name__)\n",
        "# 監聽所有來自 LINE Bot Channel 的 Post Request\n",
        "@app.route(\"/\", methods=['POST'])\n",
        "def linebot():\n",
        "    # get X-Line-Signature header value\n",
        "    signature = request.headers['X-Line-Signature']\n",
        "    # 取得傳來的訊息文字\n",
        "    body = request.get_data(as_text=True)\n",
        "    print(f\"訊息內容 {body}\")\n",
        "    # 轉換訊息內容成 JSON 物件\n",
        "    json_data = json.loads(body)\n",
        "    # 驗證訊息正確性\n",
        "    try:\n",
        "        handler.handle(body, signature)\n",
        "    except InvalidSignatureError:\n",
        "        abort(400)\n",
        "    return 'OK'\n",
        "\n",
        "# 處理訊息\n",
        "@handler.add(MessageEvent, message=TextMessage)\n",
        "def handle_message(event):\n",
        "    if event.message.text == 'LIFF':\n",
        "        buttons_template_message = TemplateSendMessage(\n",
        "         alt_text = '我是一個按鈕模板',\n",
        "         template = ButtonsTemplate(\n",
        "            thumbnail_image_url = 'https://i.imgur.com/mMEP9oC.png',\n",
        "            text = 'LIFF 測試',\n",
        "            actions = [\n",
        "                MessageAction(\n",
        "                    label = '顯示PCHOME LIFF URL',\n",
        "                    text = 'https://liff.line.me/1654118646-BEy9ne26'\n",
        "                ),\n",
        "                # 跳轉到URL\n",
        "                URIAction(\n",
        "                    label = 'PCHOME',\n",
        "                    uri = 'https://liff.line.me/1654118646-BEy9ne26'  # 跳轉到的url\n",
        "                )\n",
        "            ]\n",
        "         )\n",
        "        )\n",
        "        line_bot_api.reply_message(event.reply_token, buttons_template_message )\n",
        "\n",
        "if __name__ == \"__main__\":\n",
        "  app.run()"
      ]
    },
    {
      "cell_type": "markdown",
      "source": [
        "#### 範例 設計一個 LIFF APP 可以嵌入自己設計的網頁\n",
        "要求\n",
        "在 LINE APP 輸入 HTML page 文字，LINE Bot 回應  LIFF APP URL ， 點選後顯示內嵌網頁"
      ],
      "metadata": {
        "id": "WuKFdf_xDXha"
      }
    },
    {
      "cell_type": "code",
      "execution_count": 3,
      "metadata": {
        "colab": {
          "base_uri": "https://localhost:8080/"
        },
        "id": "Z8RylcEDtIeK",
        "outputId": "4b952597-b2d1-42b0-dd3e-53f27b1fe1a3"
      },
      "outputs": [
        {
          "output_type": "stream",
          "name": "stdout",
          "text": [
            "Drive already mounted at /content/drive; to attempt to forcibly remount, call drive.mount(\"/content/drive\", force_remount=True).\n",
            "https://ee66-34-148-217-66.ngrok-free.app\n"
          ]
        },
        {
          "output_type": "stream",
          "name": "stderr",
          "text": [
            "<ipython-input-3-9b9f2c26293b>:34: LineBotSdkDeprecatedIn30: Call to deprecated class LineBotApi. (Use v3 class; linebot.v3.<feature>. See https://github.com/line/line-bot-sdk-python/blob/master/README.rst for more details.) -- Deprecated since version 3.0.0.\n",
            "  line_bot_api = LineBotApi(access_token)\n",
            "<ipython-input-3-9b9f2c26293b>:36: LineBotSdkDeprecatedIn30: Call to deprecated class WebhookHandler. (Use 'from linebot.v3.webhook import WebhookHandler' instead. See https://github.com/line/line-bot-sdk-python/blob/master/README.rst for more details.) -- Deprecated since version 3.0.0.\n",
            "  handler = WebhookHandler(channel_secret)\n",
            "<ipython-input-3-9b9f2c26293b>:38: LineBotSdkDeprecatedIn30: Call to deprecated method set_webhook_endpoint. (Use 'from linebot.v3.messaging import MessagingApi' and 'MessagingApi(...).set_webhook_endpoint(...)' instead. See https://github.com/line/line-bot-sdk-python/blob/master/README.rst for more details.) -- Deprecated since version 3.0.0.\n",
            "  line_bot_api.set_webhook_endpoint(ngrok_url + '/callback')\n"
          ]
        },
        {
          "output_type": "stream",
          "name": "stdout",
          "text": [
            " * Serving Flask app '__main__' (lazy loading)\n",
            " * Environment: production\n",
            "\u001b[31m   WARNING: This is a development server. Do not use it in a production deployment.\u001b[0m\n",
            "\u001b[2m   Use a production WSGI server instead.\u001b[0m\n",
            " * Debug mode: off\n"
          ]
        },
        {
          "output_type": "stream",
          "name": "stderr",
          "text": [
            "INFO:werkzeug:\u001b[31m\u001b[1mWARNING: This is a development server. Do not use it in a production deployment. Use a production WSGI server instead.\u001b[0m\n",
            " * Running on http://127.0.0.1:5000\n",
            "INFO:werkzeug:\u001b[33mPress CTRL+C to quit\u001b[0m\n"
          ]
        },
        {
          "output_type": "stream",
          "name": "stdout",
          "text": [
            "訊息內容 {\"destination\":\"Uef68021487469a005636e72e466f9acc\",\"events\":[{\"type\":\"message\",\"message\":{\"type\":\"text\",\"id\":\"475913697949122595\",\"quoteToken\":\"z5TEqxd-aeBqY2MNKdXsqfR1rc1orExXrxuK392FY2v20Ulvl0J4HBjJ9CFi_gjK9ZeZh0dH3Zh-tMXv0Jk4qYWZxDLJwk3nZDo_-apYXa1ErZKTOl-VI4rdlR-oj5_uYMecTXFHytGafu48tbLmOA\",\"text\":\"Hi\"},\"webhookEventId\":\"01HBZJHEBBMCEWFVFM6K25WFXN\",\"deliveryContext\":{\"isRedelivery\":false},\"timestamp\":1696497973123,\"source\":{\"type\":\"user\",\"userId\":\"Ubf2b9f4188d45848fb4697d41c962591\"},\"replyToken\":\"a5316f05102f4f6aaf468a9c36e9a791\",\"mode\":\"active\"}]}\n"
          ]
        },
        {
          "output_type": "stream",
          "name": "stderr",
          "text": [
            "<ipython-input-3-9b9f2c26293b>:77: LineBotSdkDeprecatedIn30: Call to deprecated method reply_message. (Use 'from linebot.v3.messaging import MessagingApi' and 'MessagingApi(...).reply_message(...)' instead. See https://github.com/line/line-bot-sdk-python/blob/master/README.rst for more details.) -- Deprecated since version 3.0.0.\n",
            "  line_bot_api.reply_message(event.reply_token, message)\n",
            "INFO:werkzeug:127.0.0.1 - - [05/Oct/2023 09:26:14] \"POST /callback HTTP/1.1\" 200 -\n",
            "INFO:werkzeug:127.0.0.1 - - [05/Oct/2023 09:27:17] \"GET / HTTP/1.1\" 200 -\n",
            "INFO:werkzeug:127.0.0.1 - - [05/Oct/2023 09:27:17] \"\u001b[33mGET /liff-starter.js HTTP/1.1\u001b[0m\" 404 -\n",
            "INFO:werkzeug:127.0.0.1 - - [05/Oct/2023 09:27:17] \"\u001b[33mGET /style.css HTTP/1.1\u001b[0m\" 404 -\n",
            "INFO:werkzeug:127.0.0.1 - - [05/Oct/2023 09:27:18] \"\u001b[33mGET /liff-starter.js HTTP/1.1\u001b[0m\" 404 -\n",
            "INFO:werkzeug:127.0.0.1 - - [05/Oct/2023 09:27:18] \"\u001b[33mGET /favicon.ico HTTP/1.1\u001b[0m\" 404 -\n"
          ]
        }
      ],
      "source": [
        "from flask_ngrok import run_with_ngrok\n",
        "from flask import Flask, request, abort, render_template, url_for\n",
        "from linebot import (\n",
        "    LineBotApi, WebhookHandler\n",
        ")\n",
        "from linebot.exceptions import (\n",
        "    InvalidSignatureError\n",
        ")\n",
        "from linebot.models import *\n",
        "import json, os, time, requests\n",
        "from google.colab import drive\n",
        "import os, time, json\n",
        "import requests\n",
        "\n",
        "# 掛載 Google Drive\n",
        "drive.mount('/content/drive')\n",
        "\n",
        "def get_ngrokurl():\n",
        "    os.system(\"ps aux | grep ngrok.exe | awk '{print $2}' | xargs kill -9\")\n",
        "    os.system(\"nohup ngrok http 5000&\")\n",
        "    time.sleep(3)\n",
        "    public_url = json.loads(requests.get('http://localhost:4040/api/tunnels').text)['tunnels'][0]['public_url']\n",
        "    return public_url\n",
        "\n",
        "ngrok_url = get_ngrokurl()\n",
        "print(ngrok_url)\n",
        "\n",
        "# 你的 LINE Channel access token'\n",
        "access_token = 'hea6hI/LTc4FCcgIlR51IbcAjPWqy9QtsG5XX9Ce+4GwdfJH1EKl5/YOT3Hw4+aZOGWZSKcKPmEnUqzE4tOoBjPdvyVJJjIHwm9RN9/cWbwT7Je2GW7uNtaTSKysDrcW8F/BSEFJpywQo5Z9DXry6gdB04t89/1O/w1cDnyilFU='\n",
        "# 你的 LINE Channel access token\n",
        "channel_secret = '77ff5430fad4531107ca11f1c495e7dd'\n",
        "\n",
        "# Channel Access Token\n",
        "line_bot_api = LineBotApi(access_token)\n",
        "# Channel Secret\n",
        "handler = WebhookHandler(channel_secret)\n",
        "# 設定 webhook url\n",
        "line_bot_api.set_webhook_endpoint(ngrok_url + '/callback')\n",
        "\n",
        "file_path = '/content/drive/My Drive/Colab Notebooks/\\\n",
        "LINE_Bot/templates'\n",
        "app = Flask(__name__, template_folder=file_path)\n",
        "@app.route('/') # 根路徑路由請求\n",
        "def showIndex():\n",
        "  # 回應網頁 index.html\n",
        "  return render_template('index.html', name='')\n",
        "# /say_hello 路由路徑請求 (接收網頁送來的表單資料)\n",
        "@app.route('/say_hello', methods=['POST'])\n",
        "def submit():\n",
        " name = request.form.get('username') # 取得表單中填寫的資料\n",
        " # 回應用戶的資料\n",
        " return render_template('index.html', name=name)\n",
        "\n",
        "# 監聽所有來自 LINE Bot Channel 的 POST Request\n",
        "@app.route(\"/callback\", methods=['POST'])\n",
        "def linebot():\n",
        "    # get X-Line-Signature header value\n",
        "    signature = request.headers['X-Line-Signature']\n",
        "    # 取得傳來的訊息文字\n",
        "    body = request.get_data(as_text=True)\n",
        "    print(f\"訊息內容 {body}\")\n",
        "    # 轉換訊息內容成 JSON 物件\n",
        "    json_data = json.loads(body)\n",
        "    # 驗證訊息正確性\n",
        "    try:\n",
        "        handler.handle(body, signature)\n",
        "    except InvalidSignatureError:\n",
        "        abort(400)\n",
        "    return 'OK'\n",
        "\n",
        "# 處理訊息\n",
        "@handler.add(MessageEvent, message=TextMessage)\n",
        "def handle_text_message(event):\n",
        "    global ngrok_url\n",
        "    text = event.message.text\n",
        "    if text == 'Hi':\n",
        "      LIFF_URL = 'https://liff.line.me/1654118646-D0Z831aj'\n",
        "      message = TextSendMessage(text = 'LIFF URL = ' + LIFF_URL)\n",
        "      line_bot_api.reply_message(event.reply_token, message)\n",
        "\n",
        "if __name__ == \"__main__\":\n",
        "  app.run()"
      ]
    }
  ],
  "metadata": {
    "colab": {
      "collapsed_sections": [
        "7IZ5TvKS3pmt"
      ],
      "provenance": [],
      "mount_file_id": "14jtpA2kB4JqBXbWHX4gasSV8mODZjLhm",
      "authorship_tag": "ABX9TyMXmQXalh0YEqnN8dXJLZNy",
      "include_colab_link": true
    },
    "kernelspec": {
      "display_name": "Python 3",
      "name": "python3"
    },
    "language_info": {
      "name": "python"
    }
  },
  "nbformat": 4,
  "nbformat_minor": 0
}