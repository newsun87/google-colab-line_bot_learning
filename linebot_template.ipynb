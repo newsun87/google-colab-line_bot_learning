{
  "cells": [
    {
      "cell_type": "markdown",
      "metadata": {
        "id": "view-in-github",
        "colab_type": "text"
      },
      "source": [
        "<a href=\"https://colab.research.google.com/github/newsun87/google-colab-line_bot_learning/blob/main/linebot_template.ipynb\" target=\"_parent\"><img src=\"https://colab.research.google.com/assets/colab-badge.svg\" alt=\"Open In Colab\"/></a>"
      ]
    },
    {
      "cell_type": "markdown",
      "metadata": {
        "id": "j7WUPgWH4OF2"
      },
      "source": [
        "### flask\n",
        "https://www.jianshu.com/p/438dc54dc627"
      ]
    },
    {
      "cell_type": "markdown",
      "metadata": {
        "id": "QR-emyk7wf38"
      },
      "source": [
        "安裝套件及 ngrok 驗證"
      ]
    },
    {
      "cell_type": "code",
      "execution_count": 3,
      "metadata": {
        "id": "VqnhjGV4YYKg",
        "colab": {
          "base_uri": "https://localhost:8080/"
        },
        "outputId": "e320f5ba-0b6a-4f82-9e1d-a2fa9813ac5d"
      },
      "outputs": [
        {
          "output_type": "stream",
          "name": "stdout",
          "text": [
            "Collecting flask_ngrok\n",
            "  Downloading flask_ngrok-0.0.25-py3-none-any.whl (3.1 kB)\n",
            "Collecting pyngrok\n",
            "  Downloading pyngrok-6.0.0.tar.gz (681 kB)\n",
            "\u001b[2K     \u001b[90m━━━━━━━━━━━━━━━━━━━━━━━━━━━━━━━━━━━━━━━\u001b[0m \u001b[32m681.2/681.2 kB\u001b[0m \u001b[31m6.4 MB/s\u001b[0m eta \u001b[36m0:00:00\u001b[0m\n",
            "\u001b[?25h  Preparing metadata (setup.py) ... \u001b[?25l\u001b[?25hdone\n",
            "Requirement already satisfied: Flask>=0.8 in /usr/local/lib/python3.10/dist-packages (from flask_ngrok) (2.2.5)\n",
            "Requirement already satisfied: requests in /usr/local/lib/python3.10/dist-packages (from flask_ngrok) (2.31.0)\n",
            "Requirement already satisfied: PyYAML in /usr/local/lib/python3.10/dist-packages (from pyngrok) (6.0.1)\n",
            "Requirement already satisfied: Werkzeug>=2.2.2 in /usr/local/lib/python3.10/dist-packages (from Flask>=0.8->flask_ngrok) (2.3.7)\n",
            "Requirement already satisfied: Jinja2>=3.0 in /usr/local/lib/python3.10/dist-packages (from Flask>=0.8->flask_ngrok) (3.1.2)\n",
            "Requirement already satisfied: itsdangerous>=2.0 in /usr/local/lib/python3.10/dist-packages (from Flask>=0.8->flask_ngrok) (2.1.2)\n",
            "Requirement already satisfied: click>=8.0 in /usr/local/lib/python3.10/dist-packages (from Flask>=0.8->flask_ngrok) (8.1.7)\n",
            "Requirement already satisfied: charset-normalizer<4,>=2 in /usr/local/lib/python3.10/dist-packages (from requests->flask_ngrok) (3.2.0)\n",
            "Requirement already satisfied: idna<4,>=2.5 in /usr/local/lib/python3.10/dist-packages (from requests->flask_ngrok) (3.4)\n",
            "Requirement already satisfied: urllib3<3,>=1.21.1 in /usr/local/lib/python3.10/dist-packages (from requests->flask_ngrok) (2.0.4)\n",
            "Requirement already satisfied: certifi>=2017.4.17 in /usr/local/lib/python3.10/dist-packages (from requests->flask_ngrok) (2023.7.22)\n",
            "Requirement already satisfied: MarkupSafe>=2.0 in /usr/local/lib/python3.10/dist-packages (from Jinja2>=3.0->Flask>=0.8->flask_ngrok) (2.1.3)\n",
            "Building wheels for collected packages: pyngrok\n",
            "  Building wheel for pyngrok (setup.py) ... \u001b[?25l\u001b[?25hdone\n",
            "  Created wheel for pyngrok: filename=pyngrok-6.0.0-py3-none-any.whl size=19867 sha256=0090c3a79c57d128e5b661eded75bb4bb6ada484a3fdce8d183e5b9138d878cb\n",
            "  Stored in directory: /root/.cache/pip/wheels/5c/42/78/0c3d438d7f5730451a25f7ac6cbf4391759d22a67576ed7c2c\n",
            "Successfully built pyngrok\n",
            "Installing collected packages: pyngrok, flask_ngrok\n",
            "Successfully installed flask_ngrok-0.0.25 pyngrok-6.0.0\n",
            "Collecting Flask==2.0.3\n",
            "  Downloading Flask-2.0.3-py3-none-any.whl (95 kB)\n",
            "\u001b[2K     \u001b[90m━━━━━━━━━━━━━━━━━━━━━━━━━━━━━━━━━━━━━━━━\u001b[0m \u001b[32m95.6/95.6 kB\u001b[0m \u001b[31m2.4 MB/s\u001b[0m eta \u001b[36m0:00:00\u001b[0m\n",
            "\u001b[?25hRequirement already satisfied: Werkzeug>=2.0 in /usr/local/lib/python3.10/dist-packages (from Flask==2.0.3) (2.3.7)\n",
            "Requirement already satisfied: Jinja2>=3.0 in /usr/local/lib/python3.10/dist-packages (from Flask==2.0.3) (3.1.2)\n",
            "Requirement already satisfied: itsdangerous>=2.0 in /usr/local/lib/python3.10/dist-packages (from Flask==2.0.3) (2.1.2)\n",
            "Requirement already satisfied: click>=7.1.2 in /usr/local/lib/python3.10/dist-packages (from Flask==2.0.3) (8.1.7)\n",
            "Requirement already satisfied: MarkupSafe>=2.0 in /usr/local/lib/python3.10/dist-packages (from Jinja2>=3.0->Flask==2.0.3) (2.1.3)\n",
            "Installing collected packages: Flask\n",
            "  Attempting uninstall: Flask\n",
            "    Found existing installation: Flask 2.2.5\n",
            "    Uninstalling Flask-2.2.5:\n",
            "      Successfully uninstalled Flask-2.2.5\n",
            "Successfully installed Flask-2.0.3\n",
            "Collecting line-bot-sdk\n",
            "  Downloading line_bot_sdk-3.3.0-py2.py3-none-any.whl (730 kB)\n",
            "\u001b[2K     \u001b[90m━━━━━━━━━━━━━━━━━━━━━━━━━━━━━━━━━━━━━━━\u001b[0m \u001b[32m730.6/730.6 kB\u001b[0m \u001b[31m5.5 MB/s\u001b[0m eta \u001b[36m0:00:00\u001b[0m\n",
            "\u001b[?25hRequirement already satisfied: requests==2.31.0 in /usr/local/lib/python3.10/dist-packages (from line-bot-sdk) (2.31.0)\n",
            "Requirement already satisfied: aiohttp==3.8.5 in /usr/local/lib/python3.10/dist-packages (from line-bot-sdk) (3.8.5)\n",
            "Requirement already satisfied: future in /usr/local/lib/python3.10/dist-packages (from line-bot-sdk) (0.18.3)\n",
            "Requirement already satisfied: pydantic<3,>=2.0.3 in /usr/local/lib/python3.10/dist-packages (from line-bot-sdk) (2.2.1)\n",
            "Collecting aenum>=3.1.11 (from line-bot-sdk)\n",
            "  Downloading aenum-3.1.15-py3-none-any.whl (137 kB)\n",
            "\u001b[2K     \u001b[90m━━━━━━━━━━━━━━━━━━━━━━━━━━━━━━━━━━━━━━━\u001b[0m \u001b[32m137.6/137.6 kB\u001b[0m \u001b[31m7.9 MB/s\u001b[0m eta \u001b[36m0:00:00\u001b[0m\n",
            "\u001b[?25hRequirement already satisfied: python-dateutil>=2.5.3 in /usr/local/lib/python3.10/dist-packages (from line-bot-sdk) (2.8.2)\n",
            "Collecting Deprecated (from line-bot-sdk)\n",
            "  Downloading Deprecated-1.2.14-py2.py3-none-any.whl (9.6 kB)\n",
            "Requirement already satisfied: attrs>=17.3.0 in /usr/local/lib/python3.10/dist-packages (from aiohttp==3.8.5->line-bot-sdk) (23.1.0)\n",
            "Requirement already satisfied: charset-normalizer<4.0,>=2.0 in /usr/local/lib/python3.10/dist-packages (from aiohttp==3.8.5->line-bot-sdk) (3.2.0)\n",
            "Requirement already satisfied: multidict<7.0,>=4.5 in /usr/local/lib/python3.10/dist-packages (from aiohttp==3.8.5->line-bot-sdk) (6.0.4)\n",
            "Requirement already satisfied: async-timeout<5.0,>=4.0.0a3 in /usr/local/lib/python3.10/dist-packages (from aiohttp==3.8.5->line-bot-sdk) (4.0.3)\n",
            "Requirement already satisfied: yarl<2.0,>=1.0 in /usr/local/lib/python3.10/dist-packages (from aiohttp==3.8.5->line-bot-sdk) (1.9.2)\n",
            "Requirement already satisfied: frozenlist>=1.1.1 in /usr/local/lib/python3.10/dist-packages (from aiohttp==3.8.5->line-bot-sdk) (1.4.0)\n",
            "Requirement already satisfied: aiosignal>=1.1.2 in /usr/local/lib/python3.10/dist-packages (from aiohttp==3.8.5->line-bot-sdk) (1.3.1)\n",
            "Requirement already satisfied: idna<4,>=2.5 in /usr/local/lib/python3.10/dist-packages (from requests==2.31.0->line-bot-sdk) (3.4)\n",
            "Requirement already satisfied: urllib3<3,>=1.21.1 in /usr/local/lib/python3.10/dist-packages (from requests==2.31.0->line-bot-sdk) (2.0.4)\n",
            "Requirement already satisfied: certifi>=2017.4.17 in /usr/local/lib/python3.10/dist-packages (from requests==2.31.0->line-bot-sdk) (2023.7.22)\n",
            "Requirement already satisfied: annotated-types>=0.4.0 in /usr/local/lib/python3.10/dist-packages (from pydantic<3,>=2.0.3->line-bot-sdk) (0.5.0)\n",
            "Requirement already satisfied: pydantic-core==2.6.1 in /usr/local/lib/python3.10/dist-packages (from pydantic<3,>=2.0.3->line-bot-sdk) (2.6.1)\n",
            "Requirement already satisfied: typing-extensions>=4.6.1 in /usr/local/lib/python3.10/dist-packages (from pydantic<3,>=2.0.3->line-bot-sdk) (4.7.1)\n",
            "Requirement already satisfied: six>=1.5 in /usr/local/lib/python3.10/dist-packages (from python-dateutil>=2.5.3->line-bot-sdk) (1.16.0)\n",
            "Requirement already satisfied: wrapt<2,>=1.10 in /usr/local/lib/python3.10/dist-packages (from Deprecated->line-bot-sdk) (1.14.1)\n",
            "Installing collected packages: aenum, Deprecated, line-bot-sdk\n",
            "Successfully installed Deprecated-1.2.14 aenum-3.1.15 line-bot-sdk-3.3.0\n",
            "Authtoken saved to configuration file: /root/.ngrok2/ngrok.yml\n"
          ]
        }
      ],
      "source": [
        "!pip install flask_ngrok pyngrok\n",
        "!pip install Flask==2.0.3\n",
        "!pip install line-bot-sdk\n",
        "!ngrok authtoken 2Sh3hFOuE9JYeMNTsS6EzBxHPIL_6xdGTubFt7b9kSeUDFVYH"
      ]
    },
    {
      "cell_type": "markdown",
      "source": [
        "#### 發送樣板訊息\n",
        "1. Confirm 樣板\n",
        "2. Buttons 樣板\n",
        "3. Carsousel 樣板\n",
        "4. ImageCarsousel 樣板"
      ],
      "metadata": {
        "id": "JeNvNamo0sGd"
      }
    },
    {
      "cell_type": "markdown",
      "metadata": {
        "id": "3gsWf-8mgIaP"
      },
      "source": [
        "建立 LINE bot 框架伺服器，回應 Confirem template"
      ]
    },
    {
      "cell_type": "code",
      "execution_count": 15,
      "metadata": {
        "id": "AlvV9cGUgO21",
        "colab": {
          "base_uri": "https://localhost:8080/"
        },
        "outputId": "77e26d7f-d247-4585-c5e0-7fb3321b2e43"
      },
      "outputs": [
        {
          "output_type": "stream",
          "name": "stdout",
          "text": [
            "https://8f40-34-23-139-6.ngrok-free.app\n"
          ]
        },
        {
          "output_type": "stream",
          "name": "stderr",
          "text": [
            "<ipython-input-15-d64ea6bf8d6b>:28: LineBotSdkDeprecatedIn30: Call to deprecated class LineBotApi. (Use v3 class; linebot.v3.<feature>. See https://github.com/line/line-bot-sdk-python/blob/master/README.rst for more details.) -- Deprecated since version 3.0.0.\n",
            "  line_bot_api = LineBotApi(access_token)\n",
            "<ipython-input-15-d64ea6bf8d6b>:30: LineBotSdkDeprecatedIn30: Call to deprecated class WebhookHandler. (Use 'from linebot.v3.webhook import WebhookHandler' instead. See https://github.com/line/line-bot-sdk-python/blob/master/README.rst for more details.) -- Deprecated since version 3.0.0.\n",
            "  line_handler = WebhookHandler(channel_secret)\n",
            "<ipython-input-15-d64ea6bf8d6b>:32: LineBotSdkDeprecatedIn30: Call to deprecated method set_webhook_endpoint. (Use 'from linebot.v3.messaging import MessagingApi' and 'MessagingApi(...).set_webhook_endpoint(...)' instead. See https://github.com/line/line-bot-sdk-python/blob/master/README.rst for more details.) -- Deprecated since version 3.0.0.\n",
            "  line_bot_api.set_webhook_endpoint(ngrok_url+'/callback')\n"
          ]
        },
        {
          "output_type": "stream",
          "name": "stdout",
          "text": [
            " * Serving Flask app '__main__' (lazy loading)\n",
            " * Environment: production\n",
            "\u001b[31m   WARNING: This is a development server. Do not use it in a production deployment.\u001b[0m\n",
            "\u001b[2m   Use a production WSGI server instead.\u001b[0m\n",
            " * Debug mode: off\n"
          ]
        },
        {
          "output_type": "stream",
          "name": "stderr",
          "text": [
            "INFO:werkzeug:\u001b[31m\u001b[1mWARNING: This is a development server. Do not use it in a production deployment. Use a production WSGI server instead.\u001b[0m\n",
            " * Running on http://127.0.0.1:5000\n",
            "INFO:werkzeug:\u001b[33mPress CTRL+C to quit\u001b[0m\n"
          ]
        },
        {
          "output_type": "stream",
          "name": "stdout",
          "text": [
            "訊息內容 {'destination': 'Uef68021487469a005636e72e466f9acc', 'events': [{'type': 'message', 'message': {'type': 'text', 'id': '470350339519021395', 'text': 'confirm'}, 'webhookEventId': '01H8WR4HM7H4DG05RMV9JPJ3G5', 'deliveryContext': {'isRedelivery': False}, 'timestamp': 1693181953164, 'source': {'type': 'user', 'userId': 'Ubf2b9f4188d45848fb4697d41c962591'}, 'replyToken': '18b6020317404aa4940758817ad5855b', 'mode': 'active'}]}\n"
          ]
        },
        {
          "output_type": "stream",
          "name": "stderr",
          "text": [
            "<ipython-input-15-d64ea6bf8d6b>:78: LineBotSdkDeprecatedIn30: Call to deprecated method reply_message. (Use 'from linebot.v3.messaging import MessagingApi' and 'MessagingApi(...).reply_message(...)' instead. See https://github.com/line/line-bot-sdk-python/blob/master/README.rst for more details.) -- Deprecated since version 3.0.0.\n",
            "  line_bot_api.reply_message(event.reply_token, confirm_template_message)\n",
            "INFO:werkzeug:127.0.0.1 - - [28/Aug/2023 00:19:14] \"POST /callback HTTP/1.1\" 200 -\n"
          ]
        },
        {
          "output_type": "stream",
          "name": "stdout",
          "text": [
            "訊息內容 {'destination': 'Uef68021487469a005636e72e466f9acc', 'events': [{'type': 'message', 'message': {'type': 'text', 'id': '470350347622154354', 'text': 'No'}, 'webhookEventId': '01H8WR4P45MMMJJ53KW2M3ZRE9', 'deliveryContext': {'isRedelivery': False}, 'timestamp': 1693181958034, 'source': {'type': 'user', 'userId': 'Ubf2b9f4188d45848fb4697d41c962591'}, 'replyToken': 'c688a389945c474ead152ea46f3e41fd', 'mode': 'active'}]}\n"
          ]
        },
        {
          "output_type": "stream",
          "name": "stderr",
          "text": [
            "<ipython-input-15-d64ea6bf8d6b>:84: LineBotSdkDeprecatedIn30: Call to deprecated method reply_message. (Use 'from linebot.v3.messaging import MessagingApi' and 'MessagingApi(...).reply_message(...)' instead. See https://github.com/line/line-bot-sdk-python/blob/master/README.rst for more details.) -- Deprecated since version 3.0.0.\n",
            "  line_bot_api.reply_message(event.reply_token,  message)\n",
            "INFO:werkzeug:127.0.0.1 - - [28/Aug/2023 00:19:19] \"POST /callback HTTP/1.1\" 200 -\n"
          ]
        },
        {
          "output_type": "stream",
          "name": "stdout",
          "text": [
            "訊息內容 {'destination': 'Uef68021487469a005636e72e466f9acc', 'events': [{'type': 'message', 'message': {'type': 'text', 'id': '470350351514468353', 'text': 'Yes'}, 'webhookEventId': '01H8WR4RB8YMYXYH8A4W7GP6B3', 'deliveryContext': {'isRedelivery': False}, 'timestamp': 1693181960228, 'source': {'type': 'user', 'userId': 'Ubf2b9f4188d45848fb4697d41c962591'}, 'replyToken': 'da6a1abb6a644be68eb054bad52abf65', 'mode': 'active'}]}\n"
          ]
        },
        {
          "output_type": "stream",
          "name": "stderr",
          "text": [
            "<ipython-input-15-d64ea6bf8d6b>:81: LineBotSdkDeprecatedIn30: Call to deprecated method reply_message. (Use 'from linebot.v3.messaging import MessagingApi' and 'MessagingApi(...).reply_message(...)' instead. See https://github.com/line/line-bot-sdk-python/blob/master/README.rst for more details.) -- Deprecated since version 3.0.0.\n",
            "  line_bot_api.reply_message(event.reply_token,  message)\n",
            "INFO:werkzeug:127.0.0.1 - - [28/Aug/2023 00:19:21] \"POST /callback HTTP/1.1\" 200 -\n"
          ]
        }
      ],
      "source": [
        "from flask_ngrok import run_with_ngrok\n",
        "from flask import Flask, request, abort\n",
        "from linebot import LineBotApi, WebhookHandler\n",
        "from linebot.exceptions import InvalidSignatureError\n",
        "from linebot.models import *\n",
        "import json\n",
        "import os, time, requests\n",
        "\n",
        "# 設定 LINE Channel access token'\n",
        "access_token = 'hea6hI/LTc4FCcgIlR51IbcAjPWqy9QtsG5XX9Ce+4GwdfJH1EKl5/YOT3Hw4+aZOGWZSKcKPmEnUqzE4tOoBjPdvyVJJjIHwm9RN9/cWbwT7Je2GW7uNtaTSKysDrcW8F/BSEFJpywQo5Z9DXry6gdB04t89/1O/w1cDnyilFU='\n",
        "# 設定 LINE Channel access token\n",
        "channel_secret = '77ff5430fad4531107ca11f1c495e7dd'\n",
        "\n",
        "def get_ngrokurl():\n",
        "    os.system(\"ps aux | grep ngrok.exe | awk '{print $2}' | xargs kill -9\")\n",
        "    os.system(\"nohup ngrok http 5000&\")\n",
        "    time.sleep(3)\n",
        "    public_url = json.loads(requests.get('http://localhost:4040/api/tunnels').text)['tunnels'][0]['public_url']\n",
        "    return public_url\n",
        "\n",
        "ngrok_url = get_ngrokurl()\n",
        "print(ngrok_url)\n",
        "# 你的 LINE Channel access token'\n",
        "access_token = 'hea6hI/LTc4FCcgIlR51IbcAjPWqy9QtsG5XX9Ce+4GwdfJH1EKl5/YOT3Hw4+aZOGWZSKcKPmEnUqzE4tOoBjPdvyVJJjIHwm9RN9/cWbwT7Je2GW7uNtaTSKysDrcW8F/BSEFJpywQo5Z9DXry6gdB04t89/1O/w1cDnyilFU='\n",
        "# 你的 LINE Channel access token\n",
        "channel_secret = '77ff5430fad4531107ca11f1c495e7dd'\n",
        "# Channel Access Token\n",
        "line_bot_api = LineBotApi(access_token)\n",
        "# Channel Secret\n",
        "line_handler = WebhookHandler(channel_secret)\n",
        "# 設定 webhook url\n",
        "line_bot_api.set_webhook_endpoint(ngrok_url+'/callback')\n",
        "\n",
        "# 建立 confirm 樣板板中的按鈕選項\n",
        "option1 = MessageAction(\n",
        "                    label = '確認',  # 顯示按鈕名稱\n",
        "                    text = 'Yes', # 點擊後，用戶端發送的訊息文字\n",
        "                )\n",
        "option2 = MessageAction(\n",
        "                    label = '不訂',  # 顯示按鈕名稱\n",
        "                    text = 'No'  # 點擊後，用戶端發送的訊息文字\n",
        "                )\n",
        "\n",
        "# 建立 confirm 樣板\n",
        "confirm_template = ConfirmTemplate(\n",
        "     text = '你要訂晚餐嗎?', # 你要問的問題，或是文字敘述\n",
        "     actions = [option1, option2]\n",
        ")\n",
        "\n",
        "# 監聽所有來自 LINE Bot Channel 的 Post Request\n",
        "app = Flask(__name__)\n",
        "# 監聽所有來自 LINE Bot Channel 的 Post Request\n",
        "@app.route(\"/callback\", methods=['POST'])\n",
        "def linebot():\n",
        "    # get X-Line-Signature header value\n",
        "    signature = request.headers['X-Line-Signature']\n",
        "    # 取得傳來的訊息文字\n",
        "    body = request.get_data(as_text=True)\n",
        "    # 轉換訊息內容成 JSON 物件\n",
        "    json_data = json.loads(body)\n",
        "    print(f\"訊息內容 {json_data}\")\n",
        "    # 驗證訊息正確性\n",
        "    try:\n",
        "        line_handler.handle(body, signature)\n",
        "    except InvalidSignatureError:\n",
        "        abort(400)\n",
        "    return 'OK'\n",
        "\n",
        "# 處理訊息\n",
        "@line_handler.add(MessageEvent, message=TextMessage)\n",
        "def handle_message(event):\n",
        "   if event.message.text == 'confirm':\n",
        "    # 建立 confirm 樣板訊息\n",
        "     confirm_template_message = TemplateSendMessage(\n",
        "        alt_text = '我是一個確認模板', # 發送到群組的通知訊息\n",
        "        template = confirm_template\n",
        "    )\n",
        "     line_bot_api.reply_message(event.reply_token, confirm_template_message)\n",
        "   if event.message.text == 'Yes':\n",
        "    message = TextSendMessage(text='馬上幫你訂!')\n",
        "    line_bot_api.reply_message(event.reply_token,  message)\n",
        "   if event.message.text == 'No':\n",
        "    message = TextSendMessage(text='那就不訂喔!')\n",
        "    line_bot_api.reply_message(event.reply_token,  message)\n",
        "\n",
        "if __name__ == \"__main__\":\n",
        "  app.run()"
      ]
    },
    {
      "cell_type": "markdown",
      "source": [
        "建立 LINE bot 框架伺服器，回應 Buttons 樣板訊息"
      ],
      "metadata": {
        "id": "O0xHOhfv3FKM"
      }
    },
    {
      "cell_type": "code",
      "source": [
        "from flask_ngrok import run_with_ngrok\n",
        "from flask import Flask, request, abort\n",
        "from linebot import LineBotApi, WebhookHandler\n",
        "from linebot.exceptions import InvalidSignatureError\n",
        "from linebot.models import *\n",
        "import json\n",
        "import os, time, requests\n",
        "from datetime import datetime, timedelta\n",
        "\n",
        "def get_ngrokurl():\n",
        "    os.system(\"ps aux | grep ngrok.exe | awk '{print $2}' | xargs kill -9\")\n",
        "    os.system(\"nohup ngrok http 5000&\")\n",
        "    time.sleep(3)\n",
        "    public_url = json.loads(requests.get('http://localhost:4040/api/tunnels').text)['tunnels'][0]['public_url']\n",
        "    return public_url\n",
        "\n",
        "ngrok_url = get_ngrokurl()\n",
        "print(ngrok_url)\n",
        "# 你的 LINE Channel access token'\n",
        "access_token = 'hea6hI/LTc4FCcgIlR51IbcAjPWqy9QtsG5XX9Ce+4GwdfJH1EKl5/YOT3Hw4+aZOGWZSKcKPmEnUqzE4tOoBjPdvyVJJjIHwm9RN9/cWbwT7Je2GW7uNtaTSKysDrcW8F/BSEFJpywQo5Z9DXry6gdB04t89/1O/w1cDnyilFU='\n",
        "# 你的 LINE Channel access token\n",
        "channel_secret = '77ff5430fad4531107ca11f1c495e7dd'\n",
        "# Channel Access Token\n",
        "line_bot_api = LineBotApi(access_token)\n",
        "# Channel Secret\n",
        "line_handler = WebhookHandler(channel_secret)\n",
        "# 設定 webhook url\n",
        "line_bot_api.set_webhook_endpoint(ngrok_url+'/callback')\n",
        "\n",
        "# 建立 Buttons 樣板板中的按鈕選項\n",
        "option1 = PostbackAction(\n",
        "                    label = '打開電燈',  # 在按鈕選項的名稱\n",
        "                    text = '開燈',\n",
        "                    data = 'turn_on' # 用戶回呼文字 (看不到)\n",
        "                )\n",
        "option2 = MessageAction(\n",
        "                    label = '現在日期時間', # 在按鈕選項的名稱\n",
        "                    # 顯示現在的時間\n",
        "                    text = 'time'\n",
        "                )\n",
        "option3 = URIAction(\n",
        "                    label = 'Google',   # 在按鈕選項的名稱\n",
        "                    uri = 'https://www.google.com.tw/'  # 跳轉到的網站\n",
        "                )\n",
        "\n",
        "# 建立 Buttons 樣板\n",
        "buttons_template = ButtonsTemplate(\n",
        "    thumbnail_image_url = 'https://i.imgur.com/GDsd8KJ.jpg',\n",
        "    title = '按鈕樣板測試',  # 樣板標題名稱\n",
        "    text = '功能選單',  # 選單文字敘述\n",
        "    actions = [option1, option2, option3]\n",
        ")\n",
        "\n",
        "# 監聽所有來自 LINE Bot Channel 的 Post Request\n",
        "app = Flask(__name__)\n",
        "# 監聽所有來自 LINE Bot Channel 的 Post Request\n",
        "@app.route(\"/callback\", methods=['POST'])\n",
        "def linebot():\n",
        "    # get X-Line-Signature header value\n",
        "    signature = request.headers['X-Line-Signature']\n",
        "    # 取得傳來的訊息文字\n",
        "    body = request.get_data(as_text=True)\n",
        "    # 轉換訊息內容成 JSON 物件\n",
        "    json_data = json.loads(body)\n",
        "    print(f\"訊息內容 {json_data}\")\n",
        "    # 驗證訊息正確性\n",
        "    try:\n",
        "        line_handler.handle(body, signature)\n",
        "    except InvalidSignatureError:\n",
        "        abort(400)\n",
        "    return 'OK'\n",
        "\n",
        "# 處理訊息\n",
        "@line_handler.add(MessageEvent, message=TextMessage)\n",
        "def handle_message(event):\n",
        "   if event.message.text == 'buttons':\n",
        "    buttons_template_message = TemplateSendMessage(\n",
        "         alt_text = '我是一個按鈕選單模板',  # 發送到群組的通知訊息\n",
        "         template = buttons_template\n",
        "    )\n",
        "    line_bot_api.reply_message(event.reply_token,  buttons_template_message)\n",
        "   if event.message.text == 'time':\n",
        "    # 加上 8 小時得到台灣時間\n",
        "    taipei_time = datetime.now() + timedelta(hours=8)\n",
        "    timenow = taipei_time.strftime(\"%Y-%m-%d %H:%M:%S\")\n",
        "    message = TextSendMessage(text = timenow)\n",
        "    line_bot_api.reply_message(event.reply_token,  message)\n",
        "\n",
        "# 處理 Postback 事件\n",
        "@line_handler.add(PostbackEvent)\n",
        "def handle_postback_message(event):\n",
        "    postback = event.postback.data # 取得 Postback 事件的資料\n",
        "# -------------------------------------\n",
        "    if postback == 'turn_on':\n",
        "       message = TextSendMessage(text='電燈已打開!')\n",
        "       line_bot_api.reply_message(event.reply_token, message)\n",
        "\n",
        "if __name__ == \"__main__\":\n",
        "  app.run()"
      ],
      "metadata": {
        "colab": {
          "base_uri": "https://localhost:8080/"
        },
        "id": "AkK_1bwv049V",
        "outputId": "b29f6262-c16d-4760-cc8b-1808bfd754b3"
      },
      "execution_count": 20,
      "outputs": [
        {
          "output_type": "stream",
          "name": "stdout",
          "text": [
            "https://2193-34-83-245-156.ngrok-free.app\n"
          ]
        },
        {
          "output_type": "stream",
          "name": "stderr",
          "text": [
            "<ipython-input-20-f2562c4ddd77>:24: LineBotSdkDeprecatedIn30: Call to deprecated class LineBotApi. (Use v3 class; linebot.v3.<feature>. See https://github.com/line/line-bot-sdk-python/blob/master/README.rst for more details.) -- Deprecated since version 3.0.0.\n",
            "  line_bot_api = LineBotApi(access_token)\n",
            "<ipython-input-20-f2562c4ddd77>:26: LineBotSdkDeprecatedIn30: Call to deprecated class WebhookHandler. (Use 'from linebot.v3.webhook import WebhookHandler' instead. See https://github.com/line/line-bot-sdk-python/blob/master/README.rst for more details.) -- Deprecated since version 3.0.0.\n",
            "  line_handler = WebhookHandler(channel_secret)\n",
            "<ipython-input-20-f2562c4ddd77>:28: LineBotSdkDeprecatedIn30: Call to deprecated method set_webhook_endpoint. (Use 'from linebot.v3.messaging import MessagingApi' and 'MessagingApi(...).set_webhook_endpoint(...)' instead. See https://github.com/line/line-bot-sdk-python/blob/master/README.rst for more details.) -- Deprecated since version 3.0.0.\n",
            "  line_bot_api.set_webhook_endpoint(ngrok_url+'/callback')\n"
          ]
        },
        {
          "output_type": "stream",
          "name": "stdout",
          "text": [
            " * Serving Flask app '__main__' (lazy loading)\n",
            " * Environment: production\n",
            "\u001b[31m   WARNING: This is a development server. Do not use it in a production deployment.\u001b[0m\n",
            "\u001b[2m   Use a production WSGI server instead.\u001b[0m\n",
            " * Debug mode: off\n"
          ]
        },
        {
          "output_type": "stream",
          "name": "stderr",
          "text": [
            "INFO:werkzeug:\u001b[31m\u001b[1mWARNING: This is a development server. Do not use it in a production deployment. Use a production WSGI server instead.\u001b[0m\n",
            " * Running on http://127.0.0.1:5000\n",
            "INFO:werkzeug:\u001b[33mPress CTRL+C to quit\u001b[0m\n"
          ]
        },
        {
          "output_type": "stream",
          "name": "stdout",
          "text": [
            "訊息內容 {'destination': 'Uef68021487469a005636e72e466f9acc', 'events': [{'type': 'message', 'message': {'type': 'text', 'id': '470375275444568501', 'text': 'buttons'}, 'webhookEventId': '01H8X6A42558PZAQGXNEECBA71', 'deliveryContext': {'isRedelivery': False}, 'timestamp': 1693196816058, 'source': {'type': 'user', 'userId': 'Ubf2b9f4188d45848fb4697d41c962591'}, 'replyToken': 'bed17ad939804a4186a4d246563f4d2b', 'mode': 'active'}]}\n"
          ]
        },
        {
          "output_type": "stream",
          "name": "stderr",
          "text": [
            "<ipython-input-20-f2562c4ddd77>:81: LineBotSdkDeprecatedIn30: Call to deprecated method reply_message. (Use 'from linebot.v3.messaging import MessagingApi' and 'MessagingApi(...).reply_message(...)' instead. See https://github.com/line/line-bot-sdk-python/blob/master/README.rst for more details.) -- Deprecated since version 3.0.0.\n",
            "  line_bot_api.reply_message(event.reply_token,  buttons_template_message)\n",
            "INFO:werkzeug:127.0.0.1 - - [28/Aug/2023 04:26:57] \"POST /callback HTTP/1.1\" 200 -\n"
          ]
        },
        {
          "output_type": "stream",
          "name": "stdout",
          "text": [
            "訊息內容 {'destination': 'Uef68021487469a005636e72e466f9acc', 'events': [{'type': 'postback', 'postback': {'data': 'turn_on'}, 'webhookEventId': '01H8X6A8TPRJ85HG4PHEYMCE84', 'deliveryContext': {'isRedelivery': False}, 'timestamp': 1693196821294, 'source': {'type': 'user', 'userId': 'Ubf2b9f4188d45848fb4697d41c962591'}, 'replyToken': '883471b2841c4fbd85f7e4b49c4c158a', 'mode': 'active'}]}\n"
          ]
        },
        {
          "output_type": "stream",
          "name": "stderr",
          "text": [
            "<ipython-input-20-f2562c4ddd77>:96: LineBotSdkDeprecatedIn30: Call to deprecated method reply_message. (Use 'from linebot.v3.messaging import MessagingApi' and 'MessagingApi(...).reply_message(...)' instead. See https://github.com/line/line-bot-sdk-python/blob/master/README.rst for more details.) -- Deprecated since version 3.0.0.\n",
            "  line_bot_api.reply_message(event.reply_token, message)\n",
            "INFO:werkzeug:127.0.0.1 - - [28/Aug/2023 04:27:02] \"POST /callback HTTP/1.1\" 200 -\n",
            "INFO:werkzeug:127.0.0.1 - - [28/Aug/2023 04:27:02] \"POST /callback HTTP/1.1\" 200 -\n"
          ]
        },
        {
          "output_type": "stream",
          "name": "stdout",
          "text": [
            "訊息內容 {'destination': 'Uef68021487469a005636e72e466f9acc', 'events': [{'type': 'message', 'message': {'type': 'text', 'id': '470375284052066883', 'text': '開燈'}, 'webhookEventId': '01H8X6A8TRJM1PMKQXTFMT58RV', 'deliveryContext': {'isRedelivery': False}, 'timestamp': 1693196821294, 'source': {'type': 'user', 'userId': 'Ubf2b9f4188d45848fb4697d41c962591'}, 'replyToken': '4765856f71ee4e898d9d6ddca14aec2e', 'mode': 'active'}]}\n",
            "訊息內容 {'destination': 'Uef68021487469a005636e72e466f9acc', 'events': [{'type': 'message', 'message': {'type': 'text', 'id': '470375291668922530', 'text': 'time'}, 'webhookEventId': '01H8X6AD6GAQD3DZDSXY0REXSR', 'deliveryContext': {'isRedelivery': False}, 'timestamp': 1693196825754, 'source': {'type': 'user', 'userId': 'Ubf2b9f4188d45848fb4697d41c962591'}, 'replyToken': 'd0c5165cfca94178938f27939e7fe7ff', 'mode': 'active'}]}\n"
          ]
        },
        {
          "output_type": "stream",
          "name": "stderr",
          "text": [
            "<ipython-input-20-f2562c4ddd77>:87: LineBotSdkDeprecatedIn30: Call to deprecated method reply_message. (Use 'from linebot.v3.messaging import MessagingApi' and 'MessagingApi(...).reply_message(...)' instead. See https://github.com/line/line-bot-sdk-python/blob/master/README.rst for more details.) -- Deprecated since version 3.0.0.\n",
            "  line_bot_api.reply_message(event.reply_token,  message)\n",
            "INFO:werkzeug:127.0.0.1 - - [28/Aug/2023 04:27:06] \"POST /callback HTTP/1.1\" 200 -\n"
          ]
        }
      ]
    },
    {
      "cell_type": "markdown",
      "source": [
        "建立 LINE bot 框架伺服器，回應 Carousel template"
      ],
      "metadata": {
        "id": "rQUmvVZ5IvdZ"
      }
    },
    {
      "cell_type": "code",
      "source": [
        "from flask_ngrok import run_with_ngrok\n",
        "from flask import Flask, request, abort\n",
        "from linebot import LineBotApi, WebhookHandler\n",
        "from linebot.exceptions import InvalidSignatureError\n",
        "from linebot.models import *\n",
        "import json\n",
        "import os, time, requests\n",
        "from datetime import datetime, timedelta\n",
        "\n",
        "def get_ngrokurl():\n",
        "    os.system(\"ps aux | grep ngrok.exe | awk '{print $2}' | xargs kill -9\")\n",
        "    os.system(\"nohup ngrok http 5000&\")\n",
        "    time.sleep(3)\n",
        "    public_url = json.loads(requests.get('http://localhost:4040/api/tunnels').text)['tunnels'][0]['public_url']\n",
        "    return public_url\n",
        "\n",
        "ngrok_url = get_ngrokurl()\n",
        "print(ngrok_url)\n",
        "# 你的 LINE Channel access token'\n",
        "access_token = 'hea6hI/LTc4FCcgIlR51IbcAjPWqy9QtsG5XX9Ce+4GwdfJH1EKl5/YOT3Hw4+aZOGWZSKcKPmEnUqzE4tOoBjPdvyVJJjIHwm9RN9/cWbwT7Je2GW7uNtaTSKysDrcW8F/BSEFJpywQo5Z9DXry6gdB04t89/1O/w1cDnyilFU='\n",
        "# 你的 LINE Channel access token\n",
        "channel_secret = '77ff5430fad4531107ca11f1c495e7dd'\n",
        "# Channel Access Token\n",
        "line_bot_api = LineBotApi(access_token)\n",
        "# Channel Secret\n",
        "line_handler = WebhookHandler(channel_secret)\n",
        "# 設定 webhook url\n",
        "line_bot_api.set_webhook_endpoint(ngrok_url+'/callback')\n",
        "\n",
        "# 建立 Carousel 樣板中的卡片\n",
        "column1 = CarouselColumn(\n",
        "    thumbnail_image_url = 'https://i.imgur.com/VoqMKOs.jpg',\n",
        "    title = '我是狗狗',\n",
        "    text = '想餵我吃東西嗎？',\n",
        "    actions = [\n",
        "                PostbackAction(\n",
        "                     label = '想',\n",
        "                     data = 'Yes'\n",
        "                ),\n",
        "                PostbackAction(\n",
        "                     label = '不想',\n",
        "                     data = 'No'\n",
        "                ),\n",
        "                URIAction(\n",
        "                     label = '這是我的網址',\n",
        "                     uri = 'https://wepet.tw/'\n",
        "                )\n",
        "    ]\n",
        ")\n",
        "column2 = CarouselColumn(\n",
        "     thumbnail_image_url = 'https://i.imgur.com/Dve0c11.jpg',\n",
        "     title = '我是貓貓',\n",
        "     text = '想餵我吃東西嗎？',\n",
        "     actions = [\n",
        "                PostbackAction(\n",
        "                    label = '想',\n",
        "                    data = 'Yes'\n",
        "                ),\n",
        "                PostbackAction(\n",
        "                    label = '不想',\n",
        "                    data = 'No'\n",
        "                ),\n",
        "                URIAction(\n",
        "                    label = '這還是我的網址 ',\n",
        "                    uri = 'https://wepet.tw/'\n",
        "                )\n",
        "     ]\n",
        ")\n",
        "# 建立 Carousel 樣板\n",
        "columns = [column1, column2] # 收集卡片\n",
        "carousel_template = CarouselTemplate(columns=columns)\n",
        "\n",
        "# 監聽所有來自 LINE Bot Channel 的 Post Request\n",
        "app = Flask(__name__)\n",
        "# 監聽所有來自 LINE Bot Channel 的 Post Request\n",
        "@app.route(\"/callback\", methods=['POST'])\n",
        "def linebot():\n",
        "    # get X-Line-Signature header value\n",
        "    signature = request.headers['X-Line-Signature']\n",
        "    # 取得傳來的訊息文字\n",
        "    body = request.get_data(as_text=True)\n",
        "    # 轉換訊息內容成 JSON 物件\n",
        "    json_data = json.loads(body)\n",
        "    print(f\"訊息內容 {json_data}\")\n",
        "    # 驗證訊息正確性\n",
        "    try:\n",
        "        line_handler.handle(body, signature)\n",
        "    except InvalidSignatureError:\n",
        "        abort(400)\n",
        "    return 'OK'\n",
        "\n",
        "# 處理訊息\n",
        "@line_handler.add(MessageEvent, message=TextMessage)\n",
        "def handle_message(event):\n",
        "    if event.message.text == 'carousel':\n",
        "      # 建立 Carousel 樣板訊息\n",
        "      carousel_template_message = TemplateSendMessage(\n",
        "        alt_text='Carousel Template 訊息',\n",
        "        template = carousel_template\n",
        "      )\n",
        "      line_bot_api.reply_message(event.reply_token,  carousel_template_message)\n",
        "\n",
        "# 處理 Postback 事件\n",
        "@line_handler.add(PostbackEvent)\n",
        "def handle_postback_message(event):\n",
        "    postback = event.postback.data # 取得 Postback 事件的資料\n",
        "# -------------------------------------\n",
        "    if postback == 'Yes':\n",
        "       message = TextSendMessage(text='謝謝餵食，已經吃飽了!')\n",
        "    if postback == 'No':\n",
        "       message = TextSendMessage(text='沒關係，反正我也不餓!')\n",
        "    line_bot_api.reply_message(event.reply_token, message)\n",
        "\n",
        "if __name__ == \"__main__\":\n",
        "  app.run()"
      ],
      "metadata": {
        "id": "7eiskfqtIp6X",
        "colab": {
          "base_uri": "https://localhost:8080/"
        },
        "outputId": "749ac35c-548a-4192-ed08-428c2a50c647"
      },
      "execution_count": 18,
      "outputs": [
        {
          "output_type": "stream",
          "name": "stdout",
          "text": [
            "https://e036-34-83-245-156.ngrok-free.app\n"
          ]
        },
        {
          "output_type": "stream",
          "name": "stderr",
          "text": [
            "<ipython-input-18-1fc05361ae3b>:24: LineBotSdkDeprecatedIn30: Call to deprecated class LineBotApi. (Use v3 class; linebot.v3.<feature>. See https://github.com/line/line-bot-sdk-python/blob/master/README.rst for more details.) -- Deprecated since version 3.0.0.\n",
            "  line_bot_api = LineBotApi(access_token)\n",
            "<ipython-input-18-1fc05361ae3b>:26: LineBotSdkDeprecatedIn30: Call to deprecated class WebhookHandler. (Use 'from linebot.v3.webhook import WebhookHandler' instead. See https://github.com/line/line-bot-sdk-python/blob/master/README.rst for more details.) -- Deprecated since version 3.0.0.\n",
            "  line_handler = WebhookHandler(channel_secret)\n",
            "<ipython-input-18-1fc05361ae3b>:28: LineBotSdkDeprecatedIn30: Call to deprecated method set_webhook_endpoint. (Use 'from linebot.v3.messaging import MessagingApi' and 'MessagingApi(...).set_webhook_endpoint(...)' instead. See https://github.com/line/line-bot-sdk-python/blob/master/README.rst for more details.) -- Deprecated since version 3.0.0.\n",
            "  line_bot_api.set_webhook_endpoint(ngrok_url+'/callback')\n"
          ]
        },
        {
          "output_type": "stream",
          "name": "stdout",
          "text": [
            " * Serving Flask app '__main__' (lazy loading)\n",
            " * Environment: production\n",
            "\u001b[31m   WARNING: This is a development server. Do not use it in a production deployment.\u001b[0m\n",
            "\u001b[2m   Use a production WSGI server instead.\u001b[0m\n",
            " * Debug mode: off\n"
          ]
        },
        {
          "output_type": "stream",
          "name": "stderr",
          "text": [
            "INFO:werkzeug:\u001b[31m\u001b[1mWARNING: This is a development server. Do not use it in a production deployment. Use a production WSGI server instead.\u001b[0m\n",
            " * Running on http://127.0.0.1:5000\n",
            "INFO:werkzeug:\u001b[33mPress CTRL+C to quit\u001b[0m\n"
          ]
        },
        {
          "output_type": "stream",
          "name": "stdout",
          "text": [
            "訊息內容 {'destination': 'Uef68021487469a005636e72e466f9acc', 'events': [{'type': 'message', 'message': {'type': 'text', 'id': '470374307802382407', 'text': 'carousel'}, 'webhookEventId': '01H8X5RH2QJ5BAP4K61C4YA58M', 'deliveryContext': {'isRedelivery': False}, 'timestamp': 1693196239477, 'source': {'type': 'user', 'userId': 'Ubf2b9f4188d45848fb4697d41c962591'}, 'replyToken': 'fe86abcf29ba44bcb1cfdd08d15f069b', 'mode': 'active'}]}\n"
          ]
        },
        {
          "output_type": "stream",
          "name": "stderr",
          "text": [
            "<ipython-input-18-1fc05361ae3b>:100: LineBotSdkDeprecatedIn30: Call to deprecated method reply_message. (Use 'from linebot.v3.messaging import MessagingApi' and 'MessagingApi(...).reply_message(...)' instead. See https://github.com/line/line-bot-sdk-python/blob/master/README.rst for more details.) -- Deprecated since version 3.0.0.\n",
            "  line_bot_api.reply_message(event.reply_token,  carousel_template_message)\n",
            "INFO:werkzeug:127.0.0.1 - - [28/Aug/2023 04:17:20] \"POST /callback HTTP/1.1\" 200 -\n"
          ]
        }
      ]
    },
    {
      "cell_type": "markdown",
      "source": [
        "建立 LINE bot 框架伺服器，回應 ImageCarousel template"
      ],
      "metadata": {
        "id": "RdoGalBAebQx"
      }
    },
    {
      "cell_type": "code",
      "source": [
        "from flask_ngrok import run_with_ngrok\n",
        "from flask import Flask, request, abort\n",
        "from linebot import LineBotApi, WebhookHandler\n",
        "from linebot.exceptions import InvalidSignatureError\n",
        "from linebot.models import *\n",
        "import json\n",
        "import os, time, requests\n",
        "\n",
        "\n",
        "def get_ngrokurl():\n",
        "    os.system(\"ps aux | grep ngrok.exe | awk '{print $2}' | xargs kill -9\")\n",
        "    os.system(\"nohup ngrok http 5000&\")\n",
        "    time.sleep(3)\n",
        "    public_url = json.loads(requests.get('http://localhost:4040/api/tunnels').text)['tunnels'][0]['public_url']\n",
        "    return public_url\n",
        "\n",
        "ngrok_url = get_ngrokurl()\n",
        "print(ngrok_url)\n",
        "# 你的 LINE Channel access token'\n",
        "access_token = 'hea6hI/LTc4FCcgIlR51IbcAjPWqy9QtsG5XX9Ce+4GwdfJH1EKl5/YOT3Hw4+aZOGWZSKcKPmEnUqzE4tOoBjPdvyVJJjIHwm9RN9/cWbwT7Je2GW7uNtaTSKysDrcW8F/BSEFJpywQo5Z9DXry6gdB04t89/1O/w1cDnyilFU='\n",
        "# 你的 LINE Channel access token\n",
        "channel_secret = '77ff5430fad4531107ca11f1c495e7dd'\n",
        "# Channel Access Token\n",
        "line_bot_api = LineBotApi(access_token)\n",
        "# Channel Secret\n",
        "line_handler = WebhookHandler(channel_secret)\n",
        "# 設定 webhook url\n",
        "line_bot_api.set_webhook_endpoint(ngrok_url+'/callback')\n",
        "\n",
        "# 建立 ImageCarousel 樣板中的卡片\n",
        "column1 = ImageCarouselColumn(\n",
        "                image_url = 'https://i.imgur.com/MMblDTQ.png',  # 呈現圖片\n",
        "                action = PostbackAction(\n",
        "                    label = '水族箱打氣機',\n",
        "                    text='開關切換',\n",
        "                    data = 'switch1')\n",
        ")\n",
        "column2 = ImageCarouselColumn(\n",
        "                image_url = 'https://i.imgur.com/MMblDTQ.png',  # 呈現圖片\n",
        "                action = PostbackAction(\n",
        "                    label = '水族箱電燈',\n",
        "                    text='開關切換',\n",
        "                    data =  'switch2')\n",
        ")\n",
        "# 建立 ImageCarousel 樣板\n",
        "columns = [column1, column2] # 收集卡片\n",
        "carousel_template = ImageCarouselTemplate(columns=columns)\n",
        "\n",
        "# 監聽所有來自 LINE Bot Channel 的 Post Request\n",
        "app = Flask(__name__)\n",
        "# 監聽所有來自 LINE Bot Channel 的 Post Request\n",
        "@app.route(\"/callback\", methods=['POST'])\n",
        "def linebot():\n",
        "    # get X-Line-Signature header value\n",
        "    signature = request.headers['X-Line-Signature']\n",
        "    # 取得傳來的訊息文字\n",
        "    body = request.get_data(as_text=True)\n",
        "    # 轉換訊息內容成 JSON 物件\n",
        "    json_data = json.loads(body)\n",
        "    print(f\"訊息內容 {json_data}\")\n",
        "    # 驗證訊息正確性\n",
        "    try:\n",
        "        line_handler.handle(body, signature)\n",
        "    except InvalidSignatureError:\n",
        "        abort(400)\n",
        "    return 'OK'\n",
        "\n",
        "# 處理訊息\n",
        "@line_handler.add(MessageEvent, message=TextMessage)\n",
        "def handle_message(event):\n",
        "    if event.message.text == 'imagecarousel':\n",
        "      # 建立 Carousel 樣板訊息\n",
        "      carousel_template_message = TemplateSendMessage(\n",
        "        alt_text='Carousel Template 訊息',\n",
        "        template = carousel_template\n",
        "      )\n",
        "      line_bot_api.reply_message(event.reply_token,  carousel_template_message)\n",
        "\n",
        "# 處理 Postback 事件\n",
        "@line_handler.add(PostbackEvent)\n",
        "def handle_postback_message(event):\n",
        "    postback = event.postback.data # 取得 Postback 事件的資料\n",
        "# -------------------------------------\n",
        "    if postback == 'switch1':\n",
        "       message = TextSendMessage(text='水族箱打氣機開關已切換!')\n",
        "    if postback == 'switch2':\n",
        "       message = TextSendMessage(text='水族箱電燈開關已切換')\n",
        "    line_bot_api.reply_message(event.reply_token, message)\n",
        "\n",
        "if __name__ == \"__main__\":\n",
        "  app.run()"
      ],
      "metadata": {
        "id": "seMoJkkuN2D9",
        "colab": {
          "base_uri": "https://localhost:8080/"
        },
        "outputId": "859f8246-dc06-4713-c224-4cea0325ea3c"
      },
      "execution_count": 23,
      "outputs": [
        {
          "output_type": "stream",
          "name": "stdout",
          "text": [
            "https://4a28-34-83-245-156.ngrok-free.app\n"
          ]
        },
        {
          "output_type": "stream",
          "name": "stderr",
          "text": [
            "<ipython-input-23-8d852a6ed593>:24: LineBotSdkDeprecatedIn30: Call to deprecated class LineBotApi. (Use v3 class; linebot.v3.<feature>. See https://github.com/line/line-bot-sdk-python/blob/master/README.rst for more details.) -- Deprecated since version 3.0.0.\n",
            "  line_bot_api = LineBotApi(access_token)\n",
            "<ipython-input-23-8d852a6ed593>:26: LineBotSdkDeprecatedIn30: Call to deprecated class WebhookHandler. (Use 'from linebot.v3.webhook import WebhookHandler' instead. See https://github.com/line/line-bot-sdk-python/blob/master/README.rst for more details.) -- Deprecated since version 3.0.0.\n",
            "  line_handler = WebhookHandler(channel_secret)\n",
            "<ipython-input-23-8d852a6ed593>:28: LineBotSdkDeprecatedIn30: Call to deprecated method set_webhook_endpoint. (Use 'from linebot.v3.messaging import MessagingApi' and 'MessagingApi(...).set_webhook_endpoint(...)' instead. See https://github.com/line/line-bot-sdk-python/blob/master/README.rst for more details.) -- Deprecated since version 3.0.0.\n",
            "  line_bot_api.set_webhook_endpoint(ngrok_url+'/callback')\n"
          ]
        },
        {
          "output_type": "stream",
          "name": "stdout",
          "text": [
            " * Serving Flask app '__main__' (lazy loading)\n",
            " * Environment: production\n",
            "\u001b[31m   WARNING: This is a development server. Do not use it in a production deployment.\u001b[0m\n",
            "\u001b[2m   Use a production WSGI server instead.\u001b[0m\n",
            " * Debug mode: off\n"
          ]
        },
        {
          "output_type": "stream",
          "name": "stderr",
          "text": [
            "INFO:werkzeug:\u001b[31m\u001b[1mWARNING: This is a development server. Do not use it in a production deployment. Use a production WSGI server instead.\u001b[0m\n",
            " * Running on http://127.0.0.1:5000\n",
            "INFO:werkzeug:\u001b[33mPress CTRL+C to quit\u001b[0m\n"
          ]
        },
        {
          "output_type": "stream",
          "name": "stdout",
          "text": [
            "訊息內容 {'destination': 'Uef68021487469a005636e72e466f9acc', 'events': [{'type': 'message', 'message': {'type': 'text', 'id': '470380263998750803', 'text': 'imagecarousel'}, 'webhookEventId': '01H8X94VV7VRH4HR2TY449C9PJ', 'deliveryContext': {'isRedelivery': False}, 'timestamp': 1693199789484, 'source': {'type': 'user', 'userId': 'Ubf2b9f4188d45848fb4697d41c962591'}, 'replyToken': '1d609fbdb1294abdbb625f1c3f3c159c', 'mode': 'active'}]}\n"
          ]
        },
        {
          "output_type": "stream",
          "name": "stderr",
          "text": [
            "<ipython-input-23-8d852a6ed593>:76: LineBotSdkDeprecatedIn30: Call to deprecated method reply_message. (Use 'from linebot.v3.messaging import MessagingApi' and 'MessagingApi(...).reply_message(...)' instead. See https://github.com/line/line-bot-sdk-python/blob/master/README.rst for more details.) -- Deprecated since version 3.0.0.\n",
            "  line_bot_api.reply_message(event.reply_token,  carousel_template_message)\n",
            "INFO:werkzeug:127.0.0.1 - - [28/Aug/2023 05:16:32] \"POST /callback HTTP/1.1\" 200 -\n"
          ]
        },
        {
          "output_type": "stream",
          "name": "stdout",
          "text": [
            "訊息內容 {'destination': 'Uef68021487469a005636e72e466f9acc', 'events': [{'type': 'postback', 'postback': {'data': 'switch1'}, 'webhookEventId': '01H8X94ZT05J4M7TFSQ64ENAJQ', 'deliveryContext': {'isRedelivery': False}, 'timestamp': 1693199793543, 'source': {'type': 'user', 'userId': 'Ubf2b9f4188d45848fb4697d41c962591'}, 'replyToken': '37b8a5b6b9ef4c90a8ae2099b8b522f2', 'mode': 'active'}]}\n"
          ]
        },
        {
          "output_type": "stream",
          "name": "stderr",
          "text": [
            "<ipython-input-23-8d852a6ed593>:87: LineBotSdkDeprecatedIn30: Call to deprecated method reply_message. (Use 'from linebot.v3.messaging import MessagingApi' and 'MessagingApi(...).reply_message(...)' instead. See https://github.com/line/line-bot-sdk-python/blob/master/README.rst for more details.) -- Deprecated since version 3.0.0.\n",
            "  line_bot_api.reply_message(event.reply_token, message)\n",
            "INFO:werkzeug:127.0.0.1 - - [28/Aug/2023 05:16:34] \"POST /callback HTTP/1.1\" 200 -\n",
            "INFO:werkzeug:127.0.0.1 - - [28/Aug/2023 05:16:35] \"POST /callback HTTP/1.1\" 200 -\n"
          ]
        },
        {
          "output_type": "stream",
          "name": "stdout",
          "text": [
            "訊息內容 {'destination': 'Uef68021487469a005636e72e466f9acc', 'events': [{'type': 'message', 'message': {'type': 'text', 'id': '470380270843855189', 'text': '開關切換'}, 'webhookEventId': '01H8X94ZT1K2G973RGFV80H37J', 'deliveryContext': {'isRedelivery': False}, 'timestamp': 1693199793543, 'source': {'type': 'user', 'userId': 'Ubf2b9f4188d45848fb4697d41c962591'}, 'replyToken': '519a97a34ef548958e24776edbdc831b', 'mode': 'active'}]}\n",
            "訊息內容 {'destination': 'Uef68021487469a005636e72e466f9acc', 'events': [{'type': 'postback', 'postback': {'data': 'switch2'}, 'webhookEventId': '01H8X953Y4YHP37AZH7494Q6FZ', 'deliveryContext': {'isRedelivery': False}, 'timestamp': 1693199798013, 'source': {'type': 'user', 'userId': 'Ubf2b9f4188d45848fb4697d41c962591'}, 'replyToken': 'b6721dda800341e084e3b8b4e5861c2c', 'mode': 'active'}, {'type': 'message', 'message': {'type': 'text', 'id': '470380278209314930', 'text': '開關切換'}, 'webhookEventId': '01H8X953Y5V8S34K89J1A7J472', 'deliveryContext': {'isRedelivery': False}, 'timestamp': 1693199798014, 'source': {'type': 'user', 'userId': 'Ubf2b9f4188d45848fb4697d41c962591'}, 'replyToken': 'beb0362f1dd5426c8b8bf9394e728793', 'mode': 'active'}]}\n"
          ]
        },
        {
          "output_type": "stream",
          "name": "stderr",
          "text": [
            "INFO:werkzeug:127.0.0.1 - - [28/Aug/2023 05:16:39] \"POST /callback HTTP/1.1\" 200 -\n"
          ]
        },
        {
          "output_type": "stream",
          "name": "stdout",
          "text": [
            "訊息內容 {'destination': 'Uef68021487469a005636e72e466f9acc', 'events': [{'type': 'postback', 'postback': {'data': 'switch2'}, 'webhookEventId': '01H8X9GC81F7MZ5W3B8D832C1X', 'deliveryContext': {'isRedelivery': False}, 'timestamp': 1693200166899, 'source': {'type': 'user', 'userId': 'Ubf2b9f4188d45848fb4697d41c962591'}, 'replyToken': '01ff9c998b3a4d0ca7a713ae9ee32108', 'mode': 'active'}]}\n"
          ]
        },
        {
          "output_type": "stream",
          "name": "stderr",
          "text": [
            "INFO:werkzeug:127.0.0.1 - - [28/Aug/2023 05:22:48] \"POST /callback HTTP/1.1\" 200 -\n",
            "INFO:werkzeug:127.0.0.1 - - [28/Aug/2023 05:22:48] \"POST /callback HTTP/1.1\" 200 -\n"
          ]
        },
        {
          "output_type": "stream",
          "name": "stdout",
          "text": [
            "訊息內容 {'destination': 'Uef68021487469a005636e72e466f9acc', 'events': [{'type': 'message', 'message': {'type': 'text', 'id': '470380897071006148', 'text': '開關切換'}, 'webhookEventId': '01H8X9GC83G7CD7PTG0VG3Z3AF', 'deliveryContext': {'isRedelivery': False}, 'timestamp': 1693200166900, 'source': {'type': 'user', 'userId': 'Ubf2b9f4188d45848fb4697d41c962591'}, 'replyToken': 'f3d5c71cb7314495b4248138604e576c', 'mode': 'active'}]}\n"
          ]
        }
      ]
    }
  ],
  "metadata": {
    "colab": {
      "collapsed_sections": [
        "7IZ5TvKS3pmt"
      ],
      "provenance": [],
      "authorship_tag": "ABX9TyMAOuxu5zoomFCOUwpKHsUf",
      "include_colab_link": true
    },
    "kernelspec": {
      "display_name": "Python 3",
      "name": "python3"
    },
    "language_info": {
      "name": "python"
    }
  },
  "nbformat": 4,
  "nbformat_minor": 0
}